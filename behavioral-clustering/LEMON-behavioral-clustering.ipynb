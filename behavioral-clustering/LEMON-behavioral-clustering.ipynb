{
 "cells": [
  {
   "cell_type": "markdown",
   "id": "49d9027e-fa6b-4ecd-96c2-14f1affcd223",
   "metadata": {
    "tags": []
   },
   "source": [
    "# Sigrid Juselius 2022"
   ]
  },
  {
   "cell_type": "markdown",
   "id": "ab6236df-387f-432e-b4fd-dd1c544f848d",
   "metadata": {},
   "source": [
    "# LEMON Dataset Behavioural clustering"
   ]
  },
  {
   "cell_type": "markdown",
   "id": "cc15c0a5-e419-48c1-bc9c-4b93a13ef8c8",
   "metadata": {},
   "source": [
    "Link to dataset description website:\n",
    "http://fcon_1000.projects.nitrc.org/indi/retro/MPI_LEMON.html\n",
    "\n",
    "Link to publication describing the dataset:\n",
    "https://www.nature.com/articles/sdata2018308"
   ]
  },
  {
   "cell_type": "code",
   "execution_count": 3,
   "id": "4dc1bc17-3eb5-478f-a0b4-4b74c4ee0ec9",
   "metadata": {},
   "outputs": [],
   "source": [
    "'''\n",
    "\n",
    "If SAVE_FILES set to True, the script will generate processed data files and plots.\n",
    "False by default.\n",
    "\n",
    "If VERBOSE set to True, the script will output additional information.\n",
    "False by default.\n",
    "'''\n",
    "SAVE_FILES = False\n",
    "VERBOSE = False"
   ]
  },
  {
   "cell_type": "markdown",
   "id": "bc6b3c65-5804-4028-8575-f363762f2df4",
   "metadata": {
    "jp-MarkdownHeadingCollapsed": true,
    "tags": []
   },
   "source": [
    "## Import packages and set data folders "
   ]
  },
  {
   "cell_type": "code",
   "execution_count": 4,
   "id": "45c8c3fd",
   "metadata": {},
   "outputs": [],
   "source": [
    "import pandas as pd\n",
    "import plotly.express as px\n",
    "from sklearn.decomposition import PCA\n",
    "import sys\n",
    "import pickle as pkl"
   ]
  },
  {
   "cell_type": "code",
   "execution_count": 5,
   "id": "6e9f4607",
   "metadata": {},
   "outputs": [
    {
     "name": "stdout",
     "output_type": "stream",
     "text": [
      "/Users/artemii/obrain_lab/projects/obesity-types/datasets/mind-brain-body/Behavioural_Data_MPILMBB_LEMON\n"
     ]
    },
    {
     "data": {
      "text/plain": [
       "'/Users/artemii/obrain_lab/projects/obesity-types/datasets/mind-brain-body/Behavioural_Data_MPILMBB_LEMON'"
      ]
     },
     "execution_count": 5,
     "metadata": {},
     "output_type": "execute_result"
    }
   ],
   "source": [
    "DATASET_PATH = \"/Users/artemii/obrain_lab/projects/obesity-types/datasets/mind-brain-body/Behavioural_Data_MPILMBB_LEMON/\"\n",
    "SCRIPTS_PATH = \"/Users/artemii/obrain_lab/projects/obesity-types/grant-proposals/sigrid-juselius-2022/scripts/\"\n",
    "%cd {DATASET_PATH}\n",
    "%pwd"
   ]
  },
  {
   "cell_type": "markdown",
   "id": "848e0c1c-5d1b-4a01-bc0f-6bfb529d1a80",
   "metadata": {
    "tags": [],
    "toc-hr-collapsed": true
   },
   "source": [
    "## Data Cleaning"
   ]
  },
  {
   "cell_type": "code",
   "execution_count": 6,
   "id": "a6015857",
   "metadata": {
    "scrolled": true
   },
   "outputs": [
    {
     "data": {
      "text/html": [
       "<div>\n",
       "<style scoped>\n",
       "    .dataframe tbody tr th:only-of-type {\n",
       "        vertical-align: middle;\n",
       "    }\n",
       "\n",
       "    .dataframe tbody tr th {\n",
       "        vertical-align: top;\n",
       "    }\n",
       "\n",
       "    .dataframe thead th {\n",
       "        text-align: right;\n",
       "    }\n",
       "</style>\n",
       "<table border=\"1\" class=\"dataframe\">\n",
       "  <thead>\n",
       "    <tr style=\"text-align: right;\">\n",
       "      <th></th>\n",
       "      <th>Unnamed: 0</th>\n",
       "      <th>Gender_ 1=female_2=male</th>\n",
       "      <th>Age</th>\n",
       "      <th>Handedness</th>\n",
       "      <th>Education</th>\n",
       "      <th>DRUG</th>\n",
       "      <th>DRUG_0=negative_1=Positive</th>\n",
       "      <th>Unnamed: 7</th>\n",
       "      <th>Smoking</th>\n",
       "      <th>Smoking_num_(Non-smoker=1, Occasional Smoker=2, Smoker=3)</th>\n",
       "      <th>...</th>\n",
       "      <th>SKID_Diagnoses 1</th>\n",
       "      <th>SKID_Diagnoses 2</th>\n",
       "      <th>Comments_SKID_assessment</th>\n",
       "      <th>Hamilton_Scale</th>\n",
       "      <th>BSL23_sumscore</th>\n",
       "      <th>BSL23_behavior</th>\n",
       "      <th>AUDIT</th>\n",
       "      <th>Standard_Alcoholunits_Last_28days</th>\n",
       "      <th>Alcohol_Dependence_In_1st-3rd_Degree_relative</th>\n",
       "      <th>Relationship_Status</th>\n",
       "    </tr>\n",
       "  </thead>\n",
       "  <tbody>\n",
       "    <tr>\n",
       "      <th>0</th>\n",
       "      <td>sub-032311</td>\n",
       "      <td>2</td>\n",
       "      <td>20-25</td>\n",
       "      <td>right</td>\n",
       "      <td>Gymnasium</td>\n",
       "      <td>negative</td>\n",
       "      <td>0.0</td>\n",
       "      <td>NaN</td>\n",
       "      <td>non-smoker</td>\n",
       "      <td>1.0</td>\n",
       "      <td>...</td>\n",
       "      <td>#CODE:V71.09  #DESC:No Diagnosis or Condition ...</td>\n",
       "      <td>NaN</td>\n",
       "      <td>NaN</td>\n",
       "      <td>0.0</td>\n",
       "      <td>NaN</td>\n",
       "      <td>NaN</td>\n",
       "      <td>12.0</td>\n",
       "      <td>47</td>\n",
       "      <td>No</td>\n",
       "      <td>No</td>\n",
       "    </tr>\n",
       "    <tr>\n",
       "      <th>1</th>\n",
       "      <td>sub-032309</td>\n",
       "      <td>2</td>\n",
       "      <td>20-25</td>\n",
       "      <td>right</td>\n",
       "      <td>Gymnasium</td>\n",
       "      <td>negative</td>\n",
       "      <td>0.0</td>\n",
       "      <td>NaN</td>\n",
       "      <td>occasional smoker</td>\n",
       "      <td>2.0</td>\n",
       "      <td>...</td>\n",
       "      <td>#CODE:V71.09  #DESC:No Diagnosis or Condition ...</td>\n",
       "      <td>NaN</td>\n",
       "      <td>NaN</td>\n",
       "      <td>0.0</td>\n",
       "      <td>NaN</td>\n",
       "      <td>NaN</td>\n",
       "      <td>12.0</td>\n",
       "      <td>45</td>\n",
       "      <td>Yes</td>\n",
       "      <td>Yes</td>\n",
       "    </tr>\n",
       "    <tr>\n",
       "      <th>2</th>\n",
       "      <td>sub-032382</td>\n",
       "      <td>2</td>\n",
       "      <td>25-30</td>\n",
       "      <td>right</td>\n",
       "      <td>Gymnasium</td>\n",
       "      <td>negative</td>\n",
       "      <td>0.0</td>\n",
       "      <td>NaN</td>\n",
       "      <td>occasional smoker</td>\n",
       "      <td>2.0</td>\n",
       "      <td>...</td>\n",
       "      <td>NaN</td>\n",
       "      <td>NaN</td>\n",
       "      <td>NaN</td>\n",
       "      <td>2.0</td>\n",
       "      <td>NaN</td>\n",
       "      <td>NaN</td>\n",
       "      <td>0.0</td>\n",
       "      <td>12</td>\n",
       "      <td>unknown</td>\n",
       "      <td>Yes</td>\n",
       "    </tr>\n",
       "    <tr>\n",
       "      <th>3</th>\n",
       "      <td>sub-032302</td>\n",
       "      <td>1</td>\n",
       "      <td>20-25</td>\n",
       "      <td>right</td>\n",
       "      <td>Gymnasium</td>\n",
       "      <td>negative</td>\n",
       "      <td>0.0</td>\n",
       "      <td>NaN</td>\n",
       "      <td>non-smoker</td>\n",
       "      <td>1.0</td>\n",
       "      <td>...</td>\n",
       "      <td>#CODE:V71.09  #DESC:No Diagnosis or Condition ...</td>\n",
       "      <td>NaN</td>\n",
       "      <td>NaN</td>\n",
       "      <td>3.0</td>\n",
       "      <td>NaN</td>\n",
       "      <td>NaN</td>\n",
       "      <td>1.0</td>\n",
       "      <td>0</td>\n",
       "      <td>No</td>\n",
       "      <td>No</td>\n",
       "    </tr>\n",
       "    <tr>\n",
       "      <th>4</th>\n",
       "      <td>sub-032315</td>\n",
       "      <td>2</td>\n",
       "      <td>20-25</td>\n",
       "      <td>right</td>\n",
       "      <td>Gymnasium</td>\n",
       "      <td>negative</td>\n",
       "      <td>0.0</td>\n",
       "      <td>NaN</td>\n",
       "      <td>non-smoker</td>\n",
       "      <td>1.0</td>\n",
       "      <td>...</td>\n",
       "      <td>#CODE:V71.09  #DESC:No Diagnosis or Condition ...</td>\n",
       "      <td>NaN</td>\n",
       "      <td>NaN</td>\n",
       "      <td>2.0</td>\n",
       "      <td>NaN</td>\n",
       "      <td>NaN</td>\n",
       "      <td>7.0</td>\n",
       "      <td>22</td>\n",
       "      <td>No</td>\n",
       "      <td>No</td>\n",
       "    </tr>\n",
       "  </tbody>\n",
       "</table>\n",
       "<p>5 rows × 21 columns</p>\n",
       "</div>"
      ],
      "text/plain": [
       "   Unnamed: 0  Gender_ 1=female_2=male    Age Handedness  Education      DRUG  \\\n",
       "0  sub-032311                        2  20-25      right  Gymnasium  negative   \n",
       "1  sub-032309                        2  20-25      right  Gymnasium  negative   \n",
       "2  sub-032382                        2  25-30      right  Gymnasium  negative   \n",
       "3  sub-032302                        1  20-25      right  Gymnasium  negative   \n",
       "4  sub-032315                        2  20-25      right  Gymnasium  negative   \n",
       "\n",
       "   DRUG_0=negative_1=Positive Unnamed: 7            Smoking  \\\n",
       "0                         0.0        NaN         non-smoker   \n",
       "1                         0.0        NaN  occasional smoker   \n",
       "2                         0.0        NaN  occasional smoker   \n",
       "3                         0.0        NaN         non-smoker   \n",
       "4                         0.0        NaN         non-smoker   \n",
       "\n",
       "   Smoking_num_(Non-smoker=1, Occasional Smoker=2, Smoker=3)  ...  \\\n",
       "0                                                1.0          ...   \n",
       "1                                                2.0          ...   \n",
       "2                                                2.0          ...   \n",
       "3                                                1.0          ...   \n",
       "4                                                1.0          ...   \n",
       "\n",
       "                                    SKID_Diagnoses 1 SKID_Diagnoses 2  \\\n",
       "0  #CODE:V71.09  #DESC:No Diagnosis or Condition ...              NaN   \n",
       "1  #CODE:V71.09  #DESC:No Diagnosis or Condition ...              NaN   \n",
       "2                                                NaN              NaN   \n",
       "3  #CODE:V71.09  #DESC:No Diagnosis or Condition ...              NaN   \n",
       "4  #CODE:V71.09  #DESC:No Diagnosis or Condition ...              NaN   \n",
       "\n",
       "  Comments_SKID_assessment Hamilton_Scale  BSL23_sumscore  BSL23_behavior  \\\n",
       "0                      NaN            0.0             NaN             NaN   \n",
       "1                      NaN            0.0             NaN             NaN   \n",
       "2                      NaN            2.0             NaN             NaN   \n",
       "3                      NaN            3.0             NaN             NaN   \n",
       "4                      NaN            2.0             NaN             NaN   \n",
       "\n",
       "   AUDIT  Standard_Alcoholunits_Last_28days  \\\n",
       "0   12.0                                 47   \n",
       "1   12.0                                 45   \n",
       "2    0.0                                 12   \n",
       "3    1.0                                  0   \n",
       "4    7.0                                 22   \n",
       "\n",
       "  Alcohol_Dependence_In_1st-3rd_Degree_relative Relationship_Status  \n",
       "0                                            No                  No  \n",
       "1                                           Yes                 Yes  \n",
       "2                                       unknown                 Yes  \n",
       "3                                            No                  No  \n",
       "4                                            No                  No  \n",
       "\n",
       "[5 rows x 21 columns]"
      ]
     },
     "execution_count": 6,
     "metadata": {},
     "output_type": "execute_result"
    }
   ],
   "source": [
    "meta_data = pd.read_csv(\"META_File_IDs_Age_Gender_Education_Drug_Smoke_SKID_LEMON.csv\")\n",
    "meta_data.head()"
   ]
  },
  {
   "cell_type": "code",
   "execution_count": 7,
   "id": "7ba7bfd3",
   "metadata": {},
   "outputs": [
    {
     "data": {
      "text/html": [
       "<div>\n",
       "<style scoped>\n",
       "    .dataframe tbody tr th:only-of-type {\n",
       "        vertical-align: middle;\n",
       "    }\n",
       "\n",
       "    .dataframe tbody tr th {\n",
       "        vertical-align: top;\n",
       "    }\n",
       "\n",
       "    .dataframe thead th {\n",
       "        text-align: right;\n",
       "    }\n",
       "</style>\n",
       "<table border=\"1\" class=\"dataframe\">\n",
       "  <thead>\n",
       "    <tr style=\"text-align: right;\">\n",
       "      <th></th>\n",
       "      <th>Height_cm</th>\n",
       "      <th>Weight_kg</th>\n",
       "      <th>Waist_cm</th>\n",
       "      <th>Hip_cm</th>\n",
       "      <th>BMI</th>\n",
       "    </tr>\n",
       "  </thead>\n",
       "  <tbody>\n",
       "    <tr>\n",
       "      <th>count</th>\n",
       "      <td>228.000000</td>\n",
       "      <td>228.000000</td>\n",
       "      <td>227.000000</td>\n",
       "      <td>227.000000</td>\n",
       "      <td>228.000000</td>\n",
       "    </tr>\n",
       "    <tr>\n",
       "      <th>mean</th>\n",
       "      <td>174.759211</td>\n",
       "      <td>74.099079</td>\n",
       "      <td>84.362115</td>\n",
       "      <td>95.362996</td>\n",
       "      <td>24.232279</td>\n",
       "    </tr>\n",
       "    <tr>\n",
       "      <th>std</th>\n",
       "      <td>10.236729</td>\n",
       "      <td>13.054842</td>\n",
       "      <td>12.049521</td>\n",
       "      <td>9.958975</td>\n",
       "      <td>3.634442</td>\n",
       "    </tr>\n",
       "    <tr>\n",
       "      <th>min</th>\n",
       "      <td>145.000000</td>\n",
       "      <td>48.000000</td>\n",
       "      <td>60.000000</td>\n",
       "      <td>70.000000</td>\n",
       "      <td>17.930787</td>\n",
       "    </tr>\n",
       "    <tr>\n",
       "      <th>25%</th>\n",
       "      <td>167.425000</td>\n",
       "      <td>64.250000</td>\n",
       "      <td>75.800000</td>\n",
       "      <td>89.250000</td>\n",
       "      <td>21.545560</td>\n",
       "    </tr>\n",
       "    <tr>\n",
       "      <th>50%</th>\n",
       "      <td>175.000000</td>\n",
       "      <td>72.850000</td>\n",
       "      <td>83.000000</td>\n",
       "      <td>95.000000</td>\n",
       "      <td>23.664355</td>\n",
       "    </tr>\n",
       "    <tr>\n",
       "      <th>75%</th>\n",
       "      <td>182.825000</td>\n",
       "      <td>82.650000</td>\n",
       "      <td>92.000000</td>\n",
       "      <td>101.000000</td>\n",
       "      <td>26.076901</td>\n",
       "    </tr>\n",
       "    <tr>\n",
       "      <th>max</th>\n",
       "      <td>199.500000</td>\n",
       "      <td>113.900000</td>\n",
       "      <td>127.000000</td>\n",
       "      <td>126.000000</td>\n",
       "      <td>36.649262</td>\n",
       "    </tr>\n",
       "  </tbody>\n",
       "</table>\n",
       "</div>"
      ],
      "text/plain": [
       "        Height_cm   Weight_kg    Waist_cm      Hip_cm         BMI\n",
       "count  228.000000  228.000000  227.000000  227.000000  228.000000\n",
       "mean   174.759211   74.099079   84.362115   95.362996   24.232279\n",
       "std     10.236729   13.054842   12.049521    9.958975    3.634442\n",
       "min    145.000000   48.000000   60.000000   70.000000   17.930787\n",
       "25%    167.425000   64.250000   75.800000   89.250000   21.545560\n",
       "50%    175.000000   72.850000   83.000000   95.000000   23.664355\n",
       "75%    182.825000   82.650000   92.000000  101.000000   26.076901\n",
       "max    199.500000  113.900000  127.000000  126.000000   36.649262"
      ]
     },
     "execution_count": 7,
     "metadata": {},
     "output_type": "execute_result"
    }
   ],
   "source": [
    "anthropometry = pd.read_csv(\"Medical_LEMON/Anthropometry/Anthropometry_LEMON.csv\")\n",
    "anthropometry[\"BMI\"] = anthropometry[\"Weight_kg\"]/((anthropometry[\"Height_cm\"]/100)**2)\n",
    "anthropometry.describe()"
   ]
  },
  {
   "cell_type": "code",
   "execution_count": 8,
   "id": "03dc05ea",
   "metadata": {},
   "outputs": [
    {
     "data": {
      "text/plain": [
       "<AxesSubplot:>"
      ]
     },
     "execution_count": 8,
     "metadata": {},
     "output_type": "execute_result"
    },
    {
     "data": {
      "image/png": "[encoded data removed]",
      "text/plain": [
       "<Figure size 640x480 with 1 Axes>"
      ]
     },
     "metadata": {},
     "output_type": "display_data"
    }
   ],
   "source": [
    "anthropometry[\"BMI\"].hist(bins=50)"
   ]
  },
  {
   "cell_type": "code",
   "execution_count": 9,
   "id": "590e6c58",
   "metadata": {},
   "outputs": [
    {
     "data": {
      "text/html": [
       "<div>\n",
       "<style scoped>\n",
       "    .dataframe tbody tr th:only-of-type {\n",
       "        vertical-align: middle;\n",
       "    }\n",
       "\n",
       "    .dataframe tbody tr th {\n",
       "        vertical-align: top;\n",
       "    }\n",
       "\n",
       "    .dataframe thead th {\n",
       "        text-align: right;\n",
       "    }\n",
       "</style>\n",
       "<table border=\"1\" class=\"dataframe\">\n",
       "  <thead>\n",
       "    <tr style=\"text-align: right;\">\n",
       "      <th></th>\n",
       "      <th>Unnamed: 0</th>\n",
       "      <th>Height_cm</th>\n",
       "      <th>Weight_kg</th>\n",
       "      <th>Waist_cm</th>\n",
       "      <th>Hip_cm</th>\n",
       "      <th>BMI</th>\n",
       "    </tr>\n",
       "  </thead>\n",
       "  <tbody>\n",
       "    <tr>\n",
       "      <th>0</th>\n",
       "      <td>sub-032301</td>\n",
       "      <td>162.0</td>\n",
       "      <td>78.00</td>\n",
       "      <td>97.0</td>\n",
       "      <td>111.0</td>\n",
       "      <td>29.721079</td>\n",
       "    </tr>\n",
       "    <tr>\n",
       "      <th>1</th>\n",
       "      <td>sub-032302</td>\n",
       "      <td>164.5</td>\n",
       "      <td>64.30</td>\n",
       "      <td>70.0</td>\n",
       "      <td>102.0</td>\n",
       "      <td>23.761791</td>\n",
       "    </tr>\n",
       "    <tr>\n",
       "      <th>2</th>\n",
       "      <td>sub-032303</td>\n",
       "      <td>166.5</td>\n",
       "      <td>101.60</td>\n",
       "      <td>113.0</td>\n",
       "      <td>123.0</td>\n",
       "      <td>36.649262</td>\n",
       "    </tr>\n",
       "    <tr>\n",
       "      <th>3</th>\n",
       "      <td>sub-032304</td>\n",
       "      <td>184.6</td>\n",
       "      <td>87.60</td>\n",
       "      <td>95.0</td>\n",
       "      <td>93.5</td>\n",
       "      <td>25.706368</td>\n",
       "    </tr>\n",
       "    <tr>\n",
       "      <th>4</th>\n",
       "      <td>sub-032305</td>\n",
       "      <td>171.5</td>\n",
       "      <td>71.19</td>\n",
       "      <td>83.0</td>\n",
       "      <td>107.0</td>\n",
       "      <td>24.204201</td>\n",
       "    </tr>\n",
       "    <tr>\n",
       "      <th>...</th>\n",
       "      <td>...</td>\n",
       "      <td>...</td>\n",
       "      <td>...</td>\n",
       "      <td>...</td>\n",
       "      <td>...</td>\n",
       "      <td>...</td>\n",
       "    </tr>\n",
       "    <tr>\n",
       "      <th>223</th>\n",
       "      <td>sub-032524</td>\n",
       "      <td>182.2</td>\n",
       "      <td>69.70</td>\n",
       "      <td>75.5</td>\n",
       "      <td>98.0</td>\n",
       "      <td>20.995974</td>\n",
       "    </tr>\n",
       "    <tr>\n",
       "      <th>224</th>\n",
       "      <td>sub-032525</td>\n",
       "      <td>175.8</td>\n",
       "      <td>72.50</td>\n",
       "      <td>75.6</td>\n",
       "      <td>85.0</td>\n",
       "      <td>23.458501</td>\n",
       "    </tr>\n",
       "    <tr>\n",
       "      <th>225</th>\n",
       "      <td>sub-032526</td>\n",
       "      <td>186.2</td>\n",
       "      <td>90.40</td>\n",
       "      <td>93.0</td>\n",
       "      <td>107.0</td>\n",
       "      <td>26.074085</td>\n",
       "    </tr>\n",
       "    <tr>\n",
       "      <th>226</th>\n",
       "      <td>sub-032527</td>\n",
       "      <td>192.1</td>\n",
       "      <td>87.40</td>\n",
       "      <td>84.0</td>\n",
       "      <td>91.0</td>\n",
       "      <td>23.684090</td>\n",
       "    </tr>\n",
       "    <tr>\n",
       "      <th>227</th>\n",
       "      <td>sub-032528</td>\n",
       "      <td>157.5</td>\n",
       "      <td>65.30</td>\n",
       "      <td>74.0</td>\n",
       "      <td>96.0</td>\n",
       "      <td>26.324011</td>\n",
       "    </tr>\n",
       "  </tbody>\n",
       "</table>\n",
       "<p>228 rows × 6 columns</p>\n",
       "</div>"
      ],
      "text/plain": [
       "     Unnamed: 0  Height_cm  Weight_kg  Waist_cm  Hip_cm        BMI\n",
       "0    sub-032301      162.0      78.00      97.0   111.0  29.721079\n",
       "1    sub-032302      164.5      64.30      70.0   102.0  23.761791\n",
       "2    sub-032303      166.5     101.60     113.0   123.0  36.649262\n",
       "3    sub-032304      184.6      87.60      95.0    93.5  25.706368\n",
       "4    sub-032305      171.5      71.19      83.0   107.0  24.204201\n",
       "..          ...        ...        ...       ...     ...        ...\n",
       "223  sub-032524      182.2      69.70      75.5    98.0  20.995974\n",
       "224  sub-032525      175.8      72.50      75.6    85.0  23.458501\n",
       "225  sub-032526      186.2      90.40      93.0   107.0  26.074085\n",
       "226  sub-032527      192.1      87.40      84.0    91.0  23.684090\n",
       "227  sub-032528      157.5      65.30      74.0    96.0  26.324011\n",
       "\n",
       "[228 rows x 6 columns]"
      ]
     },
     "execution_count": 9,
     "metadata": {},
     "output_type": "execute_result"
    }
   ],
   "source": [
    "anthropometry"
   ]
  },
  {
   "cell_type": "code",
   "execution_count": 10,
   "id": "a4b042da",
   "metadata": {},
   "outputs": [],
   "source": [
    "import numpy as np\n",
    "import matplotlib.pyplot as plt\n",
    "import statsmodels.api as sm\n",
    "import os"
   ]
  },
  {
   "cell_type": "code",
   "execution_count": 11,
   "id": "d686811c",
   "metadata": {},
   "outputs": [],
   "source": [
    "cognitive_tests_path = \"Cognitive_Test_Battery_LEMON\"\n",
    "emotion_personality_tests_path = \"Emotion_and_Personality_Test_Battery_LEMON\"\n",
    "cognitive_tests_folders = os.listdir(cognitive_tests_path)\n",
    "for i in cognitive_tests_folders:\n",
    "    if i == '.DS_Store':\n",
    "        cognitive_tests_folders.remove(i)\n",
    "cognitive_tests_path_full = [os.path.join(cognitive_tests_path, s) for s in cognitive_tests_folders]\n",
    "tests_path_full = cognitive_tests_path_full + [emotion_personality_tests_path]\n",
    "df_list = []\n",
    "for folder in tests_path_full:\n",
    "    for file in os.listdir(folder):\n",
    "        if '.' in file:\n",
    "            if file.split('.')[1] == 'csv':\n",
    "                filepath = os.path.join(folder, file)\n",
    "                df_list.append(pd.read_csv(filepath))\n",
    "\n",
    "data = anthropometry\n",
    "data = data.rename(columns={'Unnamed: 0':'id'}).set_index('id')\n",
    "count = 0\n",
    "for dataset in df_list:\n",
    "    dataset = dataset.rename(columns={'Unnamed: 0':'id'})\n",
    "    data = data.join(dataset.set_index('id'))\n",
    "    count += 1"
   ]
  },
  {
   "cell_type": "code",
   "execution_count": 12,
   "id": "9ba0dccf",
   "metadata": {},
   "outputs": [],
   "source": [
    "if VERBOSE:\n",
    "    data.head()"
   ]
  },
  {
   "cell_type": "code",
   "execution_count": 13,
   "id": "b51ff661",
   "metadata": {},
   "outputs": [],
   "source": [
    "if VERBOSE:\n",
    "    data.info(verbose=True)"
   ]
  },
  {
   "cell_type": "code",
   "execution_count": 14,
   "id": "d3d38fce",
   "metadata": {},
   "outputs": [],
   "source": [
    "if VERBOSE:\n",
    "    data._get_numeric_data().info(verbose=True, null_counts=True)"
   ]
  },
  {
   "cell_type": "code",
   "execution_count": 15,
   "id": "59b1bfd4",
   "metadata": {},
   "outputs": [],
   "source": [
    "data_num = data._get_numeric_data()"
   ]
  },
  {
   "cell_type": "code",
   "execution_count": 16,
   "id": "26679d52",
   "metadata": {},
   "outputs": [],
   "source": [
    "if VERBOSE:\n",
    "    [data.shape, data_num.shape]"
   ]
  },
  {
   "cell_type": "code",
   "execution_count": 17,
   "id": "f60418d5",
   "metadata": {},
   "outputs": [
    {
     "data": {
      "text/plain": [
       "(228, 219)"
      ]
     },
     "execution_count": 17,
     "metadata": {},
     "output_type": "execute_result"
    }
   ],
   "source": [
    "# Replace NAs with medians\n",
    "\n",
    "for col in data_num.columns:\n",
    "    median = data_num[col].median()\n",
    "    data_num[col].fillna(median, inplace=True)\n",
    "\n",
    "data_num.shape"
   ]
  },
  {
   "cell_type": "code",
   "execution_count": 18,
   "id": "4357aa78",
   "metadata": {
    "scrolled": true
   },
   "outputs": [],
   "source": [
    "if VERBOSE:\n",
    "    data_num.describe()"
   ]
  },
  {
   "cell_type": "markdown",
   "id": "236fff49-6f3b-41f0-8544-6b727efc90c4",
   "metadata": {
    "tags": []
   },
   "source": [
    "## Principal Component Analysis"
   ]
  },
  {
   "cell_type": "markdown",
   "id": "69039ec9-67e8-49d2-8c0f-565ef14d15d3",
   "metadata": {},
   "source": [
    "### Scale data for PCA"
   ]
  },
  {
   "cell_type": "code",
   "execution_count": 87,
   "id": "fbe3acd4",
   "metadata": {},
   "outputs": [
    {
     "name": "stderr",
     "output_type": "stream",
     "text": [
      "/Users/artemii/opt/anaconda3/envs/juselius22/lib/python3.10/site-packages/sklearn/utils/extmath.py:981: RuntimeWarning: invalid value encountered in divide\n",
      "  updated_mean = (last_sum + new_sum) / updated_sample_count\n",
      "/Users/artemii/opt/anaconda3/envs/juselius22/lib/python3.10/site-packages/sklearn/utils/extmath.py:986: RuntimeWarning: invalid value encountered in divide\n",
      "  T = new_sum / new_sample_count\n",
      "/Users/artemii/opt/anaconda3/envs/juselius22/lib/python3.10/site-packages/sklearn/utils/extmath.py:1006: RuntimeWarning: invalid value encountered in divide\n",
      "  new_unnormalized_variance -= correction**2 / new_sample_count\n"
     ]
    },
    {
     "data": {
      "text/plain": [
       "(228, 219)"
      ]
     },
     "execution_count": 87,
     "metadata": {},
     "output_type": "execute_result"
    }
   ],
   "source": [
    "from sklearn.preprocessing import StandardScaler\n",
    "\n",
    "standard_scaler = StandardScaler()\n",
    "X = standard_scaler.fit_transform(data_num)\n",
    "\n",
    "X.shape"
   ]
  },
  {
   "cell_type": "code",
   "execution_count": 88,
   "id": "328fad5b",
   "metadata": {},
   "outputs": [],
   "source": [
    "data_num_tr = pd.DataFrame(X, columns=data_num.columns, index=data_num.index)"
   ]
  },
  {
   "cell_type": "markdown",
   "id": "36ea12b4-d639-4391-87fd-d9001c8401f6",
   "metadata": {},
   "source": [
    "### Remove null and non-number values"
   ]
  },
  {
   "cell_type": "code",
   "execution_count": 19,
   "id": "29d7e1a4",
   "metadata": {},
   "outputs": [],
   "source": [
    "if VERBOSE:\n",
    "    data_num_tr.describe()"
   ]
  },
  {
   "cell_type": "code",
   "execution_count": 20,
   "id": "d2aa6242",
   "metadata": {},
   "outputs": [],
   "source": [
    "if VERBOSE:\n",
    "    data_num_tr.info(verbose=True, null_counts=True)"
   ]
  },
  {
   "cell_type": "code",
   "execution_count": 91,
   "id": "84f798ff",
   "metadata": {},
   "outputs": [],
   "source": [
    "data_num_tr.drop(columns=['YFAS_control', 'YFAS_attempts', 'YFAS_time',\n",
    "                         'YFAS_activities', 'YFAS_problems', 'YFAS_tolerance',\n",
    "                         'YFAS_withdrawal', 'YFAS_impairment', 'YFAS_symptom_count',\n",
    "                         'YFAS_diagnosis', 'Unnamed: 32'], inplace=True)"
   ]
  },
  {
   "cell_type": "code",
   "execution_count": 21,
   "id": "6a15b34b",
   "metadata": {},
   "outputs": [],
   "source": [
    "if VERBOSE:\n",
    "    data_num_tr.info(verbose=True, null_counts=True)"
   ]
  },
  {
   "cell_type": "code",
   "execution_count": null,
   "id": "a84efa4c",
   "metadata": {},
   "outputs": [],
   "source": [
    "# Had to install plotly through conda as it didn't work through pip\n",
    "\n",
    "# !conda install --yes --prefix {'/opt/homebrew/opt/python@3.9/Frameworks/Python.framework/Versions/3.9'} plotly\n",
    "\n"
   ]
  },
  {
   "cell_type": "code",
   "execution_count": null,
   "id": "7910459e",
   "metadata": {},
   "outputs": [],
   "source": [
    "sys.prefix"
   ]
  },
  {
   "cell_type": "markdown",
   "id": "f5dc923b-a58e-4706-9580-6ec6ece29b86",
   "metadata": {},
   "source": [
    "### Reduce and Plot"
   ]
  },
  {
   "cell_type": "code",
   "execution_count": null,
   "id": "7702c534",
   "metadata": {},
   "outputs": [],
   "source": [
    "pca = PCA(n_components=2)\n",
    "components = pca.fit_transform(data_num_tr)\n",
    "fig = px.scatter_matrix(components,\n",
    "                        dimensions=range(2),\n",
    "                        color=data_num_tr['Waist_cm'],\n",
    "                        color_continuous_scale=px.colors.sequential.Inferno,\n",
    "                        width=1200,\n",
    "                        height=700,\n",
    "                        labels={'0': 'PC1', '1': 'PC2'}\n",
    "                       )\n",
    "\n",
    "fig.update_layout({'plot_bgcolor': 'rgba(0, 0, 0, 0)', \n",
    "                   'paper_bgcolor': 'rgba(0, 0, 0, 0)',})\n",
    "fig.update_xaxes(showline=True, linewidth=2, linecolor='black')\n",
    "fig.update_yaxes(showline=True, linewidth=2, linecolor='black')\n",
    "\n",
    "fig.show()"
   ]
  },
  {
   "cell_type": "code",
   "execution_count": null,
   "id": "20b716ff",
   "metadata": {},
   "outputs": [],
   "source": [
    "dir(px.colors.sequential)"
   ]
  },
  {
   "cell_type": "code",
   "execution_count": null,
   "id": "8c759227",
   "metadata": {},
   "outputs": [],
   "source": [
    "pip install -U kaleido"
   ]
  },
  {
   "cell_type": "code",
   "execution_count": null,
   "id": "50daf8a1",
   "metadata": {},
   "outputs": [],
   "source": [
    "import plotly.io as pio\n",
    "pio.kaleido.scope.default_width = 1200\n",
    "pio.kaleido.scope.default_height = 700\n",
    "\n",
    "if SAVE_FILES:\n",
    "    os.makedirs(\"plots\", exist_ok=True)\n",
    "    fig.write_image('plots/mind-brain-body-pca-waist.svg')"
   ]
  },
  {
   "cell_type": "code",
   "execution_count": null,
   "id": "c8785ca8-8ad4-4e97-80ab-c377ebca4d62",
   "metadata": {},
   "outputs": [],
   "source": [
    "pca.n_features_"
   ]
  },
  {
   "cell_type": "code",
   "execution_count": null,
   "id": "283a3da2-4e2f-4a99-b58a-408595489133",
   "metadata": {},
   "outputs": [],
   "source": [
    "pca.explained_variance_ratio_"
   ]
  },
  {
   "cell_type": "markdown",
   "id": "8d33e73e-38c8-450b-b71e-1eb0c84d554b",
   "metadata": {},
   "source": [
    "### Important Features"
   ]
  },
  {
   "cell_type": "code",
   "execution_count": null,
   "id": "955b5b29",
   "metadata": {},
   "outputs": [],
   "source": [
    "relevant_features = pd.DataFrame(abs(pca.components_), columns=data_num_tr.columns, index=['PC1', 'PC2'])"
   ]
  },
  {
   "cell_type": "code",
   "execution_count": null,
   "id": "0fe96853",
   "metadata": {},
   "outputs": [],
   "source": [
    "relevant_features"
   ]
  },
  {
   "cell_type": "code",
   "execution_count": null,
   "id": "6595f96d",
   "metadata": {},
   "outputs": [],
   "source": [
    "relevant_features.idxmax(axis=1)"
   ]
  },
  {
   "cell_type": "code",
   "execution_count": null,
   "id": "7bb023ad",
   "metadata": {},
   "outputs": [],
   "source": [
    "relevant_features_pc1_sorted = relevant_features.transpose().sort_values('PC1', ascending=False)\n",
    "relevant_features_pc1_sorted.head(20)"
   ]
  },
  {
   "cell_type": "code",
   "execution_count": null,
   "id": "22f96120",
   "metadata": {},
   "outputs": [],
   "source": [
    "relevant_features_pc2_sorted = relevant_features.transpose().sort_values('PC2', ascending=False)\n",
    "relevant_features_pc2_sorted.head(20)"
   ]
  },
  {
   "cell_type": "code",
   "execution_count": null,
   "id": "0cc23a79",
   "metadata": {},
   "outputs": [],
   "source": [
    "if SAVE_FILES:\n",
    "    os.makedirs(\"processed_data\", exist_ok=True)\n",
    "    relevant_features_pc1_sorted.to_csv('processed_data/relevant_features_pc1_sorted.csv')\n",
    "    relevant_features_pc2_sorted.to_csv('processed_data/relevant_features_pc2_sorted.csv')"
   ]
  },
  {
   "cell_type": "code",
   "execution_count": null,
   "id": "1c21f841",
   "metadata": {},
   "outputs": [],
   "source": [
    "fig"
   ]
  },
  {
   "cell_type": "code",
   "execution_count": null,
   "id": "23ccf516",
   "metadata": {},
   "outputs": [],
   "source": [
    "sys.version"
   ]
  },
  {
   "cell_type": "code",
   "execution_count": null,
   "id": "056d9641",
   "metadata": {},
   "outputs": [],
   "source": [
    "%cd /Users/artemii/Documents/o-brain-lab/projects/obesity-types/grant-proposals/sigrid-juselius-2022/scripts/\n",
    "DATA_FOLDER = '/Users/artemii/Documents/o-brain-lab/projects/obesity-types/datasets/mind-brain-body/Behavioural_Data_MPILMBB_LEMON'"
   ]
  },
  {
   "cell_type": "markdown",
   "id": "0703cd38-90ff-4e80-8d32-3acf3f3f9416",
   "metadata": {},
   "source": [
    "### PCA to explain 95% variance"
   ]
  },
  {
   "cell_type": "code",
   "execution_count": null,
   "id": "7c46318b-85b8-4b65-a5d0-a059d5323471",
   "metadata": {},
   "outputs": [],
   "source": [
    "pca95 = PCA(n_components=0.95)\n",
    "\n",
    "components95 = pca95.fit_transform(data_num_tr)\n",
    "fig = px.scatter_matrix(components95[:,:2],\n",
    "                        dimensions=range(2),\n",
    "                        color=data_num_tr['Waist_cm'],\n",
    "                        color_continuous_scale=px.colors.sequential.Inferno,\n",
    "                        width=1200,\n",
    "                        height=700,\n",
    "                        labels={'0': 'PC1', '1': 'PC2'}\n",
    "                       )\n",
    "\n",
    "fig.update_layout({'plot_bgcolor': 'rgba(0, 0, 0, 0)', \n",
    "                   'paper_bgcolor': 'rgba(0, 0, 0, 0)',})\n",
    "fig.update_xaxes(showline=True, linewidth=2, linecolor='black')\n",
    "fig.update_yaxes(showline=True, linewidth=2, linecolor='black')\n",
    "\n",
    "fig.show()"
   ]
  },
  {
   "cell_type": "code",
   "execution_count": null,
   "id": "0c9b84aa-4091-487a-807f-7370f7e0e3cf",
   "metadata": {},
   "outputs": [],
   "source": [
    "pca95.explained_variance_ratio_"
   ]
  },
  {
   "cell_type": "code",
   "execution_count": null,
   "id": "9c47ff1a-3611-43f6-87ac-6faa64236f0c",
   "metadata": {},
   "outputs": [],
   "source": [
    "print(\"Number of dimensions needed to explain 95% of variance is \" + str(len(pca95.explained_variance_ratio_)))"
   ]
  },
  {
   "cell_type": "markdown",
   "id": "37cc66e5-4725-4984-a98c-c5860942f628",
   "metadata": {},
   "source": [
    "### PCA with no Anthropometry"
   ]
  },
  {
   "cell_type": "code",
   "execution_count": 27,
   "id": "8ae640dc-2af0-4255-890d-c64e04cd23c6",
   "metadata": {},
   "outputs": [
    {
     "ename": "NameError",
     "evalue": "name 'data_num_tr' is not defined",
     "output_type": "error",
     "traceback": [
      "\u001b[0;31m---------------------------------------------------------------------------\u001b[0m",
      "\u001b[0;31mNameError\u001b[0m                                 Traceback (most recent call last)",
      "Input \u001b[0;32mIn [27]\u001b[0m, in \u001b[0;36m<cell line: 1>\u001b[0;34m()\u001b[0m\n\u001b[0;32m----> 1\u001b[0m data_num_tr_nobmi \u001b[38;5;241m=\u001b[39m \u001b[43mdata_num_tr\u001b[49m\u001b[38;5;241m.\u001b[39mcopy()\n\u001b[1;32m      2\u001b[0m data_num_tr_nobmi \u001b[38;5;241m=\u001b[39m data_num_tr_nobmi\u001b[38;5;241m.\u001b[39mdrop([\u001b[38;5;124m'\u001b[39m\u001b[38;5;124mBMI\u001b[39m\u001b[38;5;124m'\u001b[39m, \u001b[38;5;124m'\u001b[39m\u001b[38;5;124mWaist_cm\u001b[39m\u001b[38;5;124m'\u001b[39m, \u001b[38;5;124m'\u001b[39m\u001b[38;5;124mHeight_cm\u001b[39m\u001b[38;5;124m'\u001b[39m, \u001b[38;5;124m'\u001b[39m\u001b[38;5;124mWeight_kg\u001b[39m\u001b[38;5;124m'\u001b[39m, \u001b[38;5;124m'\u001b[39m\u001b[38;5;124mHip_cm\u001b[39m\u001b[38;5;124m'\u001b[39m], axis\u001b[38;5;241m=\u001b[39m\u001b[38;5;241m1\u001b[39m)\n",
      "\u001b[0;31mNameError\u001b[0m: name 'data_num_tr' is not defined"
     ]
    }
   ],
   "source": [
    "data_num_tr_nobmi = data_num_tr.copy()\n",
    "data_num_tr_nobmi = data_num_tr_nobmi.drop(['BMI', 'Waist_cm', 'Height_cm', 'Weight_kg', 'Hip_cm'], axis=1)"
   ]
  },
  {
   "cell_type": "code",
   "execution_count": null,
   "id": "1023cd0b-d67a-4a8d-90a5-eb7746358c7d",
   "metadata": {},
   "outputs": [],
   "source": [
    "pca_nobmi = PCA(n_components=2)\n",
    "components_nobmi = pca_nobmi.fit_transform(data_num_tr_nobmi)\n",
    "fig = px.scatter_matrix(components_nobmi,\n",
    "                        dimensions=range(2),\n",
    "                        color=data_num_tr['Waist_cm'],\n",
    "                        color_continuous_scale=px.colors.sequential.Inferno,\n",
    "                        width=1200,\n",
    "                        height=700,\n",
    "                        labels={'0': 'PC1', '1': 'PC2'}\n",
    "                       )\n",
    "\n",
    "fig.update_layout({'plot_bgcolor': 'rgba(0, 0, 0, 0)', \n",
    "                   'paper_bgcolor': 'rgba(0, 0, 0, 0)',})\n",
    "fig.update_xaxes(showline=True, linewidth=2, linecolor='black')\n",
    "fig.update_yaxes(showline=True, linewidth=2, linecolor='black')\n",
    "\n",
    "fig.show()"
   ]
  },
  {
   "cell_type": "markdown",
   "id": "4ba268ab-bd79-4b00-bea3-521df092701b",
   "metadata": {},
   "source": [
    "### Visualize relevant values"
   ]
  },
  {
   "cell_type": "code",
   "execution_count": 24,
   "id": "e2a98ff0-026c-4833-93ef-db539ba4dc91",
   "metadata": {},
   "outputs": [
    {
     "data": {
      "text/plain": [
       "<matplotlib.collections.PathCollection at 0x7ff3b9858ac0>"
      ]
     },
     "execution_count": 24,
     "metadata": {},
     "output_type": "execute_result"
    },
    {
     "data": {
      "image/png": "[encoded data removed]",
      "text/plain": [
       "<Figure size 640x480 with 1 Axes>"
      ]
     },
     "metadata": {},
     "output_type": "display_data"
    }
   ],
   "source": [
    "plt.scatter(data_num[\"TAP_I_8\"], data_num[\"Waist_cm\"])"
   ]
  },
  {
   "cell_type": "code",
   "execution_count": 25,
   "id": "05d96317-ffb7-4cdb-b014-d470483512d2",
   "metadata": {},
   "outputs": [
    {
     "data": {
      "text/plain": [
       "<matplotlib.collections.PathCollection at 0x7ff3b99f94b0>"
      ]
     },
     "execution_count": 25,
     "metadata": {},
     "output_type": "execute_result"
    },
    {
     "data": {
      "image/png": "[encoded data removed]",
      "text/plain": [
       "<Figure size 640x480 with 1 Axes>"
      ]
     },
     "metadata": {},
     "output_type": "display_data"
    }
   ],
   "source": [
    "plt.scatter(data_num[\"TAP_I_8\"], data_num[\"TeiQueSF_total\"])"
   ]
  },
  {
   "cell_type": "code",
   "execution_count": 26,
   "id": "ac988d10-53a5-468d-ac7c-adde114a19f5",
   "metadata": {},
   "outputs": [
    {
     "data": {
      "text/plain": [
       "<matplotlib.collections.PathCollection at 0x7ff3b9a431c0>"
      ]
     },
     "execution_count": 26,
     "metadata": {},
     "output_type": "execute_result"
    },
    {
     "data": {
      "image/png": "[encoded data removed]",
      "text/plain": [
       "<Figure size 640x480 with 1 Axes>"
      ]
     },
     "metadata": {},
     "output_type": "display_data"
    }
   ],
   "source": [
    "plt.scatter(data_num[\"TeiQueSF_total\"], data_num[\"MSPSS_total\"])"
   ]
  },
  {
   "cell_type": "code",
   "execution_count": 29,
   "id": "ed1a5e90-ab9a-42df-840a-935dea028f54",
   "metadata": {},
   "outputs": [
    {
     "name": "stdout",
     "output_type": "stream",
     "text": [
      "/Users/artemii/obrain_lab/projects/obesity-types/grant-proposals/sigrid-juselius-2022/scripts\n"
     ]
    }
   ],
   "source": [
    "%cd {SCRIPTS_PATH}"
   ]
  },
  {
   "cell_type": "markdown",
   "id": "0bf51f86-a699-4ce7-8d8d-dcae95abe745",
   "metadata": {
    "tags": []
   },
   "source": [
    "## Clustering PCA no BMI/waist cm"
   ]
  },
  {
   "cell_type": "code",
   "execution_count": 35,
   "id": "8339dbda-0929-430b-bdcf-8b5ff4f4b1f0",
   "metadata": {},
   "outputs": [],
   "source": [
    "# This code was used for analysis demonstrated in the proposal\n",
    "# Don't fit a new model, use the saved one\n",
    "NEW_MODEL = False"
   ]
  },
  {
   "cell_type": "code",
   "execution_count": 25,
   "id": "83b01322-c436-499e-9cf1-3ed7e7080669",
   "metadata": {},
   "outputs": [],
   "source": [
    "from sklearn.mixture import BayesianGaussianMixture\n",
    "n_components = 10\n",
    "\n",
    "bgm_on_pca_nobmi = BayesianGaussianMixture(n_components=n_components,\n",
    "                                           n_init=20,\n",
    "                                           covariance_type=\"full\",\n",
    "                                           weight_concentration_prior=10000,\n",
    "                                           init_params=\"k-means++\",\n",
    "                                           random_state=44)"
   ]
  },
  {
   "cell_type": "code",
   "execution_count": 36,
   "id": "bbae8502-cbb5-4838-ac89-309b28f9661d",
   "metadata": {},
   "outputs": [],
   "source": [
    "if NEW_MODEL:\n",
    "    bgm_on_pca_nobmi.fit(components_nobmi)\n",
    "    cluster_list = list(zip(range(n_components), bgm_on_pca_nobmi.weights_))"
   ]
  },
  {
   "cell_type": "code",
   "execution_count": null,
   "id": "8811325d-7d13-4080-8e15-73180b1ec93c",
   "metadata": {},
   "outputs": [],
   "source": [
    "# Clusters and centroid coordinates\n",
    "list(zip(cluster_list, bgm_on_pca_nobmi.means_))"
   ]
  },
  {
   "cell_type": "code",
   "execution_count": null,
   "id": "ef9968f1-5c60-4a19-a8cf-c852e1ac4ebf",
   "metadata": {},
   "outputs": [],
   "source": [
    "fig = plot_gaussian_mixture(bgm_on_pca_nobmi, components_nobmi)\n",
    "# Clusters shown on plot are (clockwise): 0, 3, 8, 1 \n",
    "fig"
   ]
  },
  {
   "cell_type": "markdown",
   "id": "13f38f52-7323-4c6a-8c1a-eb45fe5b463b",
   "metadata": {},
   "source": [
    "#### Dump models and save data"
   ]
  },
  {
   "cell_type": "code",
   "execution_count": null,
   "id": "20dc3467-cb4d-4d7a-b202-8cd3d506d30d",
   "metadata": {},
   "outputs": [],
   "source": [
    "%cd {SCRIPTS_PATH}\n",
    "\n",
    "if SAVE_FILES:\n",
    "    pkl.dump(bgm_on_pca_nobmi, open('processed_data/bgm_on_pca_nobmi.mdl', 'wb'))\n",
    "    np.save('processed_data/components_nobmi.npy', components_nobmi)\n",
    "    data_num.to_csv('processed_data/behavioural_numerical_data.csv')\n",
    "    bgm_cluster_on_pca_nobmi = bgm_on_pca_nobmi.predict(components_nobmi)\n",
    "    data_bgm_clustered_on_pca_nobmi = data_num.copy()\n",
    "    data_bgm_clustered_on_pca_nobmi['bgm_pca_cluster'] = bgm_cluster_on_pca_nobmi\n",
    "    data_bgm_clustered_on_pca_nobmi.to_csv(\"processed_data/clustered_behavioral_LEMON_pca_based_nobmi.csv\")"
   ]
  },
  {
   "cell_type": "markdown",
   "id": "b279f038-8b56-4837-aaaa-531b89b54787",
   "metadata": {
    "jp-MarkdownHeadingCollapsed": true,
    "tags": []
   },
   "source": [
    "# Plotting functions for behavioural clustering"
   ]
  },
  {
   "cell_type": "markdown",
   "id": "fb4edbf8-9d20-45a2-9593-bdb8d28b8d11",
   "metadata": {},
   "source": [
    "## Import libraries and data"
   ]
  },
  {
   "cell_type": "code",
   "execution_count": 623,
   "id": "07bd81db-68a2-4b86-8a84-e1157979932d",
   "metadata": {},
   "outputs": [],
   "source": [
    "import numpy as np\n",
    "import matplotlib.pyplot as plt\n",
    "import matplotlib as mpl\n",
    "import matplotlib.colors as colors\n",
    "import pandas as pd\n",
    "import plotly.express as px\n",
    "import sys\n",
    "import pickle as pkl"
   ]
  },
  {
   "cell_type": "code",
   "execution_count": 624,
   "id": "2e00e6fa-0956-49c3-adec-d017551719e1",
   "metadata": {},
   "outputs": [
    {
     "name": "stdout",
     "output_type": "stream",
     "text": [
      "/Users/artemii/obrain_lab/projects/obesity-types/grant-proposals/sigrid-juselius-2022/scripts\n"
     ]
    }
   ],
   "source": [
    "%cd {SCRIPTS_PATH}\n",
    "\n",
    "bgm_on_pca_nobmi = pkl.load(open('processed_data/bgm_on_pca_nobmi.mdl', 'rb'))\n",
    "components_nobmi = np.load('processed_data/components_nobmi.npy')\n",
    "data_num = pd.read_csv('processed_data/behavioural_numerical_data.csv')"
   ]
  },
  {
   "cell_type": "markdown",
   "id": "b2a8e18b-41be-4579-974b-f92d7ec5d960",
   "metadata": {
    "tags": []
   },
   "source": [
    "## Colour scheme"
   ]
  },
  {
   "cell_type": "code",
   "execution_count": 625,
   "id": "fa158472-3682-4e76-a063-18da58ebc8d4",
   "metadata": {},
   "outputs": [],
   "source": [
    "color_list_subtle = ['steelblue',\n",
    "                     'wheat',\n",
    "                     'coral']\n",
    "\n",
    "color_list_detailed = ['darkblue',\n",
    "                       'skyblue',\n",
    "                       'darkorange',\n",
    "                       'orangered']\n",
    "\n",
    "color_list_very_detailed = ['darkblue',\n",
    "                            'skyblue',\n",
    "                            'olivedrab',\n",
    "                            'gold',\n",
    "                            'orangered']\n",
    "\n",
    "cmap_subtle = colors.LinearSegmentedColormap.from_list('juselius22_subtle', color_list_subtle)\n",
    "cmap_detailed = colors.LinearSegmentedColormap.from_list('juselius22_detailed', color_list_detailed)\n",
    "cmap_very_detailed = colors.LinearSegmentedColormap.from_list('juselius22_very_detailed', color_list_very_detailed)"
   ]
  },
  {
   "cell_type": "markdown",
   "id": "cd325d50-8388-48ba-8e5b-a37c2305739f",
   "metadata": {
    "tags": []
   },
   "source": [
    "## Fonts"
   ]
  },
  {
   "cell_type": "code",
   "execution_count": 626,
   "id": "dcc8bc38-35f3-4d1c-baf5-01c10822775c",
   "metadata": {},
   "outputs": [],
   "source": [
    "from matplotlib.font_manager import FontProperties, FontManager\n",
    "# ?\n",
    "# mgr = FontManager()\n",
    "# mgr.get_font_names()"
   ]
  },
  {
   "cell_type": "code",
   "execution_count": 627,
   "id": "9bc53228-5fc7-48a4-8d82-2e3f5121c381",
   "metadata": {},
   "outputs": [],
   "source": [
    "font = FontProperties()\n",
    "font.set_name('Helvetica')"
   ]
  },
  {
   "cell_type": "markdown",
   "id": "fdc71460-4a06-443c-ad16-f9b766c6bf7d",
   "metadata": {
    "tags": []
   },
   "source": [
    "### Show default rcParams"
   ]
  },
  {
   "cell_type": "code",
   "execution_count": 23,
   "id": "9e5dcd24-dd93-4b2c-a5fe-a62b6b1b9dbd",
   "metadata": {},
   "outputs": [],
   "source": [
    "if VERBOSE:\n",
    "    plt.rcParams"
   ]
  },
  {
   "cell_type": "markdown",
   "id": "7f15d3b3-9be8-4d91-8256-2e1bdd6fa04e",
   "metadata": {
    "tags": []
   },
   "source": [
    "## Plotting"
   ]
  },
  {
   "cell_type": "markdown",
   "id": "9858129c-0d68-403d-be8a-6d901301bea1",
   "metadata": {
    "tags": []
   },
   "source": [
    "### Scatter"
   ]
  },
  {
   "cell_type": "code",
   "execution_count": 22,
   "id": "3047e3b3-f4d6-4375-bf13-f03d7100f3a0",
   "metadata": {},
   "outputs": [],
   "source": [
    "if VERBOSE:\n",
    "    print(plt.colormaps())"
   ]
  },
  {
   "cell_type": "code",
   "execution_count": 630,
   "id": "511eaf22-7884-4f00-bae0-1a0c87c7a8d7",
   "metadata": {},
   "outputs": [
    {
     "data": {
      "image/png": "[encoded data removed]",
      "text/plain": [
       "<Figure size 600x700 with 2 Axes>"
      ]
     },
     "metadata": {},
     "output_type": "display_data"
    }
   ],
   "source": [
    "fig, ax = plt.subplots(figsize=[6, 7])\n",
    "\n",
    "cmap = cmap_detailed\n",
    "\n",
    "scatter = ax.scatter(components_nobmi[:,0], components_nobmi[:,1],\n",
    "                     c=data_num['Waist_cm'], alpha=1, s=25, cmap=cmap,\n",
    "                     #norm=colors.LogNorm(\n",
    "                     #    vmin=data_num['Waist_cm'].min(), vmax=data_num['Waist_cm'].max()\n",
    "                     #)\n",
    "                    )\n",
    "\n",
    "ax.grid(False)\n",
    "ax.set_xlabel('Principal component 1', fontproperties=font, fontsize=18)\n",
    "ax.set_ylabel('Principal component 2', fontproperties=font, fontsize=18)\n",
    "ax.tick_params(labelsize=18)\n",
    "\n",
    "colorbar = fig.colorbar(scatter, ticks=[],\n",
    "                        location='bottom',\n",
    "                        anchor=(0.98, 3.1),\n",
    "                        shrink=0.2, aspect=5)\n",
    "\n",
    "colorbar.set_label('Waist, cm', loc='center', size=12)\n",
    "\n",
    "if SAVE_FILES:\n",
    "    plt.savefig('plots/behavioural_pca_cmap_detailed.svg')\n",
    "plt.show()"
   ]
  },
  {
   "cell_type": "markdown",
   "id": "63391dcb-c49b-4026-bbce-cecd4d84f9bb",
   "metadata": {
    "tags": []
   },
   "source": [
    "### Clustering"
   ]
  },
  {
   "cell_type": "markdown",
   "id": "5bb44a6d-2501-485f-8c91-028ca64ff3c2",
   "metadata": {
    "tags": []
   },
   "source": [
    "#### Plotting functions"
   ]
  },
  {
   "cell_type": "code",
   "execution_count": 631,
   "id": "9430ba40-c731-4b52-81b7-27757199441e",
   "metadata": {},
   "outputs": [],
   "source": [
    "# Tweaking the code from the book to adjust the style\n",
    "\n",
    "from matplotlib.colors import LogNorm\n",
    "\n",
    "one_legend = True\n",
    "\n",
    "\n",
    "def plot_centroids(centroids, weights=None, circle_color='w', cross_color='k'):\n",
    "    if weights is not None:\n",
    "        centroids = centroids[weights > weights.max() / 10]\n",
    "\n",
    "    plt.scatter(centroids[:, 0], centroids[:, 1],\n",
    "                marker='o', s=60, linewidths=8,\n",
    "                color=circle_color, zorder=10, alpha=0.5)\n",
    "    x = 0\n",
    "    y = 0\n",
    "    centroids_text = centroids.copy() - 0.5\n",
    "    for marker in [0, 1, 3, 8]:\n",
    "        plt.text(centroids_text[x, 0], centroids_text[y, 1],\n",
    "                 str(marker), fontsize=20,\n",
    "                 color=cross_color,\n",
    "                 zorder=11, alpha=1)\n",
    "        x += 1\n",
    "        y += 1\n",
    "        \n",
    "    if not one_legend:\n",
    "        x = 0\n",
    "        y = 0\n",
    "        cluster_size_coordinates = np.array([[-10, -4.5],\n",
    "                                             [9, -4.5],\n",
    "                                             [-8, 10],\n",
    "                                             [6, 10]])\n",
    "        for cluster_size in [127, 34, 15, 52]:\n",
    "            plt.text(cluster_size_coordinates[x, 0], cluster_size_coordinates[y, 1],\n",
    "                     \"N=\"+str(cluster_size), fontsize=15,\n",
    "                     color=cross_color,\n",
    "                     zorder=11, alpha=1)\n",
    "            x += 1\n",
    "            y += 1\n",
    "    else:\n",
    "        legend_coordinates = [12.5, -5]\n",
    "        plt.text(legend_coordinates[0], legend_coordinates[1],\n",
    "                 \"0: N = 127\\n1: N = 34\\n3: N = 15\\n8: N = 52\", fontsize=11,\n",
    "                 color=cross_color,\n",
    "                 zorder=11, alpha=1)\n",
    "\n",
    "def plot_gaussian_mixture(clusterer, X, resolution=1000, show_ylabels=True):\n",
    "    mins = X.min(axis=0) - 0.1\n",
    "    maxs = X.max(axis=0) + 0.1\n",
    "    xx, yy = np.meshgrid(np.linspace(mins[0], maxs[0], resolution),\n",
    "                         np.linspace(mins[1], maxs[1], resolution))\n",
    "    Z = -clusterer.score_samples(np.c_[xx.ravel(), yy.ravel()])\n",
    "    Z = Z.reshape(xx.shape)\n",
    "\n",
    "    #plt.contourf(xx, yy, Z,\n",
    "    #             norm=LogNorm(vmin=1.0, vmax=30.0),\n",
    "    #             levels=np.logspace(0, 2, 12))\n",
    "    #plt.contour(xx, yy, Z,\n",
    "    #            norm=LogNorm(vmin=1.0, vmax=30.0),\n",
    "    #            levels=np.logspace(0, 2, 12),\n",
    "    #            linewidths=1, colors='k')\n",
    "    \n",
    "    Z = clusterer.predict(np.c_[xx.ravel(), yy.ravel()])\n",
    "    Z = Z.reshape(xx.shape)\n",
    "    \n",
    "    fig, ax = plt.subplots(figsize=[6, 7])\n",
    "    ax.contour(xx, yy, Z,\n",
    "               linewidths=1, colors='black', linestyles='dashed')\n",
    "    \n",
    "    ax.scatter(X[:, 0], X[:, 1],\n",
    "               c=data_num['Waist_cm'],\n",
    "               alpha=1, s=25, cmap=cmap\n",
    "              )\n",
    "    plot_centroids(clusterer.means_, clusterer.weights_)\n",
    "    \n",
    "    ax.set_xlabel('Principal component 1', fontproperties=font, fontsize=18)\n",
    "    if show_ylabels:\n",
    "        ax.set_ylabel('Principal component 2', fontproperties=font, fontsize=18)\n",
    "    else:\n",
    "        ax.tick_params(labelleft=False)\n",
    "    ax.tick_params(labelsize=18)\n",
    "    ax.set_xticks([])\n",
    "    ax.set_yticks([])\n",
    "    colorbar = fig.colorbar(scatter, ticks=[],\n",
    "                            location='bottom',\n",
    "                            anchor=(0.97, 3.25),\n",
    "                            shrink=0.2, aspect=5)\n",
    "    colorbar.set_label('Waist, cm', loc='center', size=12)\n",
    "    if SAVE_FILES:\n",
    "        plt.savefig('plots/behavioural_clusters_cmap_detailed.svg')"
   ]
  },
  {
   "cell_type": "markdown",
   "id": "665e4131-0b24-458b-999c-f9bfddaa692e",
   "metadata": {},
   "source": [
    "#### Plot clustering"
   ]
  },
  {
   "cell_type": "code",
   "execution_count": 632,
   "id": "b3a161a5-62ef-4644-b261-705fc3050827",
   "metadata": {},
   "outputs": [
    {
     "name": "stderr",
     "output_type": "stream",
     "text": [
      "/var/folders/bf/gw7g3vwn4cl_k752qcmmxhdh0000gn/T/ipykernel_18678/707347950.py:84: MatplotlibDeprecationWarning: Starting from Matplotlib 3.6, colorbar() will steal space from the mappable's axes, rather than from the current axes, to place the colorbar.  To silence this warning, explicitly pass the 'ax' argument to colorbar().\n",
      "  colorbar = fig.colorbar(scatter, ticks=[],\n"
     ]
    },
    {
     "data": {
      "image/png": "[encoded data removed]",
      "text/plain": [
       "<Figure size 600x700 with 2 Axes>"
      ]
     },
     "metadata": {},
     "output_type": "display_data"
    }
   ],
   "source": [
    "cmap = cmap_detailed\n",
    "fig = plot_gaussian_mixture(bgm_on_pca_nobmi, components_nobmi)\n",
    "# Clusters shown on plot are (clockwise): 0, 3, 8, 1\n",
    "plt.show()\n"
   ]
  },
  {
   "cell_type": "code",
   "execution_count": 635,
   "id": "a90f1f63-6f69-46d8-b2cc-aac102921198",
   "metadata": {},
   "outputs": [],
   "source": [
    "bgm_cluster_on_pca_nobmi = bgm_on_pca_nobmi.predict(components_nobmi)\n",
    "data_bgm_clustered_on_pca_nobmi = data_num.copy()\n",
    "data_bgm_clustered_on_pca_nobmi['bgm_pca_cluster'] = bgm_cluster_on_pca_nobmi\n",
    "data_bgm_clustered_on_pca_nobmi.to_csv(\"processed_data/clustered_behavioral_LEMON_pca_based_nobmi.csv\")"
   ]
  },
  {
   "cell_type": "code",
   "execution_count": 636,
   "id": "2d30aeb1-08ec-470e-b4cd-3208c7a65255",
   "metadata": {},
   "outputs": [
    {
     "name": "stderr",
     "output_type": "stream",
     "text": [
      "/var/folders/bf/gw7g3vwn4cl_k752qcmmxhdh0000gn/T/ipykernel_18678/3214915997.py:1: FutureWarning: Indexing with multiple keys (implicitly converted to a tuple of keys) will be deprecated, use a list instead.\n",
      "  data_bgm_clustered_on_pca_nobmi.groupby('bgm_pca_cluster', as_index=False)['FEV_KK', 'FEV_STOER', 'FEV_HUNGER', 'BMI'].agg('mean')\n"
     ]
    },
    {
     "data": {
      "text/html": [
       "<div>\n",
       "<style scoped>\n",
       "    .dataframe tbody tr th:only-of-type {\n",
       "        vertical-align: middle;\n",
       "    }\n",
       "\n",
       "    .dataframe tbody tr th {\n",
       "        vertical-align: top;\n",
       "    }\n",
       "\n",
       "    .dataframe thead th {\n",
       "        text-align: right;\n",
       "    }\n",
       "</style>\n",
       "<table border=\"1\" class=\"dataframe\">\n",
       "  <thead>\n",
       "    <tr style=\"text-align: right;\">\n",
       "      <th></th>\n",
       "      <th>bgm_pca_cluster</th>\n",
       "      <th>FEV_KK</th>\n",
       "      <th>FEV_STOER</th>\n",
       "      <th>FEV_HUNGER</th>\n",
       "      <th>BMI</th>\n",
       "    </tr>\n",
       "  </thead>\n",
       "  <tbody>\n",
       "    <tr>\n",
       "      <th>0</th>\n",
       "      <td>0</td>\n",
       "      <td>5.267717</td>\n",
       "      <td>5.338583</td>\n",
       "      <td>5.543307</td>\n",
       "      <td>23.108337</td>\n",
       "    </tr>\n",
       "    <tr>\n",
       "      <th>1</th>\n",
       "      <td>1</td>\n",
       "      <td>8.846154</td>\n",
       "      <td>4.153846</td>\n",
       "      <td>3.307692</td>\n",
       "      <td>26.232232</td>\n",
       "    </tr>\n",
       "    <tr>\n",
       "      <th>2</th>\n",
       "      <td>3</td>\n",
       "      <td>5.142857</td>\n",
       "      <td>5.500000</td>\n",
       "      <td>4.285714</td>\n",
       "      <td>23.455754</td>\n",
       "    </tr>\n",
       "    <tr>\n",
       "      <th>3</th>\n",
       "      <td>7</td>\n",
       "      <td>5.000000</td>\n",
       "      <td>5.000000</td>\n",
       "      <td>4.000000</td>\n",
       "      <td>28.801077</td>\n",
       "    </tr>\n",
       "    <tr>\n",
       "      <th>4</th>\n",
       "      <td>8</td>\n",
       "      <td>7.617647</td>\n",
       "      <td>3.735294</td>\n",
       "      <td>3.088235</td>\n",
       "      <td>25.557152</td>\n",
       "    </tr>\n",
       "  </tbody>\n",
       "</table>\n",
       "</div>"
      ],
      "text/plain": [
       "   bgm_pca_cluster    FEV_KK  FEV_STOER  FEV_HUNGER        BMI\n",
       "0                0  5.267717   5.338583    5.543307  23.108337\n",
       "1                1  8.846154   4.153846    3.307692  26.232232\n",
       "2                3  5.142857   5.500000    4.285714  23.455754\n",
       "3                7  5.000000   5.000000    4.000000  28.801077\n",
       "4                8  7.617647   3.735294    3.088235  25.557152"
      ]
     },
     "execution_count": 636,
     "metadata": {},
     "output_type": "execute_result"
    }
   ],
   "source": [
    "data_bgm_clustered_on_pca_nobmi.groupby('bgm_pca_cluster', as_index=False)['FEV_KK', 'FEV_STOER', 'FEV_HUNGER', 'BMI'].agg('mean')"
   ]
  },
  {
   "cell_type": "markdown",
   "id": "34f2006d-27dd-417d-abc6-37fd571b9bbf",
   "metadata": {},
   "source": [
    "#### ANOVA analysis of BMI between clusters"
   ]
  },
  {
   "cell_type": "code",
   "execution_count": 637,
   "id": "fcf46752-0ee3-4139-93f6-8bd4f692eb4c",
   "metadata": {},
   "outputs": [
    {
     "data": {
      "text/plain": [
       "F_onewayResult(statistic=12.767456676580391, pvalue=9.906761284154145e-08)"
      ]
     },
     "execution_count": 637,
     "metadata": {},
     "output_type": "execute_result"
    }
   ],
   "source": [
    "BMI_clust_0 = np.array(data_bgm_clustered_on_pca_nobmi[data_bgm_clustered_on_pca_nobmi['bgm_pca_cluster'] == 0]['BMI'])\n",
    "BMI_clust_1 = np.array(data_bgm_clustered_on_pca_nobmi[data_bgm_clustered_on_pca_nobmi['bgm_pca_cluster'] == 1]['BMI'])\n",
    "BMI_clust_3 = np.array(data_bgm_clustered_on_pca_nobmi[data_bgm_clustered_on_pca_nobmi['bgm_pca_cluster'] == 3]['BMI'])\n",
    "BMI_clust_8= np.array(data_bgm_clustered_on_pca_nobmi[data_bgm_clustered_on_pca_nobmi['bgm_pca_cluster'] == 8]['BMI'])\n",
    "\n",
    "from scipy.stats import f_oneway\n",
    "f_oneway(BMI_clust_0, BMI_clust_1,\n",
    "         BMI_clust_3, BMI_clust_8)"
   ]
  },
  {
   "cell_type": "code",
   "execution_count": 638,
   "id": "81a40b5d-2100-478c-9ae9-8708d6129904",
   "metadata": {},
   "outputs": [
    {
     "data": {
      "text/html": [
       "<div>\n",
       "<style scoped>\n",
       "    .dataframe tbody tr th:only-of-type {\n",
       "        vertical-align: middle;\n",
       "    }\n",
       "\n",
       "    .dataframe tbody tr th {\n",
       "        vertical-align: top;\n",
       "    }\n",
       "\n",
       "    .dataframe thead th {\n",
       "        text-align: right;\n",
       "    }\n",
       "</style>\n",
       "<table border=\"1\" class=\"dataframe\">\n",
       "  <thead>\n",
       "    <tr style=\"text-align: right;\">\n",
       "      <th></th>\n",
       "      <th>0</th>\n",
       "      <th>1</th>\n",
       "      <th>3</th>\n",
       "      <th>8</th>\n",
       "    </tr>\n",
       "  </thead>\n",
       "  <tbody>\n",
       "    <tr>\n",
       "      <th>0</th>\n",
       "      <td>1.000000e+00</td>\n",
       "      <td>3.369872e-07</td>\n",
       "      <td>0.983274</td>\n",
       "      <td>0.001249</td>\n",
       "    </tr>\n",
       "    <tr>\n",
       "      <th>1</th>\n",
       "      <td>3.369872e-07</td>\n",
       "      <td>1.000000e+00</td>\n",
       "      <td>0.034137</td>\n",
       "      <td>0.801259</td>\n",
       "    </tr>\n",
       "    <tr>\n",
       "      <th>3</th>\n",
       "      <td>9.832739e-01</td>\n",
       "      <td>3.413731e-02</td>\n",
       "      <td>1.000000</td>\n",
       "      <td>0.206278</td>\n",
       "    </tr>\n",
       "    <tr>\n",
       "      <th>8</th>\n",
       "      <td>1.249491e-03</td>\n",
       "      <td>8.012595e-01</td>\n",
       "      <td>0.206278</td>\n",
       "      <td>1.000000</td>\n",
       "    </tr>\n",
       "  </tbody>\n",
       "</table>\n",
       "</div>"
      ],
      "text/plain": [
       "              0             1         3         8\n",
       "0  1.000000e+00  3.369872e-07  0.983274  0.001249\n",
       "1  3.369872e-07  1.000000e+00  0.034137  0.801259\n",
       "3  9.832739e-01  3.413731e-02  1.000000  0.206278\n",
       "8  1.249491e-03  8.012595e-01  0.206278  1.000000"
      ]
     },
     "execution_count": 638,
     "metadata": {},
     "output_type": "execute_result"
    }
   ],
   "source": [
    "from scipy.stats import tukey_hsd\n",
    "bmi_hsd = tukey_hsd(BMI_clust_0, BMI_clust_1,\n",
    "                    BMI_clust_3, BMI_clust_8)\n",
    "pd.DataFrame(bmi_hsd.pvalue, columns=[0, 1, 3, 8], index=[0, 1, 3, 8])"
   ]
  }
 ],
 "metadata": {
  "kernelspec": {
   "display_name": "Python 3 (ipykernel)",
   "language": "python",
   "name": "python3"
  },
  "language_info": {
   "codemirror_mode": {
    "name": "ipython",
    "version": 3
   },
   "file_extension": ".py",
   "mimetype": "text/x-python",
   "name": "python",
   "nbconvert_exporter": "python",
   "pygments_lexer": "ipython3",
   "version": "3.10.6"
  },
  "toc-autonumbering": false,
  "toc-showcode": false,
  "toc-showmarkdowntxt": false,
  "toc-showtags": false
 },
 "nbformat": 4,
 "nbformat_minor": 5
}

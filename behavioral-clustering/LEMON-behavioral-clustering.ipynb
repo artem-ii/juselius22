{
 "cells": [
  {
   "cell_type": "markdown",
   "id": "49d9027e-fa6b-4ecd-96c2-14f1affcd223",
   "metadata": {
    "tags": []
   },
   "source": [
    "# Sigrid Juselius 2022"
   ]
  },
  {
   "cell_type": "code",
   "execution_count": 3,
   "id": "4dc1bc17-3eb5-478f-a0b4-4b74c4ee0ec9",
   "metadata": {},
   "outputs": [],
   "source": [
    "'''\n",
    "\n",
    "If SAVE_FILES set to True, the script will generate processed data files and plots.\n",
    "False by default.\n",
    "\n",
    "If VERBOSE set to True, the script will output additional information.\n",
    "False by default.\n",
    "'''\n",
    "SAVE_FILES = False\n",
    "VERBOSE = False"
   ]
  },
  {
   "cell_type": "markdown",
   "id": "bc6b3c65-5804-4028-8575-f363762f2df4",
   "metadata": {
    "tags": []
   },
   "source": [
    "## Import packages and set data folders "
   ]
  },
  {
   "cell_type": "code",
   "execution_count": 4,
   "id": "45c8c3fd",
   "metadata": {},
   "outputs": [],
   "source": [
    "import pandas as pd\n",
    "import plotly.express as px\n",
    "from sklearn.decomposition import PCA\n",
    "import sys\n",
    "import pickle as pkl"
   ]
  },
  {
   "cell_type": "code",
   "execution_count": 5,
   "id": "6e9f4607",
   "metadata": {},
   "outputs": [
    {
     "name": "stdout",
     "output_type": "stream",
     "text": [
      "/Users/artemii/obrain_lab/projects/obesity-types/datasets/mind-brain-body/Behavioural_Data_MPILMBB_LEMON\n"
     ]
    },
    {
     "data": {
      "text/plain": [
       "'/Users/artemii/obrain_lab/projects/obesity-types/datasets/mind-brain-body/Behavioural_Data_MPILMBB_LEMON'"
      ]
     },
     "execution_count": 5,
     "metadata": {},
     "output_type": "execute_result"
    }
   ],
   "source": [
    "DATASET_PATH = \"/Users/artemii/obrain_lab/projects/obesity-types/datasets/mind-brain-body/Behavioural_Data_MPILMBB_LEMON/\"\n",
    "SCRIPTS_PATH = \"/Users/artemii/obrain_lab/projects/obesity-types/grant-proposals/sigrid-juselius-2022/scripts/\"\n",
    "%cd {DATASET_PATH}\n",
    "%pwd"
   ]
  },
  {
   "cell_type": "markdown",
   "id": "848e0c1c-5d1b-4a01-bc0f-6bfb529d1a80",
   "metadata": {
    "tags": [],
    "toc-hr-collapsed": true
   },
   "source": [
    "## Data Cleaning"
   ]
  },
  {
   "cell_type": "code",
   "execution_count": 6,
   "id": "a6015857",
   "metadata": {
    "scrolled": true
   },
   "outputs": [
    {
     "data": {
      "text/html": [
       "<div>\n",
       "<style scoped>\n",
       "    .dataframe tbody tr th:only-of-type {\n",
       "        vertical-align: middle;\n",
       "    }\n",
       "\n",
       "    .dataframe tbody tr th {\n",
       "        vertical-align: top;\n",
       "    }\n",
       "\n",
       "    .dataframe thead th {\n",
       "        text-align: right;\n",
       "    }\n",
       "</style>\n",
       "<table border=\"1\" class=\"dataframe\">\n",
       "  <thead>\n",
       "    <tr style=\"text-align: right;\">\n",
       "      <th></th>\n",
       "      <th>Unnamed: 0</th>\n",
       "      <th>Gender_ 1=female_2=male</th>\n",
       "      <th>Age</th>\n",
       "      <th>Handedness</th>\n",
       "      <th>Education</th>\n",
       "      <th>DRUG</th>\n",
       "      <th>DRUG_0=negative_1=Positive</th>\n",
       "      <th>Unnamed: 7</th>\n",
       "      <th>Smoking</th>\n",
       "      <th>Smoking_num_(Non-smoker=1, Occasional Smoker=2, Smoker=3)</th>\n",
       "      <th>...</th>\n",
       "      <th>SKID_Diagnoses 1</th>\n",
       "      <th>SKID_Diagnoses 2</th>\n",
       "      <th>Comments_SKID_assessment</th>\n",
       "      <th>Hamilton_Scale</th>\n",
       "      <th>BSL23_sumscore</th>\n",
       "      <th>BSL23_behavior</th>\n",
       "      <th>AUDIT</th>\n",
       "      <th>Standard_Alcoholunits_Last_28days</th>\n",
       "      <th>Alcohol_Dependence_In_1st-3rd_Degree_relative</th>\n",
       "      <th>Relationship_Status</th>\n",
       "    </tr>\n",
       "  </thead>\n",
       "  <tbody>\n",
       "    <tr>\n",
       "      <th>0</th>\n",
       "      <td>sub-032311</td>\n",
       "      <td>2</td>\n",
       "      <td>20-25</td>\n",
       "      <td>right</td>\n",
       "      <td>Gymnasium</td>\n",
       "      <td>negative</td>\n",
       "      <td>0.0</td>\n",
       "      <td>NaN</td>\n",
       "      <td>non-smoker</td>\n",
       "      <td>1.0</td>\n",
       "      <td>...</td>\n",
       "      <td>#CODE:V71.09  #DESC:No Diagnosis or Condition ...</td>\n",
       "      <td>NaN</td>\n",
       "      <td>NaN</td>\n",
       "      <td>0.0</td>\n",
       "      <td>NaN</td>\n",
       "      <td>NaN</td>\n",
       "      <td>12.0</td>\n",
       "      <td>47</td>\n",
       "      <td>No</td>\n",
       "      <td>No</td>\n",
       "    </tr>\n",
       "    <tr>\n",
       "      <th>1</th>\n",
       "      <td>sub-032309</td>\n",
       "      <td>2</td>\n",
       "      <td>20-25</td>\n",
       "      <td>right</td>\n",
       "      <td>Gymnasium</td>\n",
       "      <td>negative</td>\n",
       "      <td>0.0</td>\n",
       "      <td>NaN</td>\n",
       "      <td>occasional smoker</td>\n",
       "      <td>2.0</td>\n",
       "      <td>...</td>\n",
       "      <td>#CODE:V71.09  #DESC:No Diagnosis or Condition ...</td>\n",
       "      <td>NaN</td>\n",
       "      <td>NaN</td>\n",
       "      <td>0.0</td>\n",
       "      <td>NaN</td>\n",
       "      <td>NaN</td>\n",
       "      <td>12.0</td>\n",
       "      <td>45</td>\n",
       "      <td>Yes</td>\n",
       "      <td>Yes</td>\n",
       "    </tr>\n",
       "    <tr>\n",
       "      <th>2</th>\n",
       "      <td>sub-032382</td>\n",
       "      <td>2</td>\n",
       "      <td>25-30</td>\n",
       "      <td>right</td>\n",
       "      <td>Gymnasium</td>\n",
       "      <td>negative</td>\n",
       "      <td>0.0</td>\n",
       "      <td>NaN</td>\n",
       "      <td>occasional smoker</td>\n",
       "      <td>2.0</td>\n",
       "      <td>...</td>\n",
       "      <td>NaN</td>\n",
       "      <td>NaN</td>\n",
       "      <td>NaN</td>\n",
       "      <td>2.0</td>\n",
       "      <td>NaN</td>\n",
       "      <td>NaN</td>\n",
       "      <td>0.0</td>\n",
       "      <td>12</td>\n",
       "      <td>unknown</td>\n",
       "      <td>Yes</td>\n",
       "    </tr>\n",
       "    <tr>\n",
       "      <th>3</th>\n",
       "      <td>sub-032302</td>\n",
       "      <td>1</td>\n",
       "      <td>20-25</td>\n",
       "      <td>right</td>\n",
       "      <td>Gymnasium</td>\n",
       "      <td>negative</td>\n",
       "      <td>0.0</td>\n",
       "      <td>NaN</td>\n",
       "      <td>non-smoker</td>\n",
       "      <td>1.0</td>\n",
       "      <td>...</td>\n",
       "      <td>#CODE:V71.09  #DESC:No Diagnosis or Condition ...</td>\n",
       "      <td>NaN</td>\n",
       "      <td>NaN</td>\n",
       "      <td>3.0</td>\n",
       "      <td>NaN</td>\n",
       "      <td>NaN</td>\n",
       "      <td>1.0</td>\n",
       "      <td>0</td>\n",
       "      <td>No</td>\n",
       "      <td>No</td>\n",
       "    </tr>\n",
       "    <tr>\n",
       "      <th>4</th>\n",
       "      <td>sub-032315</td>\n",
       "      <td>2</td>\n",
       "      <td>20-25</td>\n",
       "      <td>right</td>\n",
       "      <td>Gymnasium</td>\n",
       "      <td>negative</td>\n",
       "      <td>0.0</td>\n",
       "      <td>NaN</td>\n",
       "      <td>non-smoker</td>\n",
       "      <td>1.0</td>\n",
       "      <td>...</td>\n",
       "      <td>#CODE:V71.09  #DESC:No Diagnosis or Condition ...</td>\n",
       "      <td>NaN</td>\n",
       "      <td>NaN</td>\n",
       "      <td>2.0</td>\n",
       "      <td>NaN</td>\n",
       "      <td>NaN</td>\n",
       "      <td>7.0</td>\n",
       "      <td>22</td>\n",
       "      <td>No</td>\n",
       "      <td>No</td>\n",
       "    </tr>\n",
       "  </tbody>\n",
       "</table>\n",
       "<p>5 rows × 21 columns</p>\n",
       "</div>"
      ],
      "text/plain": [
       "   Unnamed: 0  Gender_ 1=female_2=male    Age Handedness  Education      DRUG  \\\n",
       "0  sub-032311                        2  20-25      right  Gymnasium  negative   \n",
       "1  sub-032309                        2  20-25      right  Gymnasium  negative   \n",
       "2  sub-032382                        2  25-30      right  Gymnasium  negative   \n",
       "3  sub-032302                        1  20-25      right  Gymnasium  negative   \n",
       "4  sub-032315                        2  20-25      right  Gymnasium  negative   \n",
       "\n",
       "   DRUG_0=negative_1=Positive Unnamed: 7            Smoking  \\\n",
       "0                         0.0        NaN         non-smoker   \n",
       "1                         0.0        NaN  occasional smoker   \n",
       "2                         0.0        NaN  occasional smoker   \n",
       "3                         0.0        NaN         non-smoker   \n",
       "4                         0.0        NaN         non-smoker   \n",
       "\n",
       "   Smoking_num_(Non-smoker=1, Occasional Smoker=2, Smoker=3)  ...  \\\n",
       "0                                                1.0          ...   \n",
       "1                                                2.0          ...   \n",
       "2                                                2.0          ...   \n",
       "3                                                1.0          ...   \n",
       "4                                                1.0          ...   \n",
       "\n",
       "                                    SKID_Diagnoses 1 SKID_Diagnoses 2  \\\n",
       "0  #CODE:V71.09  #DESC:No Diagnosis or Condition ...              NaN   \n",
       "1  #CODE:V71.09  #DESC:No Diagnosis or Condition ...              NaN   \n",
       "2                                                NaN              NaN   \n",
       "3  #CODE:V71.09  #DESC:No Diagnosis or Condition ...              NaN   \n",
       "4  #CODE:V71.09  #DESC:No Diagnosis or Condition ...              NaN   \n",
       "\n",
       "  Comments_SKID_assessment Hamilton_Scale  BSL23_sumscore  BSL23_behavior  \\\n",
       "0                      NaN            0.0             NaN             NaN   \n",
       "1                      NaN            0.0             NaN             NaN   \n",
       "2                      NaN            2.0             NaN             NaN   \n",
       "3                      NaN            3.0             NaN             NaN   \n",
       "4                      NaN            2.0             NaN             NaN   \n",
       "\n",
       "   AUDIT  Standard_Alcoholunits_Last_28days  \\\n",
       "0   12.0                                 47   \n",
       "1   12.0                                 45   \n",
       "2    0.0                                 12   \n",
       "3    1.0                                  0   \n",
       "4    7.0                                 22   \n",
       "\n",
       "  Alcohol_Dependence_In_1st-3rd_Degree_relative Relationship_Status  \n",
       "0                                            No                  No  \n",
       "1                                           Yes                 Yes  \n",
       "2                                       unknown                 Yes  \n",
       "3                                            No                  No  \n",
       "4                                            No                  No  \n",
       "\n",
       "[5 rows x 21 columns]"
      ]
     },
     "execution_count": 6,
     "metadata": {},
     "output_type": "execute_result"
    }
   ],
   "source": [
    "meta_data = pd.read_csv(\"META_File_IDs_Age_Gender_Education_Drug_Smoke_SKID_LEMON.csv\")\n",
    "meta_data.head()"
   ]
  },
  {
   "cell_type": "code",
   "execution_count": 7,
   "id": "7ba7bfd3",
   "metadata": {},
   "outputs": [
    {
     "data": {
      "text/html": [
       "<div>\n",
       "<style scoped>\n",
       "    .dataframe tbody tr th:only-of-type {\n",
       "        vertical-align: middle;\n",
       "    }\n",
       "\n",
       "    .dataframe tbody tr th {\n",
       "        vertical-align: top;\n",
       "    }\n",
       "\n",
       "    .dataframe thead th {\n",
       "        text-align: right;\n",
       "    }\n",
       "</style>\n",
       "<table border=\"1\" class=\"dataframe\">\n",
       "  <thead>\n",
       "    <tr style=\"text-align: right;\">\n",
       "      <th></th>\n",
       "      <th>Height_cm</th>\n",
       "      <th>Weight_kg</th>\n",
       "      <th>Waist_cm</th>\n",
       "      <th>Hip_cm</th>\n",
       "      <th>BMI</th>\n",
       "    </tr>\n",
       "  </thead>\n",
       "  <tbody>\n",
       "    <tr>\n",
       "      <th>count</th>\n",
       "      <td>228.000000</td>\n",
       "      <td>228.000000</td>\n",
       "      <td>227.000000</td>\n",
       "      <td>227.000000</td>\n",
       "      <td>228.000000</td>\n",
       "    </tr>\n",
       "    <tr>\n",
       "      <th>mean</th>\n",
       "      <td>174.759211</td>\n",
       "      <td>74.099079</td>\n",
       "      <td>84.362115</td>\n",
       "      <td>95.362996</td>\n",
       "      <td>24.232279</td>\n",
       "    </tr>\n",
       "    <tr>\n",
       "      <th>std</th>\n",
       "      <td>10.236729</td>\n",
       "      <td>13.054842</td>\n",
       "      <td>12.049521</td>\n",
       "      <td>9.958975</td>\n",
       "      <td>3.634442</td>\n",
       "    </tr>\n",
       "    <tr>\n",
       "      <th>min</th>\n",
       "      <td>145.000000</td>\n",
       "      <td>48.000000</td>\n",
       "      <td>60.000000</td>\n",
       "      <td>70.000000</td>\n",
       "      <td>17.930787</td>\n",
       "    </tr>\n",
       "    <tr>\n",
       "      <th>25%</th>\n",
       "      <td>167.425000</td>\n",
       "      <td>64.250000</td>\n",
       "      <td>75.800000</td>\n",
       "      <td>89.250000</td>\n",
       "      <td>21.545560</td>\n",
       "    </tr>\n",
       "    <tr>\n",
       "      <th>50%</th>\n",
       "      <td>175.000000</td>\n",
       "      <td>72.850000</td>\n",
       "      <td>83.000000</td>\n",
       "      <td>95.000000</td>\n",
       "      <td>23.664355</td>\n",
       "    </tr>\n",
       "    <tr>\n",
       "      <th>75%</th>\n",
       "      <td>182.825000</td>\n",
       "      <td>82.650000</td>\n",
       "      <td>92.000000</td>\n",
       "      <td>101.000000</td>\n",
       "      <td>26.076901</td>\n",
       "    </tr>\n",
       "    <tr>\n",
       "      <th>max</th>\n",
       "      <td>199.500000</td>\n",
       "      <td>113.900000</td>\n",
       "      <td>127.000000</td>\n",
       "      <td>126.000000</td>\n",
       "      <td>36.649262</td>\n",
       "    </tr>\n",
       "  </tbody>\n",
       "</table>\n",
       "</div>"
      ],
      "text/plain": [
       "        Height_cm   Weight_kg    Waist_cm      Hip_cm         BMI\n",
       "count  228.000000  228.000000  227.000000  227.000000  228.000000\n",
       "mean   174.759211   74.099079   84.362115   95.362996   24.232279\n",
       "std     10.236729   13.054842   12.049521    9.958975    3.634442\n",
       "min    145.000000   48.000000   60.000000   70.000000   17.930787\n",
       "25%    167.425000   64.250000   75.800000   89.250000   21.545560\n",
       "50%    175.000000   72.850000   83.000000   95.000000   23.664355\n",
       "75%    182.825000   82.650000   92.000000  101.000000   26.076901\n",
       "max    199.500000  113.900000  127.000000  126.000000   36.649262"
      ]
     },
     "execution_count": 7,
     "metadata": {},
     "output_type": "execute_result"
    }
   ],
   "source": [
    "anthropometry = pd.read_csv(\"Medical_LEMON/Anthropometry/Anthropometry_LEMON.csv\")\n",
    "anthropometry[\"BMI\"] = anthropometry[\"Weight_kg\"]/((anthropometry[\"Height_cm\"]/100)**2)\n",
    "anthropometry.describe()"
   ]
  },
  {
   "cell_type": "code",
   "execution_count": 8,
   "id": "03dc05ea",
   "metadata": {},
   "outputs": [
    {
     "data": {
      "text/plain": [
       "<AxesSubplot:>"
      ]
     },
     "execution_count": 8,
     "metadata": {},
     "output_type": "execute_result"
    },
    {
     "data": {
      "image/png": "[encoded data removed]",
      "text/plain": [
       "<Figure size 640x480 with 1 Axes>"
      ]
     },
     "metadata": {},
     "output_type": "display_data"
    }
   ],
   "source": [
    "anthropometry[\"BMI\"].hist(bins=50)"
   ]
  },
  {
   "cell_type": "code",
   "execution_count": 9,
   "id": "590e6c58",
   "metadata": {},
   "outputs": [
    {
     "data": {
      "text/html": [
       "<div>\n",
       "<style scoped>\n",
       "    .dataframe tbody tr th:only-of-type {\n",
       "        vertical-align: middle;\n",
       "    }\n",
       "\n",
       "    .dataframe tbody tr th {\n",
       "        vertical-align: top;\n",
       "    }\n",
       "\n",
       "    .dataframe thead th {\n",
       "        text-align: right;\n",
       "    }\n",
       "</style>\n",
       "<table border=\"1\" class=\"dataframe\">\n",
       "  <thead>\n",
       "    <tr style=\"text-align: right;\">\n",
       "      <th></th>\n",
       "      <th>Unnamed: 0</th>\n",
       "      <th>Height_cm</th>\n",
       "      <th>Weight_kg</th>\n",
       "      <th>Waist_cm</th>\n",
       "      <th>Hip_cm</th>\n",
       "      <th>BMI</th>\n",
       "    </tr>\n",
       "  </thead>\n",
       "  <tbody>\n",
       "    <tr>\n",
       "      <th>0</th>\n",
       "      <td>sub-032301</td>\n",
       "      <td>162.0</td>\n",
       "      <td>78.00</td>\n",
       "      <td>97.0</td>\n",
       "      <td>111.0</td>\n",
       "      <td>29.721079</td>\n",
       "    </tr>\n",
       "    <tr>\n",
       "      <th>1</th>\n",
       "      <td>sub-032302</td>\n",
       "      <td>164.5</td>\n",
       "      <td>64.30</td>\n",
       "      <td>70.0</td>\n",
       "      <td>102.0</td>\n",
       "      <td>23.761791</td>\n",
       "    </tr>\n",
       "    <tr>\n",
       "      <th>2</th>\n",
       "      <td>sub-032303</td>\n",
       "      <td>166.5</td>\n",
       "      <td>101.60</td>\n",
       "      <td>113.0</td>\n",
       "      <td>123.0</td>\n",
       "      <td>36.649262</td>\n",
       "    </tr>\n",
       "    <tr>\n",
       "      <th>3</th>\n",
       "      <td>sub-032304</td>\n",
       "      <td>184.6</td>\n",
       "      <td>87.60</td>\n",
       "      <td>95.0</td>\n",
       "      <td>93.5</td>\n",
       "      <td>25.706368</td>\n",
       "    </tr>\n",
       "    <tr>\n",
       "      <th>4</th>\n",
       "      <td>sub-032305</td>\n",
       "      <td>171.5</td>\n",
       "      <td>71.19</td>\n",
       "      <td>83.0</td>\n",
       "      <td>107.0</td>\n",
       "      <td>24.204201</td>\n",
       "    </tr>\n",
       "    <tr>\n",
       "      <th>...</th>\n",
       "      <td>...</td>\n",
       "      <td>...</td>\n",
       "      <td>...</td>\n",
       "      <td>...</td>\n",
       "      <td>...</td>\n",
       "      <td>...</td>\n",
       "    </tr>\n",
       "    <tr>\n",
       "      <th>223</th>\n",
       "      <td>sub-032524</td>\n",
       "      <td>182.2</td>\n",
       "      <td>69.70</td>\n",
       "      <td>75.5</td>\n",
       "      <td>98.0</td>\n",
       "      <td>20.995974</td>\n",
       "    </tr>\n",
       "    <tr>\n",
       "      <th>224</th>\n",
       "      <td>sub-032525</td>\n",
       "      <td>175.8</td>\n",
       "      <td>72.50</td>\n",
       "      <td>75.6</td>\n",
       "      <td>85.0</td>\n",
       "      <td>23.458501</td>\n",
       "    </tr>\n",
       "    <tr>\n",
       "      <th>225</th>\n",
       "      <td>sub-032526</td>\n",
       "      <td>186.2</td>\n",
       "      <td>90.40</td>\n",
       "      <td>93.0</td>\n",
       "      <td>107.0</td>\n",
       "      <td>26.074085</td>\n",
       "    </tr>\n",
       "    <tr>\n",
       "      <th>226</th>\n",
       "      <td>sub-032527</td>\n",
       "      <td>192.1</td>\n",
       "      <td>87.40</td>\n",
       "      <td>84.0</td>\n",
       "      <td>91.0</td>\n",
       "      <td>23.684090</td>\n",
       "    </tr>\n",
       "    <tr>\n",
       "      <th>227</th>\n",
       "      <td>sub-032528</td>\n",
       "      <td>157.5</td>\n",
       "      <td>65.30</td>\n",
       "      <td>74.0</td>\n",
       "      <td>96.0</td>\n",
       "      <td>26.324011</td>\n",
       "    </tr>\n",
       "  </tbody>\n",
       "</table>\n",
       "<p>228 rows × 6 columns</p>\n",
       "</div>"
      ],
      "text/plain": [
       "     Unnamed: 0  Height_cm  Weight_kg  Waist_cm  Hip_cm        BMI\n",
       "0    sub-032301      162.0      78.00      97.0   111.0  29.721079\n",
       "1    sub-032302      164.5      64.30      70.0   102.0  23.761791\n",
       "2    sub-032303      166.5     101.60     113.0   123.0  36.649262\n",
       "3    sub-032304      184.6      87.60      95.0    93.5  25.706368\n",
       "4    sub-032305      171.5      71.19      83.0   107.0  24.204201\n",
       "..          ...        ...        ...       ...     ...        ...\n",
       "223  sub-032524      182.2      69.70      75.5    98.0  20.995974\n",
       "224  sub-032525      175.8      72.50      75.6    85.0  23.458501\n",
       "225  sub-032526      186.2      90.40      93.0   107.0  26.074085\n",
       "226  sub-032527      192.1      87.40      84.0    91.0  23.684090\n",
       "227  sub-032528      157.5      65.30      74.0    96.0  26.324011\n",
       "\n",
       "[228 rows x 6 columns]"
      ]
     },
     "execution_count": 9,
     "metadata": {},
     "output_type": "execute_result"
    }
   ],
   "source": [
    "anthropometry"
   ]
  },
  {
   "cell_type": "code",
   "execution_count": 10,
   "id": "a4b042da",
   "metadata": {},
   "outputs": [],
   "source": [
    "import numpy as np\n",
    "import matplotlib.pyplot as plt\n",
    "import statsmodels.api as sm\n",
    "import os"
   ]
  },
  {
   "cell_type": "code",
   "execution_count": 11,
   "id": "d686811c",
   "metadata": {},
   "outputs": [],
   "source": [
    "cognitive_tests_path = \"Cognitive_Test_Battery_LEMON\"\n",
    "emotion_personality_tests_path = \"Emotion_and_Personality_Test_Battery_LEMON\"\n",
    "cognitive_tests_folders = os.listdir(cognitive_tests_path)\n",
    "for i in cognitive_tests_folders:\n",
    "    if i == '.DS_Store':\n",
    "        cognitive_tests_folders.remove(i)\n",
    "cognitive_tests_path_full = [os.path.join(cognitive_tests_path, s) for s in cognitive_tests_folders]\n",
    "tests_path_full = cognitive_tests_path_full + [emotion_personality_tests_path]\n",
    "df_list = []\n",
    "for folder in tests_path_full:\n",
    "    for file in os.listdir(folder):\n",
    "        if '.' in file:\n",
    "            if file.split('.')[1] == 'csv':\n",
    "                filepath = os.path.join(folder, file)\n",
    "                df_list.append(pd.read_csv(filepath))\n",
    "\n",
    "data = anthropometry\n",
    "data = data.rename(columns={'Unnamed: 0':'id'}).set_index('id')\n",
    "count = 0\n",
    "for dataset in df_list:\n",
    "    dataset = dataset.rename(columns={'Unnamed: 0':'id'})\n",
    "    data = data.join(dataset.set_index('id'))\n",
    "    count += 1"
   ]
  },
  {
   "cell_type": "code",
   "execution_count": 12,
   "id": "9ba0dccf",
   "metadata": {},
   "outputs": [],
   "source": [
    "if VERBOSE:\n",
    "    data.head()"
   ]
  },
  {
   "cell_type": "code",
   "execution_count": 13,
   "id": "b51ff661",
   "metadata": {},
   "outputs": [],
   "source": [
    "if VERBOSE:\n",
    "    data.info(verbose=True)"
   ]
  },
  {
   "cell_type": "code",
   "execution_count": 14,
   "id": "d3d38fce",
   "metadata": {},
   "outputs": [],
   "source": [
    "if VERBOSE:\n",
    "    data._get_numeric_data().info(verbose=True, null_counts=True)"
   ]
  },
  {
   "cell_type": "code",
   "execution_count": 15,
   "id": "59b1bfd4",
   "metadata": {},
   "outputs": [],
   "source": [
    "data_num = data._get_numeric_data()"
   ]
  },
  {
   "cell_type": "code",
   "execution_count": 16,
   "id": "26679d52",
   "metadata": {},
   "outputs": [],
   "source": [
    "if VERBOSE:\n",
    "    [data.shape, data_num.shape]"
   ]
  },
  {
   "cell_type": "code",
   "execution_count": 17,
   "id": "f60418d5",
   "metadata": {},
   "outputs": [
    {
     "data": {
      "text/plain": [
       "(228, 219)"
      ]
     },
     "execution_count": 17,
     "metadata": {},
     "output_type": "execute_result"
    }
   ],
   "source": [
    "# Replace NAs with medians\n",
    "\n",
    "for col in data_num.columns:\n",
    "    median = data_num[col].median()\n",
    "    data_num[col].fillna(median, inplace=True)\n",
    "\n",
    "data_num.shape"
   ]
  },
  {
   "cell_type": "code",
   "execution_count": 18,
   "id": "4357aa78",
   "metadata": {
    "scrolled": true
   },
   "outputs": [],
   "source": [
    "if VERBOSE:\n",
    "    data_num.describe()"
   ]
  },
  {
   "cell_type": "markdown",
   "id": "236fff49-6f3b-41f0-8544-6b727efc90c4",
   "metadata": {
    "tags": []
   },
   "source": [
    "## Principal Component Analysis"
   ]
  },
  {
   "cell_type": "markdown",
   "id": "69039ec9-67e8-49d2-8c0f-565ef14d15d3",
   "metadata": {},
   "source": [
    "### Scale data for PCA"
   ]
  },
  {
   "cell_type": "code",
   "execution_count": 87,
   "id": "fbe3acd4",
   "metadata": {},
   "outputs": [
    {
     "name": "stderr",
     "output_type": "stream",
     "text": [
      "/Users/artemii/opt/anaconda3/envs/juselius22/lib/python3.10/site-packages/sklearn/utils/extmath.py:981: RuntimeWarning: invalid value encountered in divide\n",
      "  updated_mean = (last_sum + new_sum) / updated_sample_count\n",
      "/Users/artemii/opt/anaconda3/envs/juselius22/lib/python3.10/site-packages/sklearn/utils/extmath.py:986: RuntimeWarning: invalid value encountered in divide\n",
      "  T = new_sum / new_sample_count\n",
      "/Users/artemii/opt/anaconda3/envs/juselius22/lib/python3.10/site-packages/sklearn/utils/extmath.py:1006: RuntimeWarning: invalid value encountered in divide\n",
      "  new_unnormalized_variance -= correction**2 / new_sample_count\n"
     ]
    },
    {
     "data": {
      "text/plain": [
       "(228, 219)"
      ]
     },
     "execution_count": 87,
     "metadata": {},
     "output_type": "execute_result"
    }
   ],
   "source": [
    "from sklearn.preprocessing import StandardScaler\n",
    "\n",
    "standard_scaler = StandardScaler()\n",
    "X = standard_scaler.fit_transform(data_num)\n",
    "\n",
    "X.shape"
   ]
  },
  {
   "cell_type": "code",
   "execution_count": 88,
   "id": "328fad5b",
   "metadata": {},
   "outputs": [],
   "source": [
    "data_num_tr = pd.DataFrame(X, columns=data_num.columns, index=data_num.index)"
   ]
  },
  {
   "cell_type": "markdown",
   "id": "36ea12b4-d639-4391-87fd-d9001c8401f6",
   "metadata": {},
   "source": [
    "### Remove null and non-number values"
   ]
  },
  {
   "cell_type": "code",
   "execution_count": 19,
   "id": "29d7e1a4",
   "metadata": {},
   "outputs": [],
   "source": [
    "if VERBOSE:\n",
    "    data_num_tr.describe()"
   ]
  },
  {
   "cell_type": "code",
   "execution_count": 20,
   "id": "d2aa6242",
   "metadata": {},
   "outputs": [],
   "source": [
    "if VERBOSE:\n",
    "    data_num_tr.info(verbose=True, null_counts=True)"
   ]
  },
  {
   "cell_type": "code",
   "execution_count": 91,
   "id": "84f798ff",
   "metadata": {},
   "outputs": [],
   "source": [
    "data_num_tr.drop(columns=['YFAS_control', 'YFAS_attempts', 'YFAS_time',\n",
    "                         'YFAS_activities', 'YFAS_problems', 'YFAS_tolerance',\n",
    "                         'YFAS_withdrawal', 'YFAS_impairment', 'YFAS_symptom_count',\n",
    "                         'YFAS_diagnosis', 'Unnamed: 32'], inplace=True)"
   ]
  },
  {
   "cell_type": "code",
   "execution_count": 21,
   "id": "6a15b34b",
   "metadata": {},
   "outputs": [],
   "source": [
    "if VERBOSE:\n",
    "    data_num_tr.info(verbose=True, null_counts=True)"
   ]
  },
  {
   "cell_type": "code",
   "execution_count": null,
   "id": "a84efa4c",
   "metadata": {},
   "outputs": [],
   "source": [
    "# Had to install plotly through conda as it didn't work through pip\n",
    "\n",
    "# !conda install --yes --prefix {'/opt/homebrew/opt/python@3.9/Frameworks/Python.framework/Versions/3.9'} plotly\n",
    "\n"
   ]
  },
  {
   "cell_type": "code",
   "execution_count": null,
   "id": "7910459e",
   "metadata": {},
   "outputs": [],
   "source": [
    "sys.prefix"
   ]
  },
  {
   "cell_type": "markdown",
   "id": "f5dc923b-a58e-4706-9580-6ec6ece29b86",
   "metadata": {},
   "source": [
    "### Reduce and Plot"
   ]
  },
  {
   "cell_type": "code",
   "execution_count": null,
   "id": "7702c534",
   "metadata": {},
   "outputs": [],
   "source": [
    "pca = PCA(n_components=2)\n",
    "components = pca.fit_transform(data_num_tr)\n",
    "fig = px.scatter_matrix(components,\n",
    "                        dimensions=range(2),\n",
    "                        color=data_num_tr['Waist_cm'],\n",
    "                        color_continuous_scale=px.colors.sequential.Inferno,\n",
    "                        width=1200,\n",
    "                        height=700,\n",
    "                        labels={'0': 'PC1', '1': 'PC2'}\n",
    "                       )\n",
    "\n",
    "fig.update_layout({'plot_bgcolor': 'rgba(0, 0, 0, 0)', \n",
    "                   'paper_bgcolor': 'rgba(0, 0, 0, 0)',})\n",
    "fig.update_xaxes(showline=True, linewidth=2, linecolor='black')\n",
    "fig.update_yaxes(showline=True, linewidth=2, linecolor='black')\n",
    "\n",
    "fig.show()"
   ]
  },
  {
   "cell_type": "code",
   "execution_count": null,
   "id": "20b716ff",
   "metadata": {},
   "outputs": [],
   "source": [
    "dir(px.colors.sequential)"
   ]
  },
  {
   "cell_type": "code",
   "execution_count": null,
   "id": "8c759227",
   "metadata": {},
   "outputs": [],
   "source": [
    "pip install -U kaleido"
   ]
  },
  {
   "cell_type": "code",
   "execution_count": null,
   "id": "50daf8a1",
   "metadata": {},
   "outputs": [],
   "source": [
    "import plotly.io as pio\n",
    "pio.kaleido.scope.default_width = 1200\n",
    "pio.kaleido.scope.default_height = 700\n",
    "\n",
    "if SAVE_FILES:\n",
    "    os.makedirs(\"plots\", exist_ok=True)\n",
    "    fig.write_image('plots/mind-brain-body-pca-waist.svg')"
   ]
  },
  {
   "cell_type": "code",
   "execution_count": null,
   "id": "c8785ca8-8ad4-4e97-80ab-c377ebca4d62",
   "metadata": {},
   "outputs": [],
   "source": [
    "pca.n_features_"
   ]
  },
  {
   "cell_type": "code",
   "execution_count": null,
   "id": "283a3da2-4e2f-4a99-b58a-408595489133",
   "metadata": {},
   "outputs": [],
   "source": [
    "pca.explained_variance_ratio_"
   ]
  },
  {
   "cell_type": "markdown",
   "id": "8d33e73e-38c8-450b-b71e-1eb0c84d554b",
   "metadata": {},
   "source": [
    "### Important Features"
   ]
  },
  {
   "cell_type": "code",
   "execution_count": null,
   "id": "955b5b29",
   "metadata": {},
   "outputs": [],
   "source": [
    "relevant_features = pd.DataFrame(abs(pca.components_), columns=data_num_tr.columns, index=['PC1', 'PC2'])"
   ]
  },
  {
   "cell_type": "code",
   "execution_count": null,
   "id": "0fe96853",
   "metadata": {},
   "outputs": [],
   "source": [
    "relevant_features"
   ]
  },
  {
   "cell_type": "code",
   "execution_count": null,
   "id": "6595f96d",
   "metadata": {},
   "outputs": [],
   "source": [
    "relevant_features.idxmax(axis=1)"
   ]
  },
  {
   "cell_type": "code",
   "execution_count": null,
   "id": "7bb023ad",
   "metadata": {},
   "outputs": [],
   "source": [
    "relevant_features_pc1_sorted = relevant_features.transpose().sort_values('PC1', ascending=False)\n",
    "relevant_features_pc1_sorted.head(20)"
   ]
  },
  {
   "cell_type": "code",
   "execution_count": null,
   "id": "22f96120",
   "metadata": {},
   "outputs": [],
   "source": [
    "relevant_features_pc2_sorted = relevant_features.transpose().sort_values('PC2', ascending=False)\n",
    "relevant_features_pc2_sorted.head(20)"
   ]
  },
  {
   "cell_type": "code",
   "execution_count": null,
   "id": "0cc23a79",
   "metadata": {},
   "outputs": [],
   "source": [
    "if SAVE_FILES:\n",
    "    os.makedirs(\"processed_data\", exist_ok=True)\n",
    "    relevant_features_pc1_sorted.to_csv('processed_data/relevant_features_pc1_sorted.csv')\n",
    "    relevant_features_pc2_sorted.to_csv('processed_data/relevant_features_pc2_sorted.csv')"
   ]
  },
  {
   "cell_type": "code",
   "execution_count": null,
   "id": "1c21f841",
   "metadata": {},
   "outputs": [],
   "source": [
    "fig"
   ]
  },
  {
   "cell_type": "code",
   "execution_count": null,
   "id": "23ccf516",
   "metadata": {},
   "outputs": [],
   "source": [
    "sys.version"
   ]
  },
  {
   "cell_type": "code",
   "execution_count": null,
   "id": "056d9641",
   "metadata": {},
   "outputs": [],
   "source": [
    "%cd /Users/artemii/Documents/o-brain-lab/projects/obesity-types/grant-proposals/sigrid-juselius-2022/scripts/\n",
    "DATA_FOLDER = '/Users/artemii/Documents/o-brain-lab/projects/obesity-types/datasets/mind-brain-body/Behavioural_Data_MPILMBB_LEMON'"
   ]
  },
  {
   "cell_type": "markdown",
   "id": "0703cd38-90ff-4e80-8d32-3acf3f3f9416",
   "metadata": {},
   "source": [
    "### PCA to explain 95% variance"
   ]
  },
  {
   "cell_type": "code",
   "execution_count": null,
   "id": "7c46318b-85b8-4b65-a5d0-a059d5323471",
   "metadata": {},
   "outputs": [],
   "source": [
    "pca95 = PCA(n_components=0.95)\n",
    "\n",
    "components95 = pca95.fit_transform(data_num_tr)\n",
    "fig = px.scatter_matrix(components95[:,:2],\n",
    "                        dimensions=range(2),\n",
    "                        color=data_num_tr['Waist_cm'],\n",
    "                        color_continuous_scale=px.colors.sequential.Inferno,\n",
    "                        width=1200,\n",
    "                        height=700,\n",
    "                        labels={'0': 'PC1', '1': 'PC2'}\n",
    "                       )\n",
    "\n",
    "fig.update_layout({'plot_bgcolor': 'rgba(0, 0, 0, 0)', \n",
    "                   'paper_bgcolor': 'rgba(0, 0, 0, 0)',})\n",
    "fig.update_xaxes(showline=True, linewidth=2, linecolor='black')\n",
    "fig.update_yaxes(showline=True, linewidth=2, linecolor='black')\n",
    "\n",
    "fig.show()"
   ]
  },
  {
   "cell_type": "code",
   "execution_count": null,
   "id": "0c9b84aa-4091-487a-807f-7370f7e0e3cf",
   "metadata": {},
   "outputs": [],
   "source": [
    "pca95.explained_variance_ratio_"
   ]
  },
  {
   "cell_type": "code",
   "execution_count": null,
   "id": "9c47ff1a-3611-43f6-87ac-6faa64236f0c",
   "metadata": {},
   "outputs": [],
   "source": [
    "print(\"Number of dimensions needed to explain 95% of variance is \" + str(len(pca95.explained_variance_ratio_)))"
   ]
  },
  {
   "cell_type": "markdown",
   "id": "37cc66e5-4725-4984-a98c-c5860942f628",
   "metadata": {},
   "source": [
    "### PCA with no Anthropometry"
   ]
  },
  {
   "cell_type": "code",
   "execution_count": 27,
   "id": "8ae640dc-2af0-4255-890d-c64e04cd23c6",
   "metadata": {},
   "outputs": [
    {
     "ename": "NameError",
     "evalue": "name 'data_num_tr' is not defined",
     "output_type": "error",
     "traceback": [
      "\u001b[0;31m---------------------------------------------------------------------------\u001b[0m",
      "\u001b[0;31mNameError\u001b[0m                                 Traceback (most recent call last)",
      "Input \u001b[0;32mIn [27]\u001b[0m, in \u001b[0;36m<cell line: 1>\u001b[0;34m()\u001b[0m\n\u001b[0;32m----> 1\u001b[0m data_num_tr_nobmi \u001b[38;5;241m=\u001b[39m \u001b[43mdata_num_tr\u001b[49m\u001b[38;5;241m.\u001b[39mcopy()\n\u001b[1;32m      2\u001b[0m data_num_tr_nobmi \u001b[38;5;241m=\u001b[39m data_num_tr_nobmi\u001b[38;5;241m.\u001b[39mdrop([\u001b[38;5;124m'\u001b[39m\u001b[38;5;124mBMI\u001b[39m\u001b[38;5;124m'\u001b[39m, \u001b[38;5;124m'\u001b[39m\u001b[38;5;124mWaist_cm\u001b[39m\u001b[38;5;124m'\u001b[39m, \u001b[38;5;124m'\u001b[39m\u001b[38;5;124mHeight_cm\u001b[39m\u001b[38;5;124m'\u001b[39m, \u001b[38;5;124m'\u001b[39m\u001b[38;5;124mWeight_kg\u001b[39m\u001b[38;5;124m'\u001b[39m, \u001b[38;5;124m'\u001b[39m\u001b[38;5;124mHip_cm\u001b[39m\u001b[38;5;124m'\u001b[39m], axis\u001b[38;5;241m=\u001b[39m\u001b[38;5;241m1\u001b[39m)\n",
      "\u001b[0;31mNameError\u001b[0m: name 'data_num_tr' is not defined"
     ]
    }
   ],
   "source": [
    "data_num_tr_nobmi = data_num_tr.copy()\n",
    "data_num_tr_nobmi = data_num_tr_nobmi.drop(['BMI', 'Waist_cm', 'Height_cm', 'Weight_kg', 'Hip_cm'], axis=1)"
   ]
  },
  {
   "cell_type": "code",
   "execution_count": null,
   "id": "1023cd0b-d67a-4a8d-90a5-eb7746358c7d",
   "metadata": {},
   "outputs": [],
   "source": [
    "pca_nobmi = PCA(n_components=2)\n",
    "components_nobmi = pca_nobmi.fit_transform(data_num_tr_nobmi)\n",
    "fig = px.scatter_matrix(components_nobmi,\n",
    "                        dimensions=range(2),\n",
    "                        color=data_num_tr['Waist_cm'],\n",
    "                        color_continuous_scale=px.colors.sequential.Inferno,\n",
    "                        width=1200,\n",
    "                        height=700,\n",
    "                        labels={'0': 'PC1', '1': 'PC2'}\n",
    "                       )\n",
    "\n",
    "fig.update_layout({'plot_bgcolor': 'rgba(0, 0, 0, 0)', \n",
    "                   'paper_bgcolor': 'rgba(0, 0, 0, 0)',})\n",
    "fig.update_xaxes(showline=True, linewidth=2, linecolor='black')\n",
    "fig.update_yaxes(showline=True, linewidth=2, linecolor='black')\n",
    "\n",
    "fig.show()"
   ]
  },
  {
   "cell_type": "markdown",
   "id": "7ab47a5b-778f-42dd-a392-4fd400e339bd",
   "metadata": {
    "jp-MarkdownHeadingCollapsed": true,
    "tags": []
   },
   "source": [
    "## Full Feature Space Clustering using Bayesian Gaussian Mixture Model"
   ]
  },
  {
   "cell_type": "code",
   "execution_count": null,
   "id": "08c638f1",
   "metadata": {},
   "outputs": [],
   "source": [
    "# Clustering using Bayesian Gaussian Mixture Model\n",
    "\n",
    "from sklearn.mixture import BayesianGaussianMixture\n",
    "bgm = BayesianGaussianMixture(n_components=10,\n",
    "                              n_init=10,\n",
    "                              covariance_type=\"full\",\n",
    "                              weight_concentration_prior=10,\n",
    "                              init_params=\"k-means++\")"
   ]
  },
  {
   "cell_type": "code",
   "execution_count": null,
   "id": "a3340931",
   "metadata": {},
   "outputs": [],
   "source": [
    "bgm.fit(data_num_tr)\n",
    "np.round(bgm.weights_, 2)"
   ]
  },
  {
   "cell_type": "code",
   "execution_count": null,
   "id": "6d9c7674",
   "metadata": {},
   "outputs": [],
   "source": [
    "bgm.converged_"
   ]
  },
  {
   "cell_type": "code",
   "execution_count": null,
   "id": "32b7dba3",
   "metadata": {},
   "outputs": [],
   "source": [
    "dir(bgm)"
   ]
  },
  {
   "cell_type": "code",
   "execution_count": null,
   "id": "1cf51981",
   "metadata": {},
   "outputs": [],
   "source": [
    "bgm_cluster = bgm.predict(data_num_tr)"
   ]
  },
  {
   "cell_type": "code",
   "execution_count": null,
   "id": "bcb434a0",
   "metadata": {},
   "outputs": [],
   "source": [
    "bgm_cluster"
   ]
  },
  {
   "cell_type": "markdown",
   "id": "ceb75afd-0f81-4339-acda-b877140f0511",
   "metadata": {
    "tags": []
   },
   "source": [
    "### Create composite data frame"
   ]
  },
  {
   "cell_type": "code",
   "execution_count": null,
   "id": "7a98267a",
   "metadata": {},
   "outputs": [],
   "source": [
    "data_bgm_clustered = data_num.copy()\n",
    "data_bgm_clustered['bgm_cluster'] = bgm_cluster\n",
    "data_bgm_clustered"
   ]
  },
  {
   "cell_type": "code",
   "execution_count": null,
   "id": "3817daae",
   "metadata": {},
   "outputs": [],
   "source": [
    "data_bgm_clustered.groupby('bgm_cluster', as_index=False)['BMI', 'Waist_cm'].agg('median')"
   ]
  },
  {
   "cell_type": "markdown",
   "id": "6656fe06-9880-4a65-8e95-2a3b326b454b",
   "metadata": {
    "tags": []
   },
   "source": [
    "### Interpret BGM clusters using logistic regression"
   ]
  },
  {
   "cell_type": "code",
   "execution_count": null,
   "id": "1352742f",
   "metadata": {},
   "outputs": [],
   "source": [
    "from sklearn.linear_model import LogisticRegression\n",
    "lin_reg = LogisticRegression()\n",
    "lin_reg.fit(data_num_tr, bgm_cluster)"
   ]
  },
  {
   "cell_type": "code",
   "execution_count": null,
   "id": "ecb062b2",
   "metadata": {},
   "outputs": [],
   "source": [
    "import math\n",
    "prob_array = pow(math.e, lin_reg.coef_)\n",
    "np.shape(prob_array)"
   ]
  },
  {
   "cell_type": "code",
   "execution_count": null,
   "id": "a41c4d30",
   "metadata": {},
   "outputs": [],
   "source": [
    "highest_weight_clusters = np.array([0, 1, 2, 3, 4, 5, 6, 7, 8, 9])[np.round(bgm.weights_, 2) >= 0.1]\n",
    "highest_weight_clusters = list(highest_weight_clusters)\n",
    "\n",
    "logreg_coef_df = pd.DataFrame(prob_array, columns = data_num_tr.columns)\n",
    "\n",
    "max_coef_features = list(logreg_coef_df.idxmax(axis=1))\n",
    "min_coef_features = list(logreg_coef_df.idxmin(axis=1))"
   ]
  },
  {
   "cell_type": "code",
   "execution_count": null,
   "id": "94915b9e",
   "metadata": {},
   "outputs": [],
   "source": [
    "feature_coef_by_cluster_max = data_bgm_clustered.groupby('bgm_cluster', as_index=False)[max_coef_features + ['BMI']].agg('median')"
   ]
  },
  {
   "cell_type": "code",
   "execution_count": null,
   "id": "8623afb9",
   "metadata": {},
   "outputs": [],
   "source": [
    "feature_coef_by_cluster_min = data_bgm_clustered.groupby('bgm_cluster', as_index=False)[min_coef_features + ['BMI']].agg('median')"
   ]
  },
  {
   "cell_type": "code",
   "execution_count": null,
   "id": "92203aa8",
   "metadata": {},
   "outputs": [],
   "source": [
    "# Clusters with highest weights 1, 3, 6, 8, 9"
   ]
  },
  {
   "cell_type": "code",
   "execution_count": 6,
   "id": "f44e454d",
   "metadata": {},
   "outputs": [
    {
     "ename": "NameError",
     "evalue": "name 'feature_coef_by_cluster_max' is not defined",
     "output_type": "error",
     "traceback": [
      "\u001b[0;31m---------------------------------------------------------------------------\u001b[0m",
      "\u001b[0;31mNameError\u001b[0m                                 Traceback (most recent call last)",
      "Input \u001b[0;32mIn [6]\u001b[0m, in \u001b[0;36m<cell line: 1>\u001b[0;34m()\u001b[0m\n\u001b[0;32m----> 1\u001b[0m \u001b[43mfeature_coef_by_cluster_max\u001b[49m\u001b[38;5;241m.\u001b[39miloc[highest_weight_clusters, :]\n",
      "\u001b[0;31mNameError\u001b[0m: name 'feature_coef_by_cluster_max' is not defined"
     ]
    }
   ],
   "source": [
    "feature_coef_by_cluster_max.iloc[highest_weight_clusters, :]"
   ]
  },
  {
   "cell_type": "code",
   "execution_count": 7,
   "id": "755ed566",
   "metadata": {},
   "outputs": [
    {
     "ename": "NameError",
     "evalue": "name 'feature_coef_by_cluster_min' is not defined",
     "output_type": "error",
     "traceback": [
      "\u001b[0;31m---------------------------------------------------------------------------\u001b[0m",
      "\u001b[0;31mNameError\u001b[0m                                 Traceback (most recent call last)",
      "Input \u001b[0;32mIn [7]\u001b[0m, in \u001b[0;36m<cell line: 1>\u001b[0;34m()\u001b[0m\n\u001b[0;32m----> 1\u001b[0m \u001b[43mfeature_coef_by_cluster_min\u001b[49m\u001b[38;5;241m.\u001b[39miloc[highest_weight_clusters, :]\n",
      "\u001b[0;31mNameError\u001b[0m: name 'feature_coef_by_cluster_min' is not defined"
     ]
    }
   ],
   "source": [
    "feature_coef_by_cluster_min.iloc[highest_weight_clusters, :]"
   ]
  },
  {
   "cell_type": "code",
   "execution_count": null,
   "id": "84c4b233",
   "metadata": {},
   "outputs": [],
   "source": [
    "pd.Series(max_coef_features)"
   ]
  },
  {
   "cell_type": "code",
   "execution_count": null,
   "id": "0be750c4",
   "metadata": {},
   "outputs": [],
   "source": [
    "type(min_coef_features)"
   ]
  },
  {
   "cell_type": "code",
   "execution_count": 8,
   "id": "68c087b2",
   "metadata": {},
   "outputs": [
    {
     "ename": "NameError",
     "evalue": "name 'feature_coef_by_cluster_max' is not defined",
     "output_type": "error",
     "traceback": [
      "\u001b[0;31m---------------------------------------------------------------------------\u001b[0m",
      "\u001b[0;31mNameError\u001b[0m                                 Traceback (most recent call last)",
      "Input \u001b[0;32mIn [8]\u001b[0m, in \u001b[0;36m<cell line: 1>\u001b[0;34m()\u001b[0m\n\u001b[0;32m----> 1\u001b[0m \u001b[43mfeature_coef_by_cluster_max\u001b[49m\n",
      "\u001b[0;31mNameError\u001b[0m: name 'feature_coef_by_cluster_max' is not defined"
     ]
    }
   ],
   "source": [
    "feature_coef_by_cluster_max"
   ]
  },
  {
   "cell_type": "code",
   "execution_count": null,
   "id": "0f42041c",
   "metadata": {},
   "outputs": [],
   "source": [
    "if SAVE_FILES:\n",
    "    feature_coef_by_cluster_max.to_csv(\"processed_data/feature_importance_max_logreg.csv\")\n",
    "    feature_coef_by_cluster_min.to_csv(\"processed_data/feature_importance_min_logreg.csv\")"
   ]
  },
  {
   "cell_type": "code",
   "execution_count": null,
   "id": "3a49ba0e",
   "metadata": {},
   "outputs": [],
   "source": [
    "# Not overwriting files. Uncomment if needed\n",
    "# os.makedirs(\"processed_data\", exist_ok=True)\n",
    "# data_bgm_clustered.to_csv(\"processed_data/clustered_behavioral_LEMON.csv\")"
   ]
  },
  {
   "cell_type": "code",
   "execution_count": null,
   "id": "8cefe99f",
   "metadata": {},
   "outputs": [],
   "source": [
    "pd.Series(min_coef_features)"
   ]
  },
  {
   "cell_type": "markdown",
   "id": "a123c550-ddba-49e6-ab30-8349fa99c4e0",
   "metadata": {
    "jp-MarkdownHeadingCollapsed": true,
    "tags": []
   },
   "source": [
    "## Clustering based on PCA"
   ]
  },
  {
   "cell_type": "markdown",
   "id": "13ecd542-5095-4385-8a09-f820a074cbeb",
   "metadata": {
    "jp-MarkdownHeadingCollapsed": true,
    "tags": []
   },
   "source": [
    "### Plotting functions"
   ]
  },
  {
   "cell_type": "code",
   "execution_count": null,
   "id": "65b5559f-5fe4-4665-8452-cba38221116c",
   "metadata": {},
   "outputs": [],
   "source": [
    "# Plotting functions for BGM from HOML Book\n",
    "\n",
    "def plot_data(X):\n",
    "    plt.plot(X[:, 0], X[:, 1], 'k.', markersize=2)\n",
    "\n",
    "def plot_centroids(centroids, weights=None, circle_color='w', cross_color='k'):\n",
    "    if weights is not None:\n",
    "        centroids = centroids[weights > weights.max() / 10]\n",
    "    plt.scatter(centroids[:, 0], centroids[:, 1],\n",
    "                marker='o', s=35, linewidths=8,\n",
    "                color=circle_color, zorder=10, alpha=0.9)\n",
    "    plt.scatter(centroids[:, 0], centroids[:, 1],\n",
    "                marker='x', s=2, linewidths=12,\n",
    "                color=cross_color, zorder=11, alpha=1)\n",
    "\n",
    "def plot_decision_boundaries(clusterer, X, resolution=1000, show_centroids=True,\n",
    "                             show_xlabels=True, show_ylabels=True):\n",
    "    mins = X.min(axis=0) - 0.1\n",
    "    maxs = X.max(axis=0) + 0.1\n",
    "    xx, yy = np.meshgrid(np.linspace(mins[0], maxs[0], resolution),\n",
    "                         np.linspace(mins[1], maxs[1], resolution))\n",
    "    Z = clusterer.predict(np.c_[xx.ravel(), yy.ravel()])\n",
    "    Z = Z.reshape(xx.shape)\n",
    "\n",
    "    plt.contourf(Z, extent=(mins[0], maxs[0], mins[1], maxs[1]),\n",
    "                cmap=\"Pastel2\")\n",
    "    plt.contour(Z, extent=(mins[0], maxs[0], mins[1], maxs[1]),\n",
    "                linewidths=1, colors='k')\n",
    "    plot_data(X)\n",
    "    if show_centroids:\n",
    "        plot_centroids(clusterer.cluster_centers_)\n",
    "\n",
    "    if show_xlabels:\n",
    "        plt.xlabel(\"$x_1$\", fontsize=14)\n",
    "    else:\n",
    "        plt.tick_params(labelbottom=False)\n",
    "    if show_ylabels:\n",
    "        plt.ylabel(\"$x_2$\", fontsize=14, rotation=0)\n",
    "    else:\n",
    "        plt.tick_params(labelleft=False)\n",
    "\n",
    "from matplotlib.colors import LogNorm\n",
    "\n",
    "def plot_gaussian_mixture(clusterer, X, resolution=1000, show_ylabels=True):\n",
    "    mins = X.min(axis=0) - 0.1\n",
    "    maxs = X.max(axis=0) + 0.1\n",
    "    xx, yy = np.meshgrid(np.linspace(mins[0], maxs[0], resolution),\n",
    "                         np.linspace(mins[1], maxs[1], resolution))\n",
    "    Z = -clusterer.score_samples(np.c_[xx.ravel(), yy.ravel()])\n",
    "    Z = Z.reshape(xx.shape)\n",
    "\n",
    "    plt.contourf(xx, yy, Z,\n",
    "                 norm=LogNorm(vmin=1.0, vmax=30.0),\n",
    "                 levels=np.logspace(0, 2, 12))\n",
    "    plt.contour(xx, yy, Z,\n",
    "                norm=LogNorm(vmin=1.0, vmax=30.0),\n",
    "                levels=np.logspace(0, 2, 12),\n",
    "                linewidths=1, colors='k')\n",
    "\n",
    "    Z = clusterer.predict(np.c_[xx.ravel(), yy.ravel()])\n",
    "    Z = Z.reshape(xx.shape)\n",
    "    plt.contour(xx, yy, Z,\n",
    "                linewidths=2, colors='r', linestyles='dashed')\n",
    "    \n",
    "    plt.plot(X[:, 0], X[:, 1], 'k.', markersize=2)\n",
    "    plot_centroids(clusterer.means_, clusterer.weights_)\n",
    "\n",
    "    plt.xlabel(\"$x_1$\", fontsize=14)\n",
    "    if show_ylabels:\n",
    "        plt.ylabel(\"$x_2$\", fontsize=14, rotation=0)\n",
    "    else:\n",
    "        plt.tick_params(labelleft=False)"
   ]
  },
  {
   "cell_type": "markdown",
   "id": "3a49250d-7101-434a-b988-1c05403bf2f4",
   "metadata": {},
   "source": [
    "### Model fitting"
   ]
  },
  {
   "cell_type": "code",
   "execution_count": null,
   "id": "abc3cbf3-2fa3-4ef4-a773-077b12f6df1f",
   "metadata": {},
   "outputs": [],
   "source": [
    "from sklearn.mixture import BayesianGaussianMixture\n",
    "\n",
    "bgm_on_pca = BayesianGaussianMixture(n_components=10,\n",
    "                                     n_init=20,\n",
    "                                     covariance_type=\"full\",\n",
    "                                     weight_concentration_prior=10000,\n",
    "                                     init_params=\"k-means++\",\n",
    "                                     random_state=44)"
   ]
  },
  {
   "cell_type": "code",
   "execution_count": null,
   "id": "870ee127-df07-4e4b-834a-a9627f5ea44f",
   "metadata": {},
   "outputs": [],
   "source": [
    "bgm_on_pca.fit(components)\n",
    "bgm_on_pca.weights_"
   ]
  },
  {
   "cell_type": "code",
   "execution_count": 9,
   "id": "deaad085-1560-4986-8b6b-8514dd670b50",
   "metadata": {},
   "outputs": [
    {
     "ename": "NameError",
     "evalue": "name 'components' is not defined",
     "output_type": "error",
     "traceback": [
      "\u001b[0;31m---------------------------------------------------------------------------\u001b[0m",
      "\u001b[0;31mNameError\u001b[0m                                 Traceback (most recent call last)",
      "Input \u001b[0;32mIn [9]\u001b[0m, in \u001b[0;36m<cell line: 1>\u001b[0;34m()\u001b[0m\n\u001b[0;32m----> 1\u001b[0m \u001b[38;5;28mlen\u001b[39m(\u001b[43mcomponents\u001b[49m)\n",
      "\u001b[0;31mNameError\u001b[0m: name 'components' is not defined"
     ]
    }
   ],
   "source": [
    "len(components)"
   ]
  },
  {
   "cell_type": "markdown",
   "id": "46e60681-1d84-4283-9974-b04c6c9c4862",
   "metadata": {
    "tags": []
   },
   "source": [
    "### Plot clusters"
   ]
  },
  {
   "cell_type": "code",
   "execution_count": null,
   "id": "993c8566-569e-4997-a4f0-b36c77c2825b",
   "metadata": {},
   "outputs": [],
   "source": [
    "# Centroid coordinates\n",
    "bgm_on_pca.means_"
   ]
  },
  {
   "cell_type": "code",
   "execution_count": 10,
   "id": "87975e33-9be3-4e99-a8bd-3915da715b1c",
   "metadata": {},
   "outputs": [
    {
     "ename": "NameError",
     "evalue": "name 'plot_gaussian_mixture' is not defined",
     "output_type": "error",
     "traceback": [
      "\u001b[0;31m---------------------------------------------------------------------------\u001b[0m",
      "\u001b[0;31mNameError\u001b[0m                                 Traceback (most recent call last)",
      "Input \u001b[0;32mIn [10]\u001b[0m, in \u001b[0;36m<cell line: 1>\u001b[0;34m()\u001b[0m\n\u001b[0;32m----> 1\u001b[0m fig \u001b[38;5;241m=\u001b[39m \u001b[43mplot_gaussian_mixture\u001b[49m(bgm_on_pca, components)\n\u001b[1;32m      2\u001b[0m \u001b[38;5;66;03m# Clusters shown on plot are (clockwise): 2, 0, 7, 1\u001b[39;00m\n\u001b[1;32m      3\u001b[0m fig\n",
      "\u001b[0;31mNameError\u001b[0m: name 'plot_gaussian_mixture' is not defined"
     ]
    }
   ],
   "source": [
    "fig = plot_gaussian_mixture(bgm_on_pca, components)\n",
    "# Clusters shown on plot are (clockwise): 2, 0, 7, 1\n",
    "fig"
   ]
  },
  {
   "cell_type": "code",
   "execution_count": null,
   "id": "06200b99-3343-4175-8ca8-3d626edc1786",
   "metadata": {},
   "outputs": [],
   "source": [
    "if SAVE_FILES:\n",
    "    os.makedirs(\"plots\", exist_ok=True)\n",
    "    fig.write_image('plots/mind-brain-body-pca-clusters.svg')"
   ]
  },
  {
   "cell_type": "raw",
   "id": "4fed4c93-ad02-497e-91a3-2465b5c93bf3",
   "metadata": {},
   "source": [
    "Logistic Regression\n",
    "\n",
    "PC1\n",
    "2    TAP_A_10\n",
    "0     TAP_A_2\n",
    "7       TMT_6\n",
    "1     TAP_A_5\n",
    "\n",
    "5     TAP_A_2\n",
    "\n",
    "dtype: object\n",
    "\n",
    "PC2\n",
    "2            FEV_HUNGER\n",
    "0        TeiQueSF_total\n",
    "7    NEOFFI_Neuroticism\n",
    "1    STAI_Trait_Anxiety\n",
    "\n",
    "5                FEV_KK\n",
    "\n",
    "dtype: object"
   ]
  },
  {
   "cell_type": "markdown",
   "id": "ae52a0e2-fe73-4b56-b0ad-60dfdd99838e",
   "metadata": {},
   "source": [
    "### Create composite data frame"
   ]
  },
  {
   "cell_type": "code",
   "execution_count": 11,
   "id": "204e46a4-249d-4d79-bbce-279a6e53cf69",
   "metadata": {},
   "outputs": [
    {
     "ename": "NameError",
     "evalue": "name 'bgm_on_pca' is not defined",
     "output_type": "error",
     "traceback": [
      "\u001b[0;31m---------------------------------------------------------------------------\u001b[0m",
      "\u001b[0;31mNameError\u001b[0m                                 Traceback (most recent call last)",
      "Input \u001b[0;32mIn [11]\u001b[0m, in \u001b[0;36m<cell line: 1>\u001b[0;34m()\u001b[0m\n\u001b[0;32m----> 1\u001b[0m bgm_cluster_on_pca \u001b[38;5;241m=\u001b[39m \u001b[43mbgm_on_pca\u001b[49m\u001b[38;5;241m.\u001b[39mpredict(components)\n\u001b[1;32m      3\u001b[0m data_bgm_clustered_on_pca \u001b[38;5;241m=\u001b[39m data_num\u001b[38;5;241m.\u001b[39mcopy()\n\u001b[1;32m      4\u001b[0m data_bgm_clustered_on_pca[\u001b[38;5;124m'\u001b[39m\u001b[38;5;124mbgm_pca_cluster\u001b[39m\u001b[38;5;124m'\u001b[39m] \u001b[38;5;241m=\u001b[39m bgm_cluster_on_pca\n",
      "\u001b[0;31mNameError\u001b[0m: name 'bgm_on_pca' is not defined"
     ]
    }
   ],
   "source": [
    "bgm_cluster_on_pca = bgm_on_pca.predict(components)\n",
    "\n",
    "data_bgm_clustered_on_pca = data_num.copy()\n",
    "data_bgm_clustered_on_pca['bgm_pca_cluster'] = bgm_cluster_on_pca\n",
    "data_bgm_clustered_on_pca"
   ]
  },
  {
   "cell_type": "code",
   "execution_count": null,
   "id": "1bab0628-e682-4ea3-8059-9a51f9d39b27",
   "metadata": {},
   "outputs": [],
   "source": [
    "if SAVE_FILES:\n",
    "    data_bgm_clustered_on_pca.to_csv(\"processed_data/clustered_behavioral_LEMON_pca_based.csv\")"
   ]
  },
  {
   "cell_type": "markdown",
   "id": "cd2ffaeb-2535-4719-bed4-3ac17c132c9d",
   "metadata": {},
   "source": [
    "### Visualize clusters with color"
   ]
  },
  {
   "cell_type": "markdown",
   "id": "63a61599-fd33-4d32-999c-2b472a1392eb",
   "metadata": {
    "jp-MarkdownHeadingCollapsed": true,
    "tags": []
   },
   "source": [
    "#### TODO What to do with it?"
   ]
  },
  {
   "cell_type": "raw",
   "id": "16800055-668d-47f1-876f-771072dbf273",
   "metadata": {},
   "source": [
    "fig = px.scatter_matrix(components_clustered,\n",
    "                        dimensions=range(2),\n",
    "                        color=data_bgm_clustered_on_pca['bgm_pca_cluster'],\n",
    "                        width=1200,\n",
    "                        height=700,\n",
    "                        labels={'0': 'PC1', '1': 'PC2'}\n",
    "                       )\n",
    "\n",
    "fig.update_layout({'plot_bgcolor': 'rgba(0, 0, 0, 0)', \n",
    "                   'paper_bgcolor': 'rgba(0, 0, 0, 0)',})\n",
    "fig.update_xaxes(showline=True, linewidth=2, linecolor='black')\n",
    "fig.update_yaxes(showline=True, linewidth=2, linecolor='black')\n",
    "\n",
    "fig.show()"
   ]
  },
  {
   "cell_type": "markdown",
   "id": "e4d32631-d705-4e4c-b1ff-9b6480643f37",
   "metadata": {
    "tags": []
   },
   "source": [
    "### Interpret clusters using logistic regression"
   ]
  },
  {
   "cell_type": "markdown",
   "id": "8c0f8fc8-c22e-429e-a042-a6ccf660ffbd",
   "metadata": {},
   "source": [
    "#### TODO LogReg does not converge"
   ]
  },
  {
   "cell_type": "markdown",
   "id": "0c5273af-9502-4ecb-ba3e-f14288b177c3",
   "metadata": {},
   "source": [
    "Try GLM?"
   ]
  },
  {
   "cell_type": "code",
   "execution_count": 12,
   "id": "a0117204-2828-4dc0-9ae0-53e925bb5ad4",
   "metadata": {},
   "outputs": [
    {
     "ename": "NameError",
     "evalue": "name 'data_num_tr' is not defined",
     "output_type": "error",
     "traceback": [
      "\u001b[0;31m---------------------------------------------------------------------------\u001b[0m",
      "\u001b[0;31mNameError\u001b[0m                                 Traceback (most recent call last)",
      "Input \u001b[0;32mIn [12]\u001b[0m, in \u001b[0;36m<cell line: 3>\u001b[0;34m()\u001b[0m\n\u001b[1;32m      1\u001b[0m \u001b[38;5;28;01mfrom\u001b[39;00m \u001b[38;5;21;01msklearn\u001b[39;00m\u001b[38;5;21;01m.\u001b[39;00m\u001b[38;5;21;01mlinear_model\u001b[39;00m \u001b[38;5;28;01mimport\u001b[39;00m LogisticRegression\n\u001b[1;32m      2\u001b[0m lin_reg \u001b[38;5;241m=\u001b[39m LogisticRegression(multi_class\u001b[38;5;241m=\u001b[39m\u001b[38;5;124m\"\u001b[39m\u001b[38;5;124mmultinomial\u001b[39m\u001b[38;5;124m\"\u001b[39m, solver\u001b[38;5;241m=\u001b[39m\u001b[38;5;124m\"\u001b[39m\u001b[38;5;124mlbfgs\u001b[39m\u001b[38;5;124m\"\u001b[39m, C\u001b[38;5;241m=\u001b[39m\u001b[38;5;241m10\u001b[39m)\n\u001b[0;32m----> 3\u001b[0m lin_reg\u001b[38;5;241m.\u001b[39mfit(\u001b[43mdata_num_tr\u001b[49m, bgm_cluster_on_pca)\n",
      "\u001b[0;31mNameError\u001b[0m: name 'data_num_tr' is not defined"
     ]
    }
   ],
   "source": [
    "from sklearn.linear_model import LogisticRegression\n",
    "lin_reg = LogisticRegression(multi_class=\"multinomial\", solver=\"lbfgs\", C=10)\n",
    "lin_reg.fit(data_num_tr, bgm_cluster_on_pca)"
   ]
  },
  {
   "cell_type": "code",
   "execution_count": 13,
   "id": "ad3a70c7-fd72-4faf-a252-65d8dfdd31fc",
   "metadata": {},
   "outputs": [
    {
     "ename": "NameError",
     "evalue": "name 'data_num_tr' is not defined",
     "output_type": "error",
     "traceback": [
      "\u001b[0;31m---------------------------------------------------------------------------\u001b[0m",
      "\u001b[0;31mNameError\u001b[0m                                 Traceback (most recent call last)",
      "Input \u001b[0;32mIn [13]\u001b[0m, in \u001b[0;36m<cell line: 1>\u001b[0;34m()\u001b[0m\n\u001b[0;32m----> 1\u001b[0m \u001b[43mdata_num_tr\u001b[49m\n",
      "\u001b[0;31mNameError\u001b[0m: name 'data_num_tr' is not defined"
     ]
    }
   ],
   "source": [
    "data_num_tr"
   ]
  },
  {
   "cell_type": "markdown",
   "id": "4ba268ab-bd79-4b00-bea3-521df092701b",
   "metadata": {},
   "source": [
    "### Visualize relevant values"
   ]
  },
  {
   "cell_type": "code",
   "execution_count": null,
   "id": "e2a98ff0-026c-4833-93ef-db539ba4dc91",
   "metadata": {},
   "outputs": [],
   "source": [
    "plt.scatter(data_num[\"TAP_I_8\"], data_num[\"Waist_cm\"])"
   ]
  },
  {
   "cell_type": "code",
   "execution_count": null,
   "id": "05d96317-ffb7-4cdb-b014-d470483512d2",
   "metadata": {},
   "outputs": [],
   "source": [
    "plt.scatter(data_num[\"TAP_I_8\"], data_num[\"TeiQueSF_total\"])"
   ]
  },
  {
   "cell_type": "code",
   "execution_count": null,
   "id": "ac988d10-53a5-468d-ac7c-adde114a19f5",
   "metadata": {},
   "outputs": [],
   "source": [
    "plt.scatter(data_num[\"TeiQueSF_total\"], data_num[\"MSPSS_total\"])"
   ]
  },
  {
   "cell_type": "markdown",
   "id": "d7ad29ae-9bfa-480f-88f2-f59a26ff3c65",
   "metadata": {},
   "source": [
    "### Important Feature values in Clusters"
   ]
  },
  {
   "cell_type": "code",
   "execution_count": 14,
   "id": "843de23d-80bc-430d-b9e2-ddbff26d37dc",
   "metadata": {},
   "outputs": [
    {
     "ename": "NameError",
     "evalue": "name 'relevant_features_pc1_sorted' is not defined",
     "output_type": "error",
     "traceback": [
      "\u001b[0;31m---------------------------------------------------------------------------\u001b[0m",
      "\u001b[0;31mNameError\u001b[0m                                 Traceback (most recent call last)",
      "Input \u001b[0;32mIn [14]\u001b[0m, in \u001b[0;36m<cell line: 1>\u001b[0;34m()\u001b[0m\n\u001b[0;32m----> 1\u001b[0m pc1_top_features \u001b[38;5;241m=\u001b[39m \u001b[38;5;28mlist\u001b[39m(\u001b[43mrelevant_features_pc1_sorted\u001b[49m\u001b[38;5;241m.\u001b[39mindex[:\u001b[38;5;241m10\u001b[39m])\n\u001b[1;32m      2\u001b[0m data_bgm_clustered_on_pca\u001b[38;5;241m.\u001b[39mgroupby(\u001b[38;5;124m'\u001b[39m\u001b[38;5;124mbgm_pca_cluster\u001b[39m\u001b[38;5;124m'\u001b[39m, as_index\u001b[38;5;241m=\u001b[39m\u001b[38;5;28;01mFalse\u001b[39;00m)[pc1_top_features \u001b[38;5;241m+\u001b[39m [\u001b[38;5;124m'\u001b[39m\u001b[38;5;124mFEV_KK\u001b[39m\u001b[38;5;124m'\u001b[39m, \u001b[38;5;124m'\u001b[39m\u001b[38;5;124mFEV_STOER\u001b[39m\u001b[38;5;124m'\u001b[39m, \u001b[38;5;124m'\u001b[39m\u001b[38;5;124mFEV_HUNGER\u001b[39m\u001b[38;5;124m'\u001b[39m, \u001b[38;5;124m'\u001b[39m\u001b[38;5;124mBMI\u001b[39m\u001b[38;5;124m'\u001b[39m]]\u001b[38;5;241m.\u001b[39magg(\u001b[38;5;124m'\u001b[39m\u001b[38;5;124mmedian\u001b[39m\u001b[38;5;124m'\u001b[39m)\n",
      "\u001b[0;31mNameError\u001b[0m: name 'relevant_features_pc1_sorted' is not defined"
     ]
    }
   ],
   "source": [
    "pc1_top_features = list(relevant_features_pc1_sorted.index[:10])\n",
    "data_bgm_clustered_on_pca.groupby('bgm_pca_cluster', as_index=False)[pc1_top_features + ['FEV_KK', 'FEV_STOER', 'FEV_HUNGER', 'BMI']].agg('median')"
   ]
  },
  {
   "cell_type": "code",
   "execution_count": 15,
   "id": "6a396b87-33c8-4c22-a4ff-84b108a22dfd",
   "metadata": {},
   "outputs": [
    {
     "ename": "NameError",
     "evalue": "name 'relevant_features_pc2_sorted' is not defined",
     "output_type": "error",
     "traceback": [
      "\u001b[0;31m---------------------------------------------------------------------------\u001b[0m",
      "\u001b[0;31mNameError\u001b[0m                                 Traceback (most recent call last)",
      "Input \u001b[0;32mIn [15]\u001b[0m, in \u001b[0;36m<cell line: 1>\u001b[0;34m()\u001b[0m\n\u001b[0;32m----> 1\u001b[0m pc2_top_features \u001b[38;5;241m=\u001b[39m \u001b[38;5;28mlist\u001b[39m(\u001b[43mrelevant_features_pc2_sorted\u001b[49m\u001b[38;5;241m.\u001b[39mindex[:\u001b[38;5;241m10\u001b[39m])\n\u001b[1;32m      2\u001b[0m data_bgm_clustered_on_pca\u001b[38;5;241m.\u001b[39mgroupby(\u001b[38;5;124m'\u001b[39m\u001b[38;5;124mbgm_pca_cluster\u001b[39m\u001b[38;5;124m'\u001b[39m, as_index\u001b[38;5;241m=\u001b[39m\u001b[38;5;28;01mFalse\u001b[39;00m)[pc2_top_features \u001b[38;5;241m+\u001b[39m [\u001b[38;5;124m'\u001b[39m\u001b[38;5;124mFEV_KK\u001b[39m\u001b[38;5;124m'\u001b[39m, \u001b[38;5;124m'\u001b[39m\u001b[38;5;124mFEV_STOER\u001b[39m\u001b[38;5;124m'\u001b[39m, \u001b[38;5;124m'\u001b[39m\u001b[38;5;124mFEV_HUNGER\u001b[39m\u001b[38;5;124m'\u001b[39m, \u001b[38;5;124m'\u001b[39m\u001b[38;5;124mBMI\u001b[39m\u001b[38;5;124m'\u001b[39m]]\u001b[38;5;241m.\u001b[39magg(\u001b[38;5;124m'\u001b[39m\u001b[38;5;124mmedian\u001b[39m\u001b[38;5;124m'\u001b[39m)\n",
      "\u001b[0;31mNameError\u001b[0m: name 'relevant_features_pc2_sorted' is not defined"
     ]
    }
   ],
   "source": [
    "pc2_top_features = list(relevant_features_pc2_sorted.index[:10])\n",
    "data_bgm_clustered_on_pca.groupby('bgm_pca_cluster', as_index=False)[pc2_top_features + ['FEV_KK', 'FEV_STOER', 'FEV_HUNGER', 'BMI']].agg('median')"
   ]
  },
  {
   "cell_type": "code",
   "execution_count": null,
   "id": "6fb9f415-d073-4500-b724-30a7f2146afd",
   "metadata": {},
   "outputs": [],
   "source": [
    "pc1_top_features_df = data_num_tr[pc1_top_features + ['FEV_KK', 'FEV_STOER', 'FEV_HUNGER']]\n",
    "pc2_top_features_df = data_num_tr[pc2_top_features + ['FEV_KK', 'FEV_STOER', 'FEV_HUNGER']]"
   ]
  },
  {
   "cell_type": "markdown",
   "id": "61cbc044-c4ea-4af5-8f71-354cea312aa8",
   "metadata": {},
   "source": [
    "### Compare clusters using regression"
   ]
  },
  {
   "cell_type": "code",
   "execution_count": 16,
   "id": "337404b0-2ee9-4c8e-8d28-abefa9e2c094",
   "metadata": {},
   "outputs": [
    {
     "ename": "NameError",
     "evalue": "name 'pc1_top_features_df' is not defined",
     "output_type": "error",
     "traceback": [
      "\u001b[0;31m---------------------------------------------------------------------------\u001b[0m",
      "\u001b[0;31mNameError\u001b[0m                                 Traceback (most recent call last)",
      "Input \u001b[0;32mIn [16]\u001b[0m, in \u001b[0;36m<cell line: 3>\u001b[0;34m()\u001b[0m\n\u001b[1;32m      1\u001b[0m \u001b[38;5;28;01mfrom\u001b[39;00m \u001b[38;5;21;01msklearn\u001b[39;00m\u001b[38;5;21;01m.\u001b[39;00m\u001b[38;5;21;01mlinear_model\u001b[39;00m \u001b[38;5;28;01mimport\u001b[39;00m LogisticRegression\n\u001b[1;32m      2\u001b[0m log_reg_pc1 \u001b[38;5;241m=\u001b[39m LogisticRegression()\n\u001b[0;32m----> 3\u001b[0m log_reg_pc1\u001b[38;5;241m.\u001b[39mfit(\u001b[43mpc1_top_features_df\u001b[49m, bgm_cluster_on_pca)\n",
      "\u001b[0;31mNameError\u001b[0m: name 'pc1_top_features_df' is not defined"
     ]
    }
   ],
   "source": [
    "from sklearn.linear_model import LogisticRegression\n",
    "log_reg_pc1 = LogisticRegression()\n",
    "log_reg_pc1.fit(pc1_top_features_df, bgm_cluster_on_pca)"
   ]
  },
  {
   "cell_type": "code",
   "execution_count": null,
   "id": "75009d29-ac97-4d18-98de-649da996ccb9",
   "metadata": {},
   "outputs": [],
   "source": [
    "log_reg_pc1_coefficient_df = pd.DataFrame(log_reg_pc1.coef_, columns=pc1_top_features_df.columns)\n",
    "abs(log_reg_pc1_coefficient_df).idxmax(axis=1)"
   ]
  },
  {
   "cell_type": "code",
   "execution_count": 17,
   "id": "33902d0d-5e78-48e9-9f9c-2afcc4e708ba",
   "metadata": {},
   "outputs": [
    {
     "ename": "NameError",
     "evalue": "name 'log_reg_pc1_coefficient_df' is not defined",
     "output_type": "error",
     "traceback": [
      "\u001b[0;31m---------------------------------------------------------------------------\u001b[0m",
      "\u001b[0;31mNameError\u001b[0m                                 Traceback (most recent call last)",
      "Input \u001b[0;32mIn [17]\u001b[0m, in \u001b[0;36m<cell line: 1>\u001b[0;34m()\u001b[0m\n\u001b[0;32m----> 1\u001b[0m \u001b[43mlog_reg_pc1_coefficient_df\u001b[49m\n",
      "\u001b[0;31mNameError\u001b[0m: name 'log_reg_pc1_coefficient_df' is not defined"
     ]
    }
   ],
   "source": [
    "log_reg_pc1_coefficient_df"
   ]
  },
  {
   "cell_type": "markdown",
   "id": "4aa74993-e280-4b3f-aa2b-5a68c2d1c9f7",
   "metadata": {},
   "source": [
    "### TODO Remove multicollinear variables"
   ]
  },
  {
   "cell_type": "code",
   "execution_count": null,
   "id": "40e6ddcc-6bed-42b2-bceb-abbace75b86e",
   "metadata": {},
   "outputs": [],
   "source": [
    "# There's multicollinearity going on\n",
    "np.corrcoef(np.array(pc1_top_features_df).T)"
   ]
  },
  {
   "cell_type": "code",
   "execution_count": null,
   "id": "b3b1c19b-d51e-4025-b7d9-fec05b01169e",
   "metadata": {},
   "outputs": [],
   "source": [
    "np.unique(bgm_cluster_on_pca)"
   ]
  },
  {
   "cell_type": "code",
   "execution_count": 18,
   "id": "079a0686-552f-40b7-a355-219ceea34727",
   "metadata": {},
   "outputs": [
    {
     "ename": "NameError",
     "evalue": "name 'pc2_top_features_df' is not defined",
     "output_type": "error",
     "traceback": [
      "\u001b[0;31m---------------------------------------------------------------------------\u001b[0m",
      "\u001b[0;31mNameError\u001b[0m                                 Traceback (most recent call last)",
      "Input \u001b[0;32mIn [18]\u001b[0m, in \u001b[0;36m<cell line: 2>\u001b[0;34m()\u001b[0m\n\u001b[1;32m      1\u001b[0m log_reg_pc2 \u001b[38;5;241m=\u001b[39m LogisticRegression()\n\u001b[0;32m----> 2\u001b[0m log_reg_pc2\u001b[38;5;241m.\u001b[39mfit(\u001b[43mpc2_top_features_df\u001b[49m, bgm_cluster_on_pca)\n",
      "\u001b[0;31mNameError\u001b[0m: name 'pc2_top_features_df' is not defined"
     ]
    }
   ],
   "source": [
    "log_reg_pc2 = LogisticRegression()\n",
    "log_reg_pc2.fit(pc2_top_features_df, bgm_cluster_on_pca)"
   ]
  },
  {
   "cell_type": "code",
   "execution_count": null,
   "id": "362dcbce-5acc-45e5-b0f1-5e30e0346963",
   "metadata": {},
   "outputs": [],
   "source": [
    "log_reg_pc2_coefficient_df = pd.DataFrame(log_reg_pc2.coef_, columns=pc2_top_features_df.columns)\n",
    "abs(log_reg_pc2_coefficient_df).idxmax(axis=1)"
   ]
  },
  {
   "cell_type": "code",
   "execution_count": 19,
   "id": "363d4784-da1a-48db-b79a-7927a4c026cf",
   "metadata": {},
   "outputs": [
    {
     "ename": "NameError",
     "evalue": "name 'log_reg_pc2_coefficient_df' is not defined",
     "output_type": "error",
     "traceback": [
      "\u001b[0;31m---------------------------------------------------------------------------\u001b[0m",
      "\u001b[0;31mNameError\u001b[0m                                 Traceback (most recent call last)",
      "Input \u001b[0;32mIn [19]\u001b[0m, in \u001b[0;36m<cell line: 1>\u001b[0;34m()\u001b[0m\n\u001b[0;32m----> 1\u001b[0m \u001b[43mlog_reg_pc2_coefficient_df\u001b[49m\n",
      "\u001b[0;31mNameError\u001b[0m: name 'log_reg_pc2_coefficient_df' is not defined"
     ]
    }
   ],
   "source": [
    "log_reg_pc2_coefficient_df"
   ]
  },
  {
   "cell_type": "markdown",
   "id": "050a8c85-a368-41ca-859e-d36d082d943c",
   "metadata": {},
   "source": [
    "### ANOVA with some variables"
   ]
  },
  {
   "cell_type": "code",
   "execution_count": null,
   "id": "e4bb5f5c-8d60-47d0-91cf-2421598292d6",
   "metadata": {},
   "outputs": [],
   "source": [
    "BMI_clust_0 = np.array(data_bgm_clustered_on_pca[data_bgm_clustered_on_pca['bgm_pca_cluster'] == 0]['BMI'])\n",
    "BMI_clust_1 = np.array(data_bgm_clustered_on_pca[data_bgm_clustered_on_pca['bgm_pca_cluster'] == 1]['BMI'])\n",
    "BMI_clust_2 = np.array(data_bgm_clustered_on_pca[data_bgm_clustered_on_pca['bgm_pca_cluster'] == 2]['BMI'])\n",
    "BMI_clust_7= np.array(data_bgm_clustered_on_pca[data_bgm_clustered_on_pca['bgm_pca_cluster'] == 7]['BMI'])\n",
    "\n",
    "from scipy.stats import f_oneway\n",
    "f_oneway(BMI_clust_0, BMI_clust_1,\n",
    "         BMI_clust_2, BMI_clust_7)"
   ]
  },
  {
   "cell_type": "code",
   "execution_count": 20,
   "id": "02144306-4dea-4e11-8675-3e6bab90c2ae",
   "metadata": {},
   "outputs": [
    {
     "ename": "NameError",
     "evalue": "name 'BMI_clust_0' is not defined",
     "output_type": "error",
     "traceback": [
      "\u001b[0;31m---------------------------------------------------------------------------\u001b[0m",
      "\u001b[0;31mNameError\u001b[0m                                 Traceback (most recent call last)",
      "Input \u001b[0;32mIn [20]\u001b[0m, in \u001b[0;36m<cell line: 2>\u001b[0;34m()\u001b[0m\n\u001b[1;32m      1\u001b[0m \u001b[38;5;28;01mfrom\u001b[39;00m \u001b[38;5;21;01mscipy\u001b[39;00m\u001b[38;5;21;01m.\u001b[39;00m\u001b[38;5;21;01mstats\u001b[39;00m \u001b[38;5;28;01mimport\u001b[39;00m tukey_hsd\n\u001b[0;32m----> 2\u001b[0m bmi_hsd \u001b[38;5;241m=\u001b[39m tukey_hsd(\u001b[43mBMI_clust_0\u001b[49m, BMI_clust_1,\n\u001b[1;32m      3\u001b[0m                     BMI_clust_2, BMI_clust_7)\n\u001b[1;32m      4\u001b[0m pd\u001b[38;5;241m.\u001b[39mDataFrame(bmi_hsd\u001b[38;5;241m.\u001b[39mpvalue, columns\u001b[38;5;241m=\u001b[39m[\u001b[38;5;241m0\u001b[39m, \u001b[38;5;241m1\u001b[39m, \u001b[38;5;241m2\u001b[39m, \u001b[38;5;241m7\u001b[39m], index\u001b[38;5;241m=\u001b[39m[\u001b[38;5;241m0\u001b[39m, \u001b[38;5;241m1\u001b[39m, \u001b[38;5;241m2\u001b[39m, \u001b[38;5;241m7\u001b[39m])\n",
      "\u001b[0;31mNameError\u001b[0m: name 'BMI_clust_0' is not defined"
     ]
    }
   ],
   "source": [
    "from scipy.stats import tukey_hsd\n",
    "bmi_hsd = tukey_hsd(BMI_clust_0, BMI_clust_1,\n",
    "                    BMI_clust_2, BMI_clust_7)\n",
    "pd.DataFrame(bmi_hsd.pvalue, columns=[0, 1, 2, 7], index=[0, 1, 2, 7])"
   ]
  },
  {
   "cell_type": "markdown",
   "id": "c091b477-4026-4d17-a9b4-e127a95ded8d",
   "metadata": {
    "jp-MarkdownHeadingCollapsed": true,
    "tags": []
   },
   "source": [
    "## Variables of no interest in clusters"
   ]
  },
  {
   "cell_type": "markdown",
   "id": "3a4a46d9-598c-46fa-aded-51384e53d650",
   "metadata": {},
   "source": [
    "#### Age"
   ]
  },
  {
   "cell_type": "code",
   "execution_count": 21,
   "id": "8c25529a-01e9-40ec-8f71-819fd6a6a43a",
   "metadata": {},
   "outputs": [
    {
     "ename": "FileNotFoundError",
     "evalue": "[Errno 2] No such file or directory: 'additional_raw_data/LEMON_age.csv'",
     "output_type": "error",
     "traceback": [
      "\u001b[0;31m---------------------------------------------------------------------------\u001b[0m",
      "\u001b[0;31mFileNotFoundError\u001b[0m                         Traceback (most recent call last)",
      "Input \u001b[0;32mIn [21]\u001b[0m, in \u001b[0;36m<cell line: 1>\u001b[0;34m()\u001b[0m\n\u001b[0;32m----> 1\u001b[0m lemon_age \u001b[38;5;241m=\u001b[39m \u001b[43mpd\u001b[49m\u001b[38;5;241;43m.\u001b[39;49m\u001b[43mread_csv\u001b[49m\u001b[43m(\u001b[49m\u001b[38;5;124;43m\"\u001b[39;49m\u001b[38;5;124;43madditional_raw_data/LEMON_age.csv\u001b[39;49m\u001b[38;5;124;43m\"\u001b[39;49m\u001b[43m,\u001b[49m\u001b[43mindex_col\u001b[49m\u001b[38;5;241;43m=\u001b[39;49m\u001b[38;5;241;43m0\u001b[39;49m\u001b[43m)\u001b[49m\n\u001b[1;32m      2\u001b[0m lemon_age\n",
      "File \u001b[0;32m~/opt/anaconda3/envs/juselius22/lib/python3.10/site-packages/pandas/util/_decorators.py:311\u001b[0m, in \u001b[0;36mdeprecate_nonkeyword_arguments.<locals>.decorate.<locals>.wrapper\u001b[0;34m(*args, **kwargs)\u001b[0m\n\u001b[1;32m    305\u001b[0m \u001b[38;5;28;01mif\u001b[39;00m \u001b[38;5;28mlen\u001b[39m(args) \u001b[38;5;241m>\u001b[39m num_allow_args:\n\u001b[1;32m    306\u001b[0m     warnings\u001b[38;5;241m.\u001b[39mwarn(\n\u001b[1;32m    307\u001b[0m         msg\u001b[38;5;241m.\u001b[39mformat(arguments\u001b[38;5;241m=\u001b[39marguments),\n\u001b[1;32m    308\u001b[0m         \u001b[38;5;167;01mFutureWarning\u001b[39;00m,\n\u001b[1;32m    309\u001b[0m         stacklevel\u001b[38;5;241m=\u001b[39mstacklevel,\n\u001b[1;32m    310\u001b[0m     )\n\u001b[0;32m--> 311\u001b[0m \u001b[38;5;28;01mreturn\u001b[39;00m \u001b[43mfunc\u001b[49m\u001b[43m(\u001b[49m\u001b[38;5;241;43m*\u001b[39;49m\u001b[43margs\u001b[49m\u001b[43m,\u001b[49m\u001b[43m \u001b[49m\u001b[38;5;241;43m*\u001b[39;49m\u001b[38;5;241;43m*\u001b[39;49m\u001b[43mkwargs\u001b[49m\u001b[43m)\u001b[49m\n",
      "File \u001b[0;32m~/opt/anaconda3/envs/juselius22/lib/python3.10/site-packages/pandas/io/parsers/readers.py:678\u001b[0m, in \u001b[0;36mread_csv\u001b[0;34m(filepath_or_buffer, sep, delimiter, header, names, index_col, usecols, squeeze, prefix, mangle_dupe_cols, dtype, engine, converters, true_values, false_values, skipinitialspace, skiprows, skipfooter, nrows, na_values, keep_default_na, na_filter, verbose, skip_blank_lines, parse_dates, infer_datetime_format, keep_date_col, date_parser, dayfirst, cache_dates, iterator, chunksize, compression, thousands, decimal, lineterminator, quotechar, quoting, doublequote, escapechar, comment, encoding, encoding_errors, dialect, error_bad_lines, warn_bad_lines, on_bad_lines, delim_whitespace, low_memory, memory_map, float_precision, storage_options)\u001b[0m\n\u001b[1;32m    663\u001b[0m kwds_defaults \u001b[38;5;241m=\u001b[39m _refine_defaults_read(\n\u001b[1;32m    664\u001b[0m     dialect,\n\u001b[1;32m    665\u001b[0m     delimiter,\n\u001b[0;32m   (...)\u001b[0m\n\u001b[1;32m    674\u001b[0m     defaults\u001b[38;5;241m=\u001b[39m{\u001b[38;5;124m\"\u001b[39m\u001b[38;5;124mdelimiter\u001b[39m\u001b[38;5;124m\"\u001b[39m: \u001b[38;5;124m\"\u001b[39m\u001b[38;5;124m,\u001b[39m\u001b[38;5;124m\"\u001b[39m},\n\u001b[1;32m    675\u001b[0m )\n\u001b[1;32m    676\u001b[0m kwds\u001b[38;5;241m.\u001b[39mupdate(kwds_defaults)\n\u001b[0;32m--> 678\u001b[0m \u001b[38;5;28;01mreturn\u001b[39;00m \u001b[43m_read\u001b[49m\u001b[43m(\u001b[49m\u001b[43mfilepath_or_buffer\u001b[49m\u001b[43m,\u001b[49m\u001b[43m \u001b[49m\u001b[43mkwds\u001b[49m\u001b[43m)\u001b[49m\n",
      "File \u001b[0;32m~/opt/anaconda3/envs/juselius22/lib/python3.10/site-packages/pandas/io/parsers/readers.py:575\u001b[0m, in \u001b[0;36m_read\u001b[0;34m(filepath_or_buffer, kwds)\u001b[0m\n\u001b[1;32m    572\u001b[0m _validate_names(kwds\u001b[38;5;241m.\u001b[39mget(\u001b[38;5;124m\"\u001b[39m\u001b[38;5;124mnames\u001b[39m\u001b[38;5;124m\"\u001b[39m, \u001b[38;5;28;01mNone\u001b[39;00m))\n\u001b[1;32m    574\u001b[0m \u001b[38;5;66;03m# Create the parser.\u001b[39;00m\n\u001b[0;32m--> 575\u001b[0m parser \u001b[38;5;241m=\u001b[39m \u001b[43mTextFileReader\u001b[49m\u001b[43m(\u001b[49m\u001b[43mfilepath_or_buffer\u001b[49m\u001b[43m,\u001b[49m\u001b[43m \u001b[49m\u001b[38;5;241;43m*\u001b[39;49m\u001b[38;5;241;43m*\u001b[39;49m\u001b[43mkwds\u001b[49m\u001b[43m)\u001b[49m\n\u001b[1;32m    577\u001b[0m \u001b[38;5;28;01mif\u001b[39;00m chunksize \u001b[38;5;129;01mor\u001b[39;00m iterator:\n\u001b[1;32m    578\u001b[0m     \u001b[38;5;28;01mreturn\u001b[39;00m parser\n",
      "File \u001b[0;32m~/opt/anaconda3/envs/juselius22/lib/python3.10/site-packages/pandas/io/parsers/readers.py:932\u001b[0m, in \u001b[0;36mTextFileReader.__init__\u001b[0;34m(self, f, engine, **kwds)\u001b[0m\n\u001b[1;32m    929\u001b[0m     \u001b[38;5;28mself\u001b[39m\u001b[38;5;241m.\u001b[39moptions[\u001b[38;5;124m\"\u001b[39m\u001b[38;5;124mhas_index_names\u001b[39m\u001b[38;5;124m\"\u001b[39m] \u001b[38;5;241m=\u001b[39m kwds[\u001b[38;5;124m\"\u001b[39m\u001b[38;5;124mhas_index_names\u001b[39m\u001b[38;5;124m\"\u001b[39m]\n\u001b[1;32m    931\u001b[0m \u001b[38;5;28mself\u001b[39m\u001b[38;5;241m.\u001b[39mhandles: IOHandles \u001b[38;5;241m|\u001b[39m \u001b[38;5;28;01mNone\u001b[39;00m \u001b[38;5;241m=\u001b[39m \u001b[38;5;28;01mNone\u001b[39;00m\n\u001b[0;32m--> 932\u001b[0m \u001b[38;5;28mself\u001b[39m\u001b[38;5;241m.\u001b[39m_engine \u001b[38;5;241m=\u001b[39m \u001b[38;5;28;43mself\u001b[39;49m\u001b[38;5;241;43m.\u001b[39;49m\u001b[43m_make_engine\u001b[49m\u001b[43m(\u001b[49m\u001b[43mf\u001b[49m\u001b[43m,\u001b[49m\u001b[43m \u001b[49m\u001b[38;5;28;43mself\u001b[39;49m\u001b[38;5;241;43m.\u001b[39;49m\u001b[43mengine\u001b[49m\u001b[43m)\u001b[49m\n",
      "File \u001b[0;32m~/opt/anaconda3/envs/juselius22/lib/python3.10/site-packages/pandas/io/parsers/readers.py:1216\u001b[0m, in \u001b[0;36mTextFileReader._make_engine\u001b[0;34m(self, f, engine)\u001b[0m\n\u001b[1;32m   1212\u001b[0m     mode \u001b[38;5;241m=\u001b[39m \u001b[38;5;124m\"\u001b[39m\u001b[38;5;124mrb\u001b[39m\u001b[38;5;124m\"\u001b[39m\n\u001b[1;32m   1213\u001b[0m \u001b[38;5;66;03m# error: No overload variant of \"get_handle\" matches argument types\u001b[39;00m\n\u001b[1;32m   1214\u001b[0m \u001b[38;5;66;03m# \"Union[str, PathLike[str], ReadCsvBuffer[bytes], ReadCsvBuffer[str]]\"\u001b[39;00m\n\u001b[1;32m   1215\u001b[0m \u001b[38;5;66;03m# , \"str\", \"bool\", \"Any\", \"Any\", \"Any\", \"Any\", \"Any\"\u001b[39;00m\n\u001b[0;32m-> 1216\u001b[0m \u001b[38;5;28mself\u001b[39m\u001b[38;5;241m.\u001b[39mhandles \u001b[38;5;241m=\u001b[39m \u001b[43mget_handle\u001b[49m\u001b[43m(\u001b[49m\u001b[43m  \u001b[49m\u001b[38;5;66;43;03m# type: ignore[call-overload]\u001b[39;49;00m\n\u001b[1;32m   1217\u001b[0m \u001b[43m    \u001b[49m\u001b[43mf\u001b[49m\u001b[43m,\u001b[49m\n\u001b[1;32m   1218\u001b[0m \u001b[43m    \u001b[49m\u001b[43mmode\u001b[49m\u001b[43m,\u001b[49m\n\u001b[1;32m   1219\u001b[0m \u001b[43m    \u001b[49m\u001b[43mencoding\u001b[49m\u001b[38;5;241;43m=\u001b[39;49m\u001b[38;5;28;43mself\u001b[39;49m\u001b[38;5;241;43m.\u001b[39;49m\u001b[43moptions\u001b[49m\u001b[38;5;241;43m.\u001b[39;49m\u001b[43mget\u001b[49m\u001b[43m(\u001b[49m\u001b[38;5;124;43m\"\u001b[39;49m\u001b[38;5;124;43mencoding\u001b[39;49m\u001b[38;5;124;43m\"\u001b[39;49m\u001b[43m,\u001b[49m\u001b[43m \u001b[49m\u001b[38;5;28;43;01mNone\u001b[39;49;00m\u001b[43m)\u001b[49m\u001b[43m,\u001b[49m\n\u001b[1;32m   1220\u001b[0m \u001b[43m    \u001b[49m\u001b[43mcompression\u001b[49m\u001b[38;5;241;43m=\u001b[39;49m\u001b[38;5;28;43mself\u001b[39;49m\u001b[38;5;241;43m.\u001b[39;49m\u001b[43moptions\u001b[49m\u001b[38;5;241;43m.\u001b[39;49m\u001b[43mget\u001b[49m\u001b[43m(\u001b[49m\u001b[38;5;124;43m\"\u001b[39;49m\u001b[38;5;124;43mcompression\u001b[39;49m\u001b[38;5;124;43m\"\u001b[39;49m\u001b[43m,\u001b[49m\u001b[43m \u001b[49m\u001b[38;5;28;43;01mNone\u001b[39;49;00m\u001b[43m)\u001b[49m\u001b[43m,\u001b[49m\n\u001b[1;32m   1221\u001b[0m \u001b[43m    \u001b[49m\u001b[43mmemory_map\u001b[49m\u001b[38;5;241;43m=\u001b[39;49m\u001b[38;5;28;43mself\u001b[39;49m\u001b[38;5;241;43m.\u001b[39;49m\u001b[43moptions\u001b[49m\u001b[38;5;241;43m.\u001b[39;49m\u001b[43mget\u001b[49m\u001b[43m(\u001b[49m\u001b[38;5;124;43m\"\u001b[39;49m\u001b[38;5;124;43mmemory_map\u001b[39;49m\u001b[38;5;124;43m\"\u001b[39;49m\u001b[43m,\u001b[49m\u001b[43m \u001b[49m\u001b[38;5;28;43;01mFalse\u001b[39;49;00m\u001b[43m)\u001b[49m\u001b[43m,\u001b[49m\n\u001b[1;32m   1222\u001b[0m \u001b[43m    \u001b[49m\u001b[43mis_text\u001b[49m\u001b[38;5;241;43m=\u001b[39;49m\u001b[43mis_text\u001b[49m\u001b[43m,\u001b[49m\n\u001b[1;32m   1223\u001b[0m \u001b[43m    \u001b[49m\u001b[43merrors\u001b[49m\u001b[38;5;241;43m=\u001b[39;49m\u001b[38;5;28;43mself\u001b[39;49m\u001b[38;5;241;43m.\u001b[39;49m\u001b[43moptions\u001b[49m\u001b[38;5;241;43m.\u001b[39;49m\u001b[43mget\u001b[49m\u001b[43m(\u001b[49m\u001b[38;5;124;43m\"\u001b[39;49m\u001b[38;5;124;43mencoding_errors\u001b[39;49m\u001b[38;5;124;43m\"\u001b[39;49m\u001b[43m,\u001b[49m\u001b[43m \u001b[49m\u001b[38;5;124;43m\"\u001b[39;49m\u001b[38;5;124;43mstrict\u001b[39;49m\u001b[38;5;124;43m\"\u001b[39;49m\u001b[43m)\u001b[49m\u001b[43m,\u001b[49m\n\u001b[1;32m   1224\u001b[0m \u001b[43m    \u001b[49m\u001b[43mstorage_options\u001b[49m\u001b[38;5;241;43m=\u001b[39;49m\u001b[38;5;28;43mself\u001b[39;49m\u001b[38;5;241;43m.\u001b[39;49m\u001b[43moptions\u001b[49m\u001b[38;5;241;43m.\u001b[39;49m\u001b[43mget\u001b[49m\u001b[43m(\u001b[49m\u001b[38;5;124;43m\"\u001b[39;49m\u001b[38;5;124;43mstorage_options\u001b[39;49m\u001b[38;5;124;43m\"\u001b[39;49m\u001b[43m,\u001b[49m\u001b[43m \u001b[49m\u001b[38;5;28;43;01mNone\u001b[39;49;00m\u001b[43m)\u001b[49m\u001b[43m,\u001b[49m\n\u001b[1;32m   1225\u001b[0m \u001b[43m\u001b[49m\u001b[43m)\u001b[49m\n\u001b[1;32m   1226\u001b[0m \u001b[38;5;28;01massert\u001b[39;00m \u001b[38;5;28mself\u001b[39m\u001b[38;5;241m.\u001b[39mhandles \u001b[38;5;129;01mis\u001b[39;00m \u001b[38;5;129;01mnot\u001b[39;00m \u001b[38;5;28;01mNone\u001b[39;00m\n\u001b[1;32m   1227\u001b[0m f \u001b[38;5;241m=\u001b[39m \u001b[38;5;28mself\u001b[39m\u001b[38;5;241m.\u001b[39mhandles\u001b[38;5;241m.\u001b[39mhandle\n",
      "File \u001b[0;32m~/opt/anaconda3/envs/juselius22/lib/python3.10/site-packages/pandas/io/common.py:786\u001b[0m, in \u001b[0;36mget_handle\u001b[0;34m(path_or_buf, mode, encoding, compression, memory_map, is_text, errors, storage_options)\u001b[0m\n\u001b[1;32m    781\u001b[0m \u001b[38;5;28;01melif\u001b[39;00m \u001b[38;5;28misinstance\u001b[39m(handle, \u001b[38;5;28mstr\u001b[39m):\n\u001b[1;32m    782\u001b[0m     \u001b[38;5;66;03m# Check whether the filename is to be opened in binary mode.\u001b[39;00m\n\u001b[1;32m    783\u001b[0m     \u001b[38;5;66;03m# Binary mode does not support 'encoding' and 'newline'.\u001b[39;00m\n\u001b[1;32m    784\u001b[0m     \u001b[38;5;28;01mif\u001b[39;00m ioargs\u001b[38;5;241m.\u001b[39mencoding \u001b[38;5;129;01mand\u001b[39;00m \u001b[38;5;124m\"\u001b[39m\u001b[38;5;124mb\u001b[39m\u001b[38;5;124m\"\u001b[39m \u001b[38;5;129;01mnot\u001b[39;00m \u001b[38;5;129;01min\u001b[39;00m ioargs\u001b[38;5;241m.\u001b[39mmode:\n\u001b[1;32m    785\u001b[0m         \u001b[38;5;66;03m# Encoding\u001b[39;00m\n\u001b[0;32m--> 786\u001b[0m         handle \u001b[38;5;241m=\u001b[39m \u001b[38;5;28;43mopen\u001b[39;49m\u001b[43m(\u001b[49m\n\u001b[1;32m    787\u001b[0m \u001b[43m            \u001b[49m\u001b[43mhandle\u001b[49m\u001b[43m,\u001b[49m\n\u001b[1;32m    788\u001b[0m \u001b[43m            \u001b[49m\u001b[43mioargs\u001b[49m\u001b[38;5;241;43m.\u001b[39;49m\u001b[43mmode\u001b[49m\u001b[43m,\u001b[49m\n\u001b[1;32m    789\u001b[0m \u001b[43m            \u001b[49m\u001b[43mencoding\u001b[49m\u001b[38;5;241;43m=\u001b[39;49m\u001b[43mioargs\u001b[49m\u001b[38;5;241;43m.\u001b[39;49m\u001b[43mencoding\u001b[49m\u001b[43m,\u001b[49m\n\u001b[1;32m    790\u001b[0m \u001b[43m            \u001b[49m\u001b[43merrors\u001b[49m\u001b[38;5;241;43m=\u001b[39;49m\u001b[43merrors\u001b[49m\u001b[43m,\u001b[49m\n\u001b[1;32m    791\u001b[0m \u001b[43m            \u001b[49m\u001b[43mnewline\u001b[49m\u001b[38;5;241;43m=\u001b[39;49m\u001b[38;5;124;43m\"\u001b[39;49m\u001b[38;5;124;43m\"\u001b[39;49m\u001b[43m,\u001b[49m\n\u001b[1;32m    792\u001b[0m \u001b[43m        \u001b[49m\u001b[43m)\u001b[49m\n\u001b[1;32m    793\u001b[0m     \u001b[38;5;28;01melse\u001b[39;00m:\n\u001b[1;32m    794\u001b[0m         \u001b[38;5;66;03m# Binary mode\u001b[39;00m\n\u001b[1;32m    795\u001b[0m         handle \u001b[38;5;241m=\u001b[39m \u001b[38;5;28mopen\u001b[39m(handle, ioargs\u001b[38;5;241m.\u001b[39mmode)\n",
      "\u001b[0;31mFileNotFoundError\u001b[0m: [Errno 2] No such file or directory: 'additional_raw_data/LEMON_age.csv'"
     ]
    }
   ],
   "source": [
    "lemon_age = pd.read_csv(\"additional_raw_data/LEMON_age.csv\",index_col=0)\n",
    "lemon_age"
   ]
  },
  {
   "cell_type": "code",
   "execution_count": null,
   "id": "7c4c823f-c2f0-4770-b848-66d8b2e7930d",
   "metadata": {},
   "outputs": [],
   "source": [
    "plt.bar(x=[1, 2, 3, 4, 5, 6, 7, 8, 9],\n",
    "        height=lemon_age.iloc[0,:])\n",
    "plt.title(\"Age distribution in Cluster 0\")\n",
    "plt.xticks(ticks=[1, 2, 3, 4, 5, 6, 7, 8, 9],\n",
    "           labels=list(lemon_age.columns))\n",
    "plt.show()"
   ]
  },
  {
   "cell_type": "code",
   "execution_count": null,
   "id": "c3110ccb-88dc-4899-b9c3-0f1465ddc35c",
   "metadata": {},
   "outputs": [],
   "source": [
    "plt.bar(x=[1, 2, 3, 4, 5, 6, 7, 8, 9],\n",
    "        height=lemon_age.iloc[1,:])\n",
    "plt.title(\"Age distribution in Cluster 1\")\n",
    "plt.xticks(ticks=[1, 2, 3, 4, 5, 6, 7, 8, 9],\n",
    "           labels=list(lemon_age.columns))\n",
    "plt.show()"
   ]
  },
  {
   "cell_type": "code",
   "execution_count": null,
   "id": "cae4045c-c012-454b-a777-503f8349f683",
   "metadata": {},
   "outputs": [],
   "source": [
    "plt.bar(x=[1, 2, 3, 4, 5, 6, 7, 8, 9],\n",
    "        height=lemon_age.iloc[2,:])\n",
    "plt.title(\"Age distribution in Cluster 2\")\n",
    "plt.xticks(ticks=[1, 2, 3, 4, 5, 6, 7, 8, 9],\n",
    "           labels=list(lemon_age.columns))\n",
    "plt.show()"
   ]
  },
  {
   "cell_type": "code",
   "execution_count": null,
   "id": "8b419f30-e8fa-4dbb-bfd5-7cc253bdc243",
   "metadata": {},
   "outputs": [],
   "source": [
    "plt.bar(x=[1, 2, 3, 4, 5, 6, 7, 8, 9],\n",
    "        height=lemon_age.iloc[3,:])\n",
    "plt.title(\"Age distribution in Cluster 5\")\n",
    "plt.xticks(ticks=[1, 2, 3, 4, 5, 6, 7, 8, 9],\n",
    "           labels=list(lemon_age.columns))\n",
    "plt.show()"
   ]
  },
  {
   "cell_type": "code",
   "execution_count": null,
   "id": "c54013af-5790-40ac-a2b2-e31c272633d3",
   "metadata": {},
   "outputs": [],
   "source": [
    "plt.bar(x=[1, 2, 3, 4, 5, 6, 7, 8, 9],\n",
    "        height=lemon_age.iloc[4,:])\n",
    "plt.title(\"Age distribution in Cluster 7\")\n",
    "plt.xticks(ticks=[1, 2, 3, 4, 5, 6, 7, 8, 9],\n",
    "           labels=list(lemon_age.columns))\n",
    "plt.show()"
   ]
  },
  {
   "cell_type": "markdown",
   "id": "22f01754-12d5-4c71-9cc5-ab18a05bcee5",
   "metadata": {},
   "source": [
    "#### Sex"
   ]
  },
  {
   "cell_type": "code",
   "execution_count": 22,
   "id": "739ad8dd-d381-4f01-bce6-d9515d5e5af6",
   "metadata": {},
   "outputs": [
    {
     "ename": "FileNotFoundError",
     "evalue": "[Errno 2] No such file or directory: 'additional_raw_data/LEMON_sex.csv'",
     "output_type": "error",
     "traceback": [
      "\u001b[0;31m---------------------------------------------------------------------------\u001b[0m",
      "\u001b[0;31mFileNotFoundError\u001b[0m                         Traceback (most recent call last)",
      "Input \u001b[0;32mIn [22]\u001b[0m, in \u001b[0;36m<cell line: 1>\u001b[0;34m()\u001b[0m\n\u001b[0;32m----> 1\u001b[0m lemon_sex \u001b[38;5;241m=\u001b[39m \u001b[43mpd\u001b[49m\u001b[38;5;241;43m.\u001b[39;49m\u001b[43mread_csv\u001b[49m\u001b[43m(\u001b[49m\u001b[38;5;124;43m\"\u001b[39;49m\u001b[38;5;124;43madditional_raw_data/LEMON_sex.csv\u001b[39;49m\u001b[38;5;124;43m\"\u001b[39;49m\u001b[43m,\u001b[49m\u001b[43mindex_col\u001b[49m\u001b[38;5;241;43m=\u001b[39;49m\u001b[38;5;241;43m0\u001b[39;49m\u001b[43m)\u001b[49m\n\u001b[1;32m      2\u001b[0m lemon_sex\n",
      "File \u001b[0;32m~/opt/anaconda3/envs/juselius22/lib/python3.10/site-packages/pandas/util/_decorators.py:311\u001b[0m, in \u001b[0;36mdeprecate_nonkeyword_arguments.<locals>.decorate.<locals>.wrapper\u001b[0;34m(*args, **kwargs)\u001b[0m\n\u001b[1;32m    305\u001b[0m \u001b[38;5;28;01mif\u001b[39;00m \u001b[38;5;28mlen\u001b[39m(args) \u001b[38;5;241m>\u001b[39m num_allow_args:\n\u001b[1;32m    306\u001b[0m     warnings\u001b[38;5;241m.\u001b[39mwarn(\n\u001b[1;32m    307\u001b[0m         msg\u001b[38;5;241m.\u001b[39mformat(arguments\u001b[38;5;241m=\u001b[39marguments),\n\u001b[1;32m    308\u001b[0m         \u001b[38;5;167;01mFutureWarning\u001b[39;00m,\n\u001b[1;32m    309\u001b[0m         stacklevel\u001b[38;5;241m=\u001b[39mstacklevel,\n\u001b[1;32m    310\u001b[0m     )\n\u001b[0;32m--> 311\u001b[0m \u001b[38;5;28;01mreturn\u001b[39;00m \u001b[43mfunc\u001b[49m\u001b[43m(\u001b[49m\u001b[38;5;241;43m*\u001b[39;49m\u001b[43margs\u001b[49m\u001b[43m,\u001b[49m\u001b[43m \u001b[49m\u001b[38;5;241;43m*\u001b[39;49m\u001b[38;5;241;43m*\u001b[39;49m\u001b[43mkwargs\u001b[49m\u001b[43m)\u001b[49m\n",
      "File \u001b[0;32m~/opt/anaconda3/envs/juselius22/lib/python3.10/site-packages/pandas/io/parsers/readers.py:678\u001b[0m, in \u001b[0;36mread_csv\u001b[0;34m(filepath_or_buffer, sep, delimiter, header, names, index_col, usecols, squeeze, prefix, mangle_dupe_cols, dtype, engine, converters, true_values, false_values, skipinitialspace, skiprows, skipfooter, nrows, na_values, keep_default_na, na_filter, verbose, skip_blank_lines, parse_dates, infer_datetime_format, keep_date_col, date_parser, dayfirst, cache_dates, iterator, chunksize, compression, thousands, decimal, lineterminator, quotechar, quoting, doublequote, escapechar, comment, encoding, encoding_errors, dialect, error_bad_lines, warn_bad_lines, on_bad_lines, delim_whitespace, low_memory, memory_map, float_precision, storage_options)\u001b[0m\n\u001b[1;32m    663\u001b[0m kwds_defaults \u001b[38;5;241m=\u001b[39m _refine_defaults_read(\n\u001b[1;32m    664\u001b[0m     dialect,\n\u001b[1;32m    665\u001b[0m     delimiter,\n\u001b[0;32m   (...)\u001b[0m\n\u001b[1;32m    674\u001b[0m     defaults\u001b[38;5;241m=\u001b[39m{\u001b[38;5;124m\"\u001b[39m\u001b[38;5;124mdelimiter\u001b[39m\u001b[38;5;124m\"\u001b[39m: \u001b[38;5;124m\"\u001b[39m\u001b[38;5;124m,\u001b[39m\u001b[38;5;124m\"\u001b[39m},\n\u001b[1;32m    675\u001b[0m )\n\u001b[1;32m    676\u001b[0m kwds\u001b[38;5;241m.\u001b[39mupdate(kwds_defaults)\n\u001b[0;32m--> 678\u001b[0m \u001b[38;5;28;01mreturn\u001b[39;00m \u001b[43m_read\u001b[49m\u001b[43m(\u001b[49m\u001b[43mfilepath_or_buffer\u001b[49m\u001b[43m,\u001b[49m\u001b[43m \u001b[49m\u001b[43mkwds\u001b[49m\u001b[43m)\u001b[49m\n",
      "File \u001b[0;32m~/opt/anaconda3/envs/juselius22/lib/python3.10/site-packages/pandas/io/parsers/readers.py:575\u001b[0m, in \u001b[0;36m_read\u001b[0;34m(filepath_or_buffer, kwds)\u001b[0m\n\u001b[1;32m    572\u001b[0m _validate_names(kwds\u001b[38;5;241m.\u001b[39mget(\u001b[38;5;124m\"\u001b[39m\u001b[38;5;124mnames\u001b[39m\u001b[38;5;124m\"\u001b[39m, \u001b[38;5;28;01mNone\u001b[39;00m))\n\u001b[1;32m    574\u001b[0m \u001b[38;5;66;03m# Create the parser.\u001b[39;00m\n\u001b[0;32m--> 575\u001b[0m parser \u001b[38;5;241m=\u001b[39m \u001b[43mTextFileReader\u001b[49m\u001b[43m(\u001b[49m\u001b[43mfilepath_or_buffer\u001b[49m\u001b[43m,\u001b[49m\u001b[43m \u001b[49m\u001b[38;5;241;43m*\u001b[39;49m\u001b[38;5;241;43m*\u001b[39;49m\u001b[43mkwds\u001b[49m\u001b[43m)\u001b[49m\n\u001b[1;32m    577\u001b[0m \u001b[38;5;28;01mif\u001b[39;00m chunksize \u001b[38;5;129;01mor\u001b[39;00m iterator:\n\u001b[1;32m    578\u001b[0m     \u001b[38;5;28;01mreturn\u001b[39;00m parser\n",
      "File \u001b[0;32m~/opt/anaconda3/envs/juselius22/lib/python3.10/site-packages/pandas/io/parsers/readers.py:932\u001b[0m, in \u001b[0;36mTextFileReader.__init__\u001b[0;34m(self, f, engine, **kwds)\u001b[0m\n\u001b[1;32m    929\u001b[0m     \u001b[38;5;28mself\u001b[39m\u001b[38;5;241m.\u001b[39moptions[\u001b[38;5;124m\"\u001b[39m\u001b[38;5;124mhas_index_names\u001b[39m\u001b[38;5;124m\"\u001b[39m] \u001b[38;5;241m=\u001b[39m kwds[\u001b[38;5;124m\"\u001b[39m\u001b[38;5;124mhas_index_names\u001b[39m\u001b[38;5;124m\"\u001b[39m]\n\u001b[1;32m    931\u001b[0m \u001b[38;5;28mself\u001b[39m\u001b[38;5;241m.\u001b[39mhandles: IOHandles \u001b[38;5;241m|\u001b[39m \u001b[38;5;28;01mNone\u001b[39;00m \u001b[38;5;241m=\u001b[39m \u001b[38;5;28;01mNone\u001b[39;00m\n\u001b[0;32m--> 932\u001b[0m \u001b[38;5;28mself\u001b[39m\u001b[38;5;241m.\u001b[39m_engine \u001b[38;5;241m=\u001b[39m \u001b[38;5;28;43mself\u001b[39;49m\u001b[38;5;241;43m.\u001b[39;49m\u001b[43m_make_engine\u001b[49m\u001b[43m(\u001b[49m\u001b[43mf\u001b[49m\u001b[43m,\u001b[49m\u001b[43m \u001b[49m\u001b[38;5;28;43mself\u001b[39;49m\u001b[38;5;241;43m.\u001b[39;49m\u001b[43mengine\u001b[49m\u001b[43m)\u001b[49m\n",
      "File \u001b[0;32m~/opt/anaconda3/envs/juselius22/lib/python3.10/site-packages/pandas/io/parsers/readers.py:1216\u001b[0m, in \u001b[0;36mTextFileReader._make_engine\u001b[0;34m(self, f, engine)\u001b[0m\n\u001b[1;32m   1212\u001b[0m     mode \u001b[38;5;241m=\u001b[39m \u001b[38;5;124m\"\u001b[39m\u001b[38;5;124mrb\u001b[39m\u001b[38;5;124m\"\u001b[39m\n\u001b[1;32m   1213\u001b[0m \u001b[38;5;66;03m# error: No overload variant of \"get_handle\" matches argument types\u001b[39;00m\n\u001b[1;32m   1214\u001b[0m \u001b[38;5;66;03m# \"Union[str, PathLike[str], ReadCsvBuffer[bytes], ReadCsvBuffer[str]]\"\u001b[39;00m\n\u001b[1;32m   1215\u001b[0m \u001b[38;5;66;03m# , \"str\", \"bool\", \"Any\", \"Any\", \"Any\", \"Any\", \"Any\"\u001b[39;00m\n\u001b[0;32m-> 1216\u001b[0m \u001b[38;5;28mself\u001b[39m\u001b[38;5;241m.\u001b[39mhandles \u001b[38;5;241m=\u001b[39m \u001b[43mget_handle\u001b[49m\u001b[43m(\u001b[49m\u001b[43m  \u001b[49m\u001b[38;5;66;43;03m# type: ignore[call-overload]\u001b[39;49;00m\n\u001b[1;32m   1217\u001b[0m \u001b[43m    \u001b[49m\u001b[43mf\u001b[49m\u001b[43m,\u001b[49m\n\u001b[1;32m   1218\u001b[0m \u001b[43m    \u001b[49m\u001b[43mmode\u001b[49m\u001b[43m,\u001b[49m\n\u001b[1;32m   1219\u001b[0m \u001b[43m    \u001b[49m\u001b[43mencoding\u001b[49m\u001b[38;5;241;43m=\u001b[39;49m\u001b[38;5;28;43mself\u001b[39;49m\u001b[38;5;241;43m.\u001b[39;49m\u001b[43moptions\u001b[49m\u001b[38;5;241;43m.\u001b[39;49m\u001b[43mget\u001b[49m\u001b[43m(\u001b[49m\u001b[38;5;124;43m\"\u001b[39;49m\u001b[38;5;124;43mencoding\u001b[39;49m\u001b[38;5;124;43m\"\u001b[39;49m\u001b[43m,\u001b[49m\u001b[43m \u001b[49m\u001b[38;5;28;43;01mNone\u001b[39;49;00m\u001b[43m)\u001b[49m\u001b[43m,\u001b[49m\n\u001b[1;32m   1220\u001b[0m \u001b[43m    \u001b[49m\u001b[43mcompression\u001b[49m\u001b[38;5;241;43m=\u001b[39;49m\u001b[38;5;28;43mself\u001b[39;49m\u001b[38;5;241;43m.\u001b[39;49m\u001b[43moptions\u001b[49m\u001b[38;5;241;43m.\u001b[39;49m\u001b[43mget\u001b[49m\u001b[43m(\u001b[49m\u001b[38;5;124;43m\"\u001b[39;49m\u001b[38;5;124;43mcompression\u001b[39;49m\u001b[38;5;124;43m\"\u001b[39;49m\u001b[43m,\u001b[49m\u001b[43m \u001b[49m\u001b[38;5;28;43;01mNone\u001b[39;49;00m\u001b[43m)\u001b[49m\u001b[43m,\u001b[49m\n\u001b[1;32m   1221\u001b[0m \u001b[43m    \u001b[49m\u001b[43mmemory_map\u001b[49m\u001b[38;5;241;43m=\u001b[39;49m\u001b[38;5;28;43mself\u001b[39;49m\u001b[38;5;241;43m.\u001b[39;49m\u001b[43moptions\u001b[49m\u001b[38;5;241;43m.\u001b[39;49m\u001b[43mget\u001b[49m\u001b[43m(\u001b[49m\u001b[38;5;124;43m\"\u001b[39;49m\u001b[38;5;124;43mmemory_map\u001b[39;49m\u001b[38;5;124;43m\"\u001b[39;49m\u001b[43m,\u001b[49m\u001b[43m \u001b[49m\u001b[38;5;28;43;01mFalse\u001b[39;49;00m\u001b[43m)\u001b[49m\u001b[43m,\u001b[49m\n\u001b[1;32m   1222\u001b[0m \u001b[43m    \u001b[49m\u001b[43mis_text\u001b[49m\u001b[38;5;241;43m=\u001b[39;49m\u001b[43mis_text\u001b[49m\u001b[43m,\u001b[49m\n\u001b[1;32m   1223\u001b[0m \u001b[43m    \u001b[49m\u001b[43merrors\u001b[49m\u001b[38;5;241;43m=\u001b[39;49m\u001b[38;5;28;43mself\u001b[39;49m\u001b[38;5;241;43m.\u001b[39;49m\u001b[43moptions\u001b[49m\u001b[38;5;241;43m.\u001b[39;49m\u001b[43mget\u001b[49m\u001b[43m(\u001b[49m\u001b[38;5;124;43m\"\u001b[39;49m\u001b[38;5;124;43mencoding_errors\u001b[39;49m\u001b[38;5;124;43m\"\u001b[39;49m\u001b[43m,\u001b[49m\u001b[43m \u001b[49m\u001b[38;5;124;43m\"\u001b[39;49m\u001b[38;5;124;43mstrict\u001b[39;49m\u001b[38;5;124;43m\"\u001b[39;49m\u001b[43m)\u001b[49m\u001b[43m,\u001b[49m\n\u001b[1;32m   1224\u001b[0m \u001b[43m    \u001b[49m\u001b[43mstorage_options\u001b[49m\u001b[38;5;241;43m=\u001b[39;49m\u001b[38;5;28;43mself\u001b[39;49m\u001b[38;5;241;43m.\u001b[39;49m\u001b[43moptions\u001b[49m\u001b[38;5;241;43m.\u001b[39;49m\u001b[43mget\u001b[49m\u001b[43m(\u001b[49m\u001b[38;5;124;43m\"\u001b[39;49m\u001b[38;5;124;43mstorage_options\u001b[39;49m\u001b[38;5;124;43m\"\u001b[39;49m\u001b[43m,\u001b[49m\u001b[43m \u001b[49m\u001b[38;5;28;43;01mNone\u001b[39;49;00m\u001b[43m)\u001b[49m\u001b[43m,\u001b[49m\n\u001b[1;32m   1225\u001b[0m \u001b[43m\u001b[49m\u001b[43m)\u001b[49m\n\u001b[1;32m   1226\u001b[0m \u001b[38;5;28;01massert\u001b[39;00m \u001b[38;5;28mself\u001b[39m\u001b[38;5;241m.\u001b[39mhandles \u001b[38;5;129;01mis\u001b[39;00m \u001b[38;5;129;01mnot\u001b[39;00m \u001b[38;5;28;01mNone\u001b[39;00m\n\u001b[1;32m   1227\u001b[0m f \u001b[38;5;241m=\u001b[39m \u001b[38;5;28mself\u001b[39m\u001b[38;5;241m.\u001b[39mhandles\u001b[38;5;241m.\u001b[39mhandle\n",
      "File \u001b[0;32m~/opt/anaconda3/envs/juselius22/lib/python3.10/site-packages/pandas/io/common.py:786\u001b[0m, in \u001b[0;36mget_handle\u001b[0;34m(path_or_buf, mode, encoding, compression, memory_map, is_text, errors, storage_options)\u001b[0m\n\u001b[1;32m    781\u001b[0m \u001b[38;5;28;01melif\u001b[39;00m \u001b[38;5;28misinstance\u001b[39m(handle, \u001b[38;5;28mstr\u001b[39m):\n\u001b[1;32m    782\u001b[0m     \u001b[38;5;66;03m# Check whether the filename is to be opened in binary mode.\u001b[39;00m\n\u001b[1;32m    783\u001b[0m     \u001b[38;5;66;03m# Binary mode does not support 'encoding' and 'newline'.\u001b[39;00m\n\u001b[1;32m    784\u001b[0m     \u001b[38;5;28;01mif\u001b[39;00m ioargs\u001b[38;5;241m.\u001b[39mencoding \u001b[38;5;129;01mand\u001b[39;00m \u001b[38;5;124m\"\u001b[39m\u001b[38;5;124mb\u001b[39m\u001b[38;5;124m\"\u001b[39m \u001b[38;5;129;01mnot\u001b[39;00m \u001b[38;5;129;01min\u001b[39;00m ioargs\u001b[38;5;241m.\u001b[39mmode:\n\u001b[1;32m    785\u001b[0m         \u001b[38;5;66;03m# Encoding\u001b[39;00m\n\u001b[0;32m--> 786\u001b[0m         handle \u001b[38;5;241m=\u001b[39m \u001b[38;5;28;43mopen\u001b[39;49m\u001b[43m(\u001b[49m\n\u001b[1;32m    787\u001b[0m \u001b[43m            \u001b[49m\u001b[43mhandle\u001b[49m\u001b[43m,\u001b[49m\n\u001b[1;32m    788\u001b[0m \u001b[43m            \u001b[49m\u001b[43mioargs\u001b[49m\u001b[38;5;241;43m.\u001b[39;49m\u001b[43mmode\u001b[49m\u001b[43m,\u001b[49m\n\u001b[1;32m    789\u001b[0m \u001b[43m            \u001b[49m\u001b[43mencoding\u001b[49m\u001b[38;5;241;43m=\u001b[39;49m\u001b[43mioargs\u001b[49m\u001b[38;5;241;43m.\u001b[39;49m\u001b[43mencoding\u001b[49m\u001b[43m,\u001b[49m\n\u001b[1;32m    790\u001b[0m \u001b[43m            \u001b[49m\u001b[43merrors\u001b[49m\u001b[38;5;241;43m=\u001b[39;49m\u001b[43merrors\u001b[49m\u001b[43m,\u001b[49m\n\u001b[1;32m    791\u001b[0m \u001b[43m            \u001b[49m\u001b[43mnewline\u001b[49m\u001b[38;5;241;43m=\u001b[39;49m\u001b[38;5;124;43m\"\u001b[39;49m\u001b[38;5;124;43m\"\u001b[39;49m\u001b[43m,\u001b[49m\n\u001b[1;32m    792\u001b[0m \u001b[43m        \u001b[49m\u001b[43m)\u001b[49m\n\u001b[1;32m    793\u001b[0m     \u001b[38;5;28;01melse\u001b[39;00m:\n\u001b[1;32m    794\u001b[0m         \u001b[38;5;66;03m# Binary mode\u001b[39;00m\n\u001b[1;32m    795\u001b[0m         handle \u001b[38;5;241m=\u001b[39m \u001b[38;5;28mopen\u001b[39m(handle, ioargs\u001b[38;5;241m.\u001b[39mmode)\n",
      "\u001b[0;31mFileNotFoundError\u001b[0m: [Errno 2] No such file or directory: 'additional_raw_data/LEMON_sex.csv'"
     ]
    }
   ],
   "source": [
    "lemon_sex = pd.read_csv(\"additional_raw_data/LEMON_sex.csv\",index_col=0)\n",
    "lemon_sex"
   ]
  },
  {
   "cell_type": "code",
   "execution_count": null,
   "id": "5c0c59a7-365d-49c5-bc46-9d1fdfcbe8b6",
   "metadata": {},
   "outputs": [],
   "source": [
    "plt.bar(x=[1, 2],\n",
    "        height=lemon_sex.iloc[0,:])\n",
    "plt.title(\"Sex distribution in Cluster 0\")\n",
    "plt.xticks(ticks=[1, 2],\n",
    "           labels=list(lemon_sex.columns))\n",
    "plt.show()"
   ]
  },
  {
   "cell_type": "code",
   "execution_count": null,
   "id": "add6c9c8-6b18-4981-9f1f-2d74afa23468",
   "metadata": {},
   "outputs": [],
   "source": [
    "plt.bar(x=[1, 2],\n",
    "        height=lemon_sex.iloc[1,:])\n",
    "plt.title(\"Sex distribution in Cluster 1\")\n",
    "plt.xticks(ticks=[1, 2],\n",
    "           labels=list(lemon_sex.columns))\n",
    "plt.show()"
   ]
  },
  {
   "cell_type": "code",
   "execution_count": null,
   "id": "4261d06c-49f9-4266-a46e-341ca6e2c392",
   "metadata": {},
   "outputs": [],
   "source": [
    "plt.bar(x=[1, 2],\n",
    "        height=lemon_sex.iloc[2,:])\n",
    "plt.title(\"Sex distribution in Cluster 2\")\n",
    "plt.xticks(ticks=[1, 2],\n",
    "           labels=list(lemon_sex.columns))\n",
    "plt.show()"
   ]
  },
  {
   "cell_type": "code",
   "execution_count": null,
   "id": "6abe2091-49e9-48c5-b10c-68b49362e3f1",
   "metadata": {},
   "outputs": [],
   "source": [
    "plt.bar(x=[1, 2],\n",
    "        height=lemon_sex.iloc[3,:])\n",
    "plt.title(\"Sex distribution in Cluster 5\")\n",
    "plt.xticks(ticks=[1, 2],\n",
    "           labels=list(lemon_sex.columns))\n",
    "plt.show()"
   ]
  },
  {
   "cell_type": "code",
   "execution_count": null,
   "id": "b154226e-e012-4124-b441-fe5f385a71b4",
   "metadata": {},
   "outputs": [],
   "source": [
    "plt.bar(x=[1, 2],\n",
    "        height=lemon_sex.iloc[4,:])\n",
    "plt.title(\"Sex distribution in Cluster 7\")\n",
    "plt.xticks(ticks=[1, 2],\n",
    "           labels=list(lemon_sex.columns))\n",
    "plt.show()"
   ]
  },
  {
   "cell_type": "markdown",
   "id": "6d56a6dc-89e0-4298-bfe1-3af33f06df2b",
   "metadata": {},
   "source": [
    "#### Handedness"
   ]
  },
  {
   "cell_type": "code",
   "execution_count": 23,
   "id": "08ef3a91-487b-4a9d-b087-384e9629a801",
   "metadata": {},
   "outputs": [
    {
     "ename": "FileNotFoundError",
     "evalue": "[Errno 2] No such file or directory: 'additional_raw_data/LEMON_handedness.csv'",
     "output_type": "error",
     "traceback": [
      "\u001b[0;31m---------------------------------------------------------------------------\u001b[0m",
      "\u001b[0;31mFileNotFoundError\u001b[0m                         Traceback (most recent call last)",
      "Input \u001b[0;32mIn [23]\u001b[0m, in \u001b[0;36m<cell line: 1>\u001b[0;34m()\u001b[0m\n\u001b[0;32m----> 1\u001b[0m lemon_handedness \u001b[38;5;241m=\u001b[39m \u001b[43mpd\u001b[49m\u001b[38;5;241;43m.\u001b[39;49m\u001b[43mread_csv\u001b[49m\u001b[43m(\u001b[49m\u001b[38;5;124;43m\"\u001b[39;49m\u001b[38;5;124;43madditional_raw_data/LEMON_handedness.csv\u001b[39;49m\u001b[38;5;124;43m\"\u001b[39;49m\u001b[43m,\u001b[49m\u001b[43mindex_col\u001b[49m\u001b[38;5;241;43m=\u001b[39;49m\u001b[38;5;241;43m0\u001b[39;49m\u001b[43m)\u001b[49m\n\u001b[1;32m      2\u001b[0m lemon_handedness\n",
      "File \u001b[0;32m~/opt/anaconda3/envs/juselius22/lib/python3.10/site-packages/pandas/util/_decorators.py:311\u001b[0m, in \u001b[0;36mdeprecate_nonkeyword_arguments.<locals>.decorate.<locals>.wrapper\u001b[0;34m(*args, **kwargs)\u001b[0m\n\u001b[1;32m    305\u001b[0m \u001b[38;5;28;01mif\u001b[39;00m \u001b[38;5;28mlen\u001b[39m(args) \u001b[38;5;241m>\u001b[39m num_allow_args:\n\u001b[1;32m    306\u001b[0m     warnings\u001b[38;5;241m.\u001b[39mwarn(\n\u001b[1;32m    307\u001b[0m         msg\u001b[38;5;241m.\u001b[39mformat(arguments\u001b[38;5;241m=\u001b[39marguments),\n\u001b[1;32m    308\u001b[0m         \u001b[38;5;167;01mFutureWarning\u001b[39;00m,\n\u001b[1;32m    309\u001b[0m         stacklevel\u001b[38;5;241m=\u001b[39mstacklevel,\n\u001b[1;32m    310\u001b[0m     )\n\u001b[0;32m--> 311\u001b[0m \u001b[38;5;28;01mreturn\u001b[39;00m \u001b[43mfunc\u001b[49m\u001b[43m(\u001b[49m\u001b[38;5;241;43m*\u001b[39;49m\u001b[43margs\u001b[49m\u001b[43m,\u001b[49m\u001b[43m \u001b[49m\u001b[38;5;241;43m*\u001b[39;49m\u001b[38;5;241;43m*\u001b[39;49m\u001b[43mkwargs\u001b[49m\u001b[43m)\u001b[49m\n",
      "File \u001b[0;32m~/opt/anaconda3/envs/juselius22/lib/python3.10/site-packages/pandas/io/parsers/readers.py:678\u001b[0m, in \u001b[0;36mread_csv\u001b[0;34m(filepath_or_buffer, sep, delimiter, header, names, index_col, usecols, squeeze, prefix, mangle_dupe_cols, dtype, engine, converters, true_values, false_values, skipinitialspace, skiprows, skipfooter, nrows, na_values, keep_default_na, na_filter, verbose, skip_blank_lines, parse_dates, infer_datetime_format, keep_date_col, date_parser, dayfirst, cache_dates, iterator, chunksize, compression, thousands, decimal, lineterminator, quotechar, quoting, doublequote, escapechar, comment, encoding, encoding_errors, dialect, error_bad_lines, warn_bad_lines, on_bad_lines, delim_whitespace, low_memory, memory_map, float_precision, storage_options)\u001b[0m\n\u001b[1;32m    663\u001b[0m kwds_defaults \u001b[38;5;241m=\u001b[39m _refine_defaults_read(\n\u001b[1;32m    664\u001b[0m     dialect,\n\u001b[1;32m    665\u001b[0m     delimiter,\n\u001b[0;32m   (...)\u001b[0m\n\u001b[1;32m    674\u001b[0m     defaults\u001b[38;5;241m=\u001b[39m{\u001b[38;5;124m\"\u001b[39m\u001b[38;5;124mdelimiter\u001b[39m\u001b[38;5;124m\"\u001b[39m: \u001b[38;5;124m\"\u001b[39m\u001b[38;5;124m,\u001b[39m\u001b[38;5;124m\"\u001b[39m},\n\u001b[1;32m    675\u001b[0m )\n\u001b[1;32m    676\u001b[0m kwds\u001b[38;5;241m.\u001b[39mupdate(kwds_defaults)\n\u001b[0;32m--> 678\u001b[0m \u001b[38;5;28;01mreturn\u001b[39;00m \u001b[43m_read\u001b[49m\u001b[43m(\u001b[49m\u001b[43mfilepath_or_buffer\u001b[49m\u001b[43m,\u001b[49m\u001b[43m \u001b[49m\u001b[43mkwds\u001b[49m\u001b[43m)\u001b[49m\n",
      "File \u001b[0;32m~/opt/anaconda3/envs/juselius22/lib/python3.10/site-packages/pandas/io/parsers/readers.py:575\u001b[0m, in \u001b[0;36m_read\u001b[0;34m(filepath_or_buffer, kwds)\u001b[0m\n\u001b[1;32m    572\u001b[0m _validate_names(kwds\u001b[38;5;241m.\u001b[39mget(\u001b[38;5;124m\"\u001b[39m\u001b[38;5;124mnames\u001b[39m\u001b[38;5;124m\"\u001b[39m, \u001b[38;5;28;01mNone\u001b[39;00m))\n\u001b[1;32m    574\u001b[0m \u001b[38;5;66;03m# Create the parser.\u001b[39;00m\n\u001b[0;32m--> 575\u001b[0m parser \u001b[38;5;241m=\u001b[39m \u001b[43mTextFileReader\u001b[49m\u001b[43m(\u001b[49m\u001b[43mfilepath_or_buffer\u001b[49m\u001b[43m,\u001b[49m\u001b[43m \u001b[49m\u001b[38;5;241;43m*\u001b[39;49m\u001b[38;5;241;43m*\u001b[39;49m\u001b[43mkwds\u001b[49m\u001b[43m)\u001b[49m\n\u001b[1;32m    577\u001b[0m \u001b[38;5;28;01mif\u001b[39;00m chunksize \u001b[38;5;129;01mor\u001b[39;00m iterator:\n\u001b[1;32m    578\u001b[0m     \u001b[38;5;28;01mreturn\u001b[39;00m parser\n",
      "File \u001b[0;32m~/opt/anaconda3/envs/juselius22/lib/python3.10/site-packages/pandas/io/parsers/readers.py:932\u001b[0m, in \u001b[0;36mTextFileReader.__init__\u001b[0;34m(self, f, engine, **kwds)\u001b[0m\n\u001b[1;32m    929\u001b[0m     \u001b[38;5;28mself\u001b[39m\u001b[38;5;241m.\u001b[39moptions[\u001b[38;5;124m\"\u001b[39m\u001b[38;5;124mhas_index_names\u001b[39m\u001b[38;5;124m\"\u001b[39m] \u001b[38;5;241m=\u001b[39m kwds[\u001b[38;5;124m\"\u001b[39m\u001b[38;5;124mhas_index_names\u001b[39m\u001b[38;5;124m\"\u001b[39m]\n\u001b[1;32m    931\u001b[0m \u001b[38;5;28mself\u001b[39m\u001b[38;5;241m.\u001b[39mhandles: IOHandles \u001b[38;5;241m|\u001b[39m \u001b[38;5;28;01mNone\u001b[39;00m \u001b[38;5;241m=\u001b[39m \u001b[38;5;28;01mNone\u001b[39;00m\n\u001b[0;32m--> 932\u001b[0m \u001b[38;5;28mself\u001b[39m\u001b[38;5;241m.\u001b[39m_engine \u001b[38;5;241m=\u001b[39m \u001b[38;5;28;43mself\u001b[39;49m\u001b[38;5;241;43m.\u001b[39;49m\u001b[43m_make_engine\u001b[49m\u001b[43m(\u001b[49m\u001b[43mf\u001b[49m\u001b[43m,\u001b[49m\u001b[43m \u001b[49m\u001b[38;5;28;43mself\u001b[39;49m\u001b[38;5;241;43m.\u001b[39;49m\u001b[43mengine\u001b[49m\u001b[43m)\u001b[49m\n",
      "File \u001b[0;32m~/opt/anaconda3/envs/juselius22/lib/python3.10/site-packages/pandas/io/parsers/readers.py:1216\u001b[0m, in \u001b[0;36mTextFileReader._make_engine\u001b[0;34m(self, f, engine)\u001b[0m\n\u001b[1;32m   1212\u001b[0m     mode \u001b[38;5;241m=\u001b[39m \u001b[38;5;124m\"\u001b[39m\u001b[38;5;124mrb\u001b[39m\u001b[38;5;124m\"\u001b[39m\n\u001b[1;32m   1213\u001b[0m \u001b[38;5;66;03m# error: No overload variant of \"get_handle\" matches argument types\u001b[39;00m\n\u001b[1;32m   1214\u001b[0m \u001b[38;5;66;03m# \"Union[str, PathLike[str], ReadCsvBuffer[bytes], ReadCsvBuffer[str]]\"\u001b[39;00m\n\u001b[1;32m   1215\u001b[0m \u001b[38;5;66;03m# , \"str\", \"bool\", \"Any\", \"Any\", \"Any\", \"Any\", \"Any\"\u001b[39;00m\n\u001b[0;32m-> 1216\u001b[0m \u001b[38;5;28mself\u001b[39m\u001b[38;5;241m.\u001b[39mhandles \u001b[38;5;241m=\u001b[39m \u001b[43mget_handle\u001b[49m\u001b[43m(\u001b[49m\u001b[43m  \u001b[49m\u001b[38;5;66;43;03m# type: ignore[call-overload]\u001b[39;49;00m\n\u001b[1;32m   1217\u001b[0m \u001b[43m    \u001b[49m\u001b[43mf\u001b[49m\u001b[43m,\u001b[49m\n\u001b[1;32m   1218\u001b[0m \u001b[43m    \u001b[49m\u001b[43mmode\u001b[49m\u001b[43m,\u001b[49m\n\u001b[1;32m   1219\u001b[0m \u001b[43m    \u001b[49m\u001b[43mencoding\u001b[49m\u001b[38;5;241;43m=\u001b[39;49m\u001b[38;5;28;43mself\u001b[39;49m\u001b[38;5;241;43m.\u001b[39;49m\u001b[43moptions\u001b[49m\u001b[38;5;241;43m.\u001b[39;49m\u001b[43mget\u001b[49m\u001b[43m(\u001b[49m\u001b[38;5;124;43m\"\u001b[39;49m\u001b[38;5;124;43mencoding\u001b[39;49m\u001b[38;5;124;43m\"\u001b[39;49m\u001b[43m,\u001b[49m\u001b[43m \u001b[49m\u001b[38;5;28;43;01mNone\u001b[39;49;00m\u001b[43m)\u001b[49m\u001b[43m,\u001b[49m\n\u001b[1;32m   1220\u001b[0m \u001b[43m    \u001b[49m\u001b[43mcompression\u001b[49m\u001b[38;5;241;43m=\u001b[39;49m\u001b[38;5;28;43mself\u001b[39;49m\u001b[38;5;241;43m.\u001b[39;49m\u001b[43moptions\u001b[49m\u001b[38;5;241;43m.\u001b[39;49m\u001b[43mget\u001b[49m\u001b[43m(\u001b[49m\u001b[38;5;124;43m\"\u001b[39;49m\u001b[38;5;124;43mcompression\u001b[39;49m\u001b[38;5;124;43m\"\u001b[39;49m\u001b[43m,\u001b[49m\u001b[43m \u001b[49m\u001b[38;5;28;43;01mNone\u001b[39;49;00m\u001b[43m)\u001b[49m\u001b[43m,\u001b[49m\n\u001b[1;32m   1221\u001b[0m \u001b[43m    \u001b[49m\u001b[43mmemory_map\u001b[49m\u001b[38;5;241;43m=\u001b[39;49m\u001b[38;5;28;43mself\u001b[39;49m\u001b[38;5;241;43m.\u001b[39;49m\u001b[43moptions\u001b[49m\u001b[38;5;241;43m.\u001b[39;49m\u001b[43mget\u001b[49m\u001b[43m(\u001b[49m\u001b[38;5;124;43m\"\u001b[39;49m\u001b[38;5;124;43mmemory_map\u001b[39;49m\u001b[38;5;124;43m\"\u001b[39;49m\u001b[43m,\u001b[49m\u001b[43m \u001b[49m\u001b[38;5;28;43;01mFalse\u001b[39;49;00m\u001b[43m)\u001b[49m\u001b[43m,\u001b[49m\n\u001b[1;32m   1222\u001b[0m \u001b[43m    \u001b[49m\u001b[43mis_text\u001b[49m\u001b[38;5;241;43m=\u001b[39;49m\u001b[43mis_text\u001b[49m\u001b[43m,\u001b[49m\n\u001b[1;32m   1223\u001b[0m \u001b[43m    \u001b[49m\u001b[43merrors\u001b[49m\u001b[38;5;241;43m=\u001b[39;49m\u001b[38;5;28;43mself\u001b[39;49m\u001b[38;5;241;43m.\u001b[39;49m\u001b[43moptions\u001b[49m\u001b[38;5;241;43m.\u001b[39;49m\u001b[43mget\u001b[49m\u001b[43m(\u001b[49m\u001b[38;5;124;43m\"\u001b[39;49m\u001b[38;5;124;43mencoding_errors\u001b[39;49m\u001b[38;5;124;43m\"\u001b[39;49m\u001b[43m,\u001b[49m\u001b[43m \u001b[49m\u001b[38;5;124;43m\"\u001b[39;49m\u001b[38;5;124;43mstrict\u001b[39;49m\u001b[38;5;124;43m\"\u001b[39;49m\u001b[43m)\u001b[49m\u001b[43m,\u001b[49m\n\u001b[1;32m   1224\u001b[0m \u001b[43m    \u001b[49m\u001b[43mstorage_options\u001b[49m\u001b[38;5;241;43m=\u001b[39;49m\u001b[38;5;28;43mself\u001b[39;49m\u001b[38;5;241;43m.\u001b[39;49m\u001b[43moptions\u001b[49m\u001b[38;5;241;43m.\u001b[39;49m\u001b[43mget\u001b[49m\u001b[43m(\u001b[49m\u001b[38;5;124;43m\"\u001b[39;49m\u001b[38;5;124;43mstorage_options\u001b[39;49m\u001b[38;5;124;43m\"\u001b[39;49m\u001b[43m,\u001b[49m\u001b[43m \u001b[49m\u001b[38;5;28;43;01mNone\u001b[39;49;00m\u001b[43m)\u001b[49m\u001b[43m,\u001b[49m\n\u001b[1;32m   1225\u001b[0m \u001b[43m\u001b[49m\u001b[43m)\u001b[49m\n\u001b[1;32m   1226\u001b[0m \u001b[38;5;28;01massert\u001b[39;00m \u001b[38;5;28mself\u001b[39m\u001b[38;5;241m.\u001b[39mhandles \u001b[38;5;129;01mis\u001b[39;00m \u001b[38;5;129;01mnot\u001b[39;00m \u001b[38;5;28;01mNone\u001b[39;00m\n\u001b[1;32m   1227\u001b[0m f \u001b[38;5;241m=\u001b[39m \u001b[38;5;28mself\u001b[39m\u001b[38;5;241m.\u001b[39mhandles\u001b[38;5;241m.\u001b[39mhandle\n",
      "File \u001b[0;32m~/opt/anaconda3/envs/juselius22/lib/python3.10/site-packages/pandas/io/common.py:786\u001b[0m, in \u001b[0;36mget_handle\u001b[0;34m(path_or_buf, mode, encoding, compression, memory_map, is_text, errors, storage_options)\u001b[0m\n\u001b[1;32m    781\u001b[0m \u001b[38;5;28;01melif\u001b[39;00m \u001b[38;5;28misinstance\u001b[39m(handle, \u001b[38;5;28mstr\u001b[39m):\n\u001b[1;32m    782\u001b[0m     \u001b[38;5;66;03m# Check whether the filename is to be opened in binary mode.\u001b[39;00m\n\u001b[1;32m    783\u001b[0m     \u001b[38;5;66;03m# Binary mode does not support 'encoding' and 'newline'.\u001b[39;00m\n\u001b[1;32m    784\u001b[0m     \u001b[38;5;28;01mif\u001b[39;00m ioargs\u001b[38;5;241m.\u001b[39mencoding \u001b[38;5;129;01mand\u001b[39;00m \u001b[38;5;124m\"\u001b[39m\u001b[38;5;124mb\u001b[39m\u001b[38;5;124m\"\u001b[39m \u001b[38;5;129;01mnot\u001b[39;00m \u001b[38;5;129;01min\u001b[39;00m ioargs\u001b[38;5;241m.\u001b[39mmode:\n\u001b[1;32m    785\u001b[0m         \u001b[38;5;66;03m# Encoding\u001b[39;00m\n\u001b[0;32m--> 786\u001b[0m         handle \u001b[38;5;241m=\u001b[39m \u001b[38;5;28;43mopen\u001b[39;49m\u001b[43m(\u001b[49m\n\u001b[1;32m    787\u001b[0m \u001b[43m            \u001b[49m\u001b[43mhandle\u001b[49m\u001b[43m,\u001b[49m\n\u001b[1;32m    788\u001b[0m \u001b[43m            \u001b[49m\u001b[43mioargs\u001b[49m\u001b[38;5;241;43m.\u001b[39;49m\u001b[43mmode\u001b[49m\u001b[43m,\u001b[49m\n\u001b[1;32m    789\u001b[0m \u001b[43m            \u001b[49m\u001b[43mencoding\u001b[49m\u001b[38;5;241;43m=\u001b[39;49m\u001b[43mioargs\u001b[49m\u001b[38;5;241;43m.\u001b[39;49m\u001b[43mencoding\u001b[49m\u001b[43m,\u001b[49m\n\u001b[1;32m    790\u001b[0m \u001b[43m            \u001b[49m\u001b[43merrors\u001b[49m\u001b[38;5;241;43m=\u001b[39;49m\u001b[43merrors\u001b[49m\u001b[43m,\u001b[49m\n\u001b[1;32m    791\u001b[0m \u001b[43m            \u001b[49m\u001b[43mnewline\u001b[49m\u001b[38;5;241;43m=\u001b[39;49m\u001b[38;5;124;43m\"\u001b[39;49m\u001b[38;5;124;43m\"\u001b[39;49m\u001b[43m,\u001b[49m\n\u001b[1;32m    792\u001b[0m \u001b[43m        \u001b[49m\u001b[43m)\u001b[49m\n\u001b[1;32m    793\u001b[0m     \u001b[38;5;28;01melse\u001b[39;00m:\n\u001b[1;32m    794\u001b[0m         \u001b[38;5;66;03m# Binary mode\u001b[39;00m\n\u001b[1;32m    795\u001b[0m         handle \u001b[38;5;241m=\u001b[39m \u001b[38;5;28mopen\u001b[39m(handle, ioargs\u001b[38;5;241m.\u001b[39mmode)\n",
      "\u001b[0;31mFileNotFoundError\u001b[0m: [Errno 2] No such file or directory: 'additional_raw_data/LEMON_handedness.csv'"
     ]
    }
   ],
   "source": [
    "lemon_handedness = pd.read_csv(\"additional_raw_data/LEMON_handedness.csv\",index_col=0)\n",
    "lemon_handedness"
   ]
  },
  {
   "cell_type": "code",
   "execution_count": null,
   "id": "5454276e-a780-46fe-a08b-b74185c49c30",
   "metadata": {},
   "outputs": [],
   "source": [
    "plt.bar(x=[1, 2],\n",
    "        height=lemon_sex.iloc[0,:])\n",
    "plt.title(\"Handedness distribution in Cluster 0\")\n",
    "plt.xticks(ticks=[1, 2],\n",
    "           labels=list(lemon_handedness.columns))\n",
    "plt.show()"
   ]
  },
  {
   "cell_type": "code",
   "execution_count": null,
   "id": "2bbb21ad-d076-49b8-9520-51aefeb97e42",
   "metadata": {},
   "outputs": [],
   "source": [
    "plt.bar(x=[1, 2],\n",
    "        height=lemon_sex.iloc[1,:])\n",
    "plt.title(\"Handedness distribution in Cluster 1\")\n",
    "plt.xticks(ticks=[1, 2],\n",
    "           labels=list(lemon_handedness.columns))\n",
    "plt.show()"
   ]
  },
  {
   "cell_type": "code",
   "execution_count": null,
   "id": "1cf35930-0b0a-4cf5-8c3b-095046e57818",
   "metadata": {},
   "outputs": [],
   "source": [
    "plt.bar(x=[1, 2],\n",
    "        height=lemon_sex.iloc[2,:])\n",
    "plt.title(\"Handedness distribution in Cluster 2\")\n",
    "plt.xticks(ticks=[1, 2],\n",
    "           labels=list(lemon_handedness.columns))\n",
    "plt.show()"
   ]
  },
  {
   "cell_type": "code",
   "execution_count": null,
   "id": "86d92e94-60d3-4703-8b6f-f9fdef46d317",
   "metadata": {},
   "outputs": [],
   "source": [
    "plt.bar(x=[1, 2],\n",
    "        height=lemon_sex.iloc[3,:])\n",
    "plt.title(\"Handedness distribution in Cluster 5\")\n",
    "plt.xticks(ticks=[1, 2],\n",
    "           labels=list(lemon_handedness.columns))\n",
    "plt.show()"
   ]
  },
  {
   "cell_type": "code",
   "execution_count": null,
   "id": "924f84a2-a4db-427f-a8ef-8af9f62702ec",
   "metadata": {},
   "outputs": [],
   "source": [
    "plt.bar(x=[1, 2],\n",
    "        height=lemon_sex.iloc[4,:])\n",
    "plt.title(\"Handedness distribution in Cluster 7\")\n",
    "plt.xticks(ticks=[1, 2],\n",
    "           labels=list(lemon_handedness.columns))\n",
    "plt.show()"
   ]
  },
  {
   "cell_type": "markdown",
   "id": "0bf51f86-a699-4ce7-8d8d-dcae95abe745",
   "metadata": {
    "tags": []
   },
   "source": [
    "## Clustering PCA no BMI/waist cm"
   ]
  },
  {
   "cell_type": "code",
   "execution_count": 1,
   "id": "8339dbda-0929-430b-bdcf-8b5ff4f4b1f0",
   "metadata": {},
   "outputs": [],
   "source": [
    "# This code was used for analysis demonstrated in the proposal"
   ]
  },
  {
   "cell_type": "code",
   "execution_count": 25,
   "id": "83b01322-c436-499e-9cf1-3ed7e7080669",
   "metadata": {},
   "outputs": [],
   "source": [
    "from sklearn.mixture import BayesianGaussianMixture\n",
    "n_components = 10\n",
    "\n",
    "bgm_on_pca_nobmi = BayesianGaussianMixture(n_components=n_components,\n",
    "                                           n_init=20,\n",
    "                                           covariance_type=\"full\",\n",
    "                                           weight_concentration_prior=10000,\n",
    "                                           init_params=\"k-means++\",\n",
    "                                           random_state=44)"
   ]
  },
  {
   "cell_type": "code",
   "execution_count": 26,
   "id": "bbae8502-cbb5-4838-ac89-309b28f9661d",
   "metadata": {},
   "outputs": [
    {
     "ename": "NameError",
     "evalue": "name 'components_nobmi' is not defined",
     "output_type": "error",
     "traceback": [
      "\u001b[0;31m---------------------------------------------------------------------------\u001b[0m",
      "\u001b[0;31mNameError\u001b[0m                                 Traceback (most recent call last)",
      "Input \u001b[0;32mIn [26]\u001b[0m, in \u001b[0;36m<cell line: 1>\u001b[0;34m()\u001b[0m\n\u001b[0;32m----> 1\u001b[0m bgm_on_pca_nobmi\u001b[38;5;241m.\u001b[39mfit(\u001b[43mcomponents_nobmi\u001b[49m)\n\u001b[1;32m      2\u001b[0m cluster_list \u001b[38;5;241m=\u001b[39m \u001b[38;5;28mlist\u001b[39m(\u001b[38;5;28mzip\u001b[39m(\u001b[38;5;28mrange\u001b[39m(n_components), bgm_on_pca_nobmi\u001b[38;5;241m.\u001b[39mweights_))\n",
      "\u001b[0;31mNameError\u001b[0m: name 'components_nobmi' is not defined"
     ]
    }
   ],
   "source": [
    "bgm_on_pca_nobmi.fit(components_nobmi)\n",
    "cluster_list = list(zip(range(n_components), bgm_on_pca_nobmi.weights_))"
   ]
  },
  {
   "cell_type": "code",
   "execution_count": null,
   "id": "8811325d-7d13-4080-8e15-73180b1ec93c",
   "metadata": {},
   "outputs": [],
   "source": [
    "# Clusters and centroid coordinates\n",
    "list(zip(cluster_list, bgm_on_pca_nobmi.means_))"
   ]
  },
  {
   "cell_type": "code",
   "execution_count": null,
   "id": "ef9968f1-5c60-4a19-a8cf-c852e1ac4ebf",
   "metadata": {},
   "outputs": [],
   "source": [
    "fig = plot_gaussian_mixture(bgm_on_pca_nobmi, components_nobmi)\n",
    "# Clusters shown on plot are (clockwise): 0, 3, 8, 1 \n",
    "fig"
   ]
  },
  {
   "cell_type": "markdown",
   "id": "13f38f52-7323-4c6a-8c1a-eb45fe5b463b",
   "metadata": {},
   "source": [
    "#### Dump models and save data"
   ]
  },
  {
   "cell_type": "code",
   "execution_count": null,
   "id": "20dc3467-cb4d-4d7a-b202-8cd3d506d30d",
   "metadata": {},
   "outputs": [],
   "source": [
    "%cd \n",
    "\n",
    "if SAVE_FILES:\n",
    "    pkl.dump(bgm_on_pca_nobmi, open('processed_data/bgm_on_pca_nobmi.mdl', 'wb'))\n",
    "    np.save('processed_data/components_nobmi.npy', components_nobmi)\n",
    "    data_num.to_csv('processed_data/behavioural_numerical_data.csv')\n",
    "    bgm_cluster_on_pca_nobmi = bgm_on_pca_nobmi.predict(components_nobmi)\n",
    "    data_bgm_clustered_on_pca_nobmi = data_num.copy()\n",
    "    data_bgm_clustered_on_pca_nobmi['bgm_pca_cluster'] = bgm_cluster_on_pca_nobmi\n",
    "    data_bgm_clustered_on_pca_nobmi.to_csv(\"processed_data/clustered_behavioral_LEMON_pca_based_nobmi.csv\")"
   ]
  },
  {
   "cell_type": "markdown",
   "id": "b279f038-8b56-4837-aaaa-531b89b54787",
   "metadata": {},
   "source": [
    "# Plotting functions for behavioural clustering"
   ]
  },
  {
   "cell_type": "markdown",
   "id": "fb4edbf8-9d20-45a2-9593-bdb8d28b8d11",
   "metadata": {},
   "source": [
    "## Import libraries and data"
   ]
  },
  {
   "cell_type": "code",
   "execution_count": 623,
   "id": "07bd81db-68a2-4b86-8a84-e1157979932d",
   "metadata": {},
   "outputs": [],
   "source": [
    "import numpy as np\n",
    "import matplotlib.pyplot as plt\n",
    "import matplotlib as mpl\n",
    "import matplotlib.colors as colors\n",
    "import pandas as pd\n",
    "import plotly.express as px\n",
    "import sys\n",
    "import pickle as pkl"
   ]
  },
  {
   "cell_type": "code",
   "execution_count": 624,
   "id": "2e00e6fa-0956-49c3-adec-d017551719e1",
   "metadata": {},
   "outputs": [
    {
     "name": "stdout",
     "output_type": "stream",
     "text": [
      "/Users/artemii/obrain_lab/projects/obesity-types/grant-proposals/sigrid-juselius-2022/scripts\n"
     ]
    }
   ],
   "source": [
    "%cd /Users/artemii/obrain_lab/projects/obesity-types/grant-proposals/sigrid-juselius-2022/scripts/\n",
    "\n",
    "bgm_on_pca_nobmi = pkl.load(open('processed_data/bgm_on_pca_nobmi.mdl', 'rb'))\n",
    "components_nobmi = np.load('processed_data/components_nobmi.npy')\n",
    "data_num = pd.read_csv('processed_data/behavioural_numerical_data.csv')"
   ]
  },
  {
   "cell_type": "markdown",
   "id": "b2a8e18b-41be-4579-974b-f92d7ec5d960",
   "metadata": {
    "tags": []
   },
   "source": [
    "## Colour scheme"
   ]
  },
  {
   "cell_type": "code",
   "execution_count": 625,
   "id": "fa158472-3682-4e76-a063-18da58ebc8d4",
   "metadata": {},
   "outputs": [],
   "source": [
    "color_list_subtle = ['steelblue',\n",
    "                     'wheat',\n",
    "                     'coral']\n",
    "\n",
    "color_list_detailed = ['darkblue',\n",
    "                       'skyblue',\n",
    "                       'darkorange',\n",
    "                       'orangered']\n",
    "\n",
    "color_list_very_detailed = ['darkblue',\n",
    "                            'skyblue',\n",
    "                            'olivedrab',\n",
    "                            'gold',\n",
    "                            'orangered']\n",
    "\n",
    "cmap_subtle = colors.LinearSegmentedColormap.from_list('juselius22_subtle', color_list_subtle)\n",
    "cmap_detailed = colors.LinearSegmentedColormap.from_list('juselius22_detailed', color_list_detailed)\n",
    "cmap_very_detailed = colors.LinearSegmentedColormap.from_list('juselius22_very_detailed', color_list_very_detailed)"
   ]
  },
  {
   "cell_type": "markdown",
   "id": "cd325d50-8388-48ba-8e5b-a37c2305739f",
   "metadata": {
    "tags": []
   },
   "source": [
    "## Fonts"
   ]
  },
  {
   "cell_type": "code",
   "execution_count": 626,
   "id": "dcc8bc38-35f3-4d1c-baf5-01c10822775c",
   "metadata": {},
   "outputs": [],
   "source": [
    "from matplotlib.font_manager import FontProperties, FontManager\n",
    "# ?\n",
    "# mgr = FontManager()\n",
    "# mgr.get_font_names()"
   ]
  },
  {
   "cell_type": "code",
   "execution_count": 627,
   "id": "9bc53228-5fc7-48a4-8d82-2e3f5121c381",
   "metadata": {},
   "outputs": [],
   "source": [
    "font = FontProperties()\n",
    "font.set_name('Helvetica')"
   ]
  },
  {
   "cell_type": "markdown",
   "id": "fdc71460-4a06-443c-ad16-f9b766c6bf7d",
   "metadata": {
    "tags": []
   },
   "source": [
    "### Show default rcParams"
   ]
  },
  {
   "cell_type": "code",
   "execution_count": 23,
   "id": "9e5dcd24-dd93-4b2c-a5fe-a62b6b1b9dbd",
   "metadata": {},
   "outputs": [],
   "source": [
    "if VERBOSE:\n",
    "    plt.rcParams"
   ]
  },
  {
   "cell_type": "markdown",
   "id": "7f15d3b3-9be8-4d91-8256-2e1bdd6fa04e",
   "metadata": {
    "tags": []
   },
   "source": [
    "## Plotting"
   ]
  },
  {
   "cell_type": "markdown",
   "id": "9858129c-0d68-403d-be8a-6d901301bea1",
   "metadata": {
    "tags": []
   },
   "source": [
    "### Scatter"
   ]
  },
  {
   "cell_type": "code",
   "execution_count": 22,
   "id": "3047e3b3-f4d6-4375-bf13-f03d7100f3a0",
   "metadata": {},
   "outputs": [],
   "source": [
    "if VERBOSE:\n",
    "    print(plt.colormaps())"
   ]
  },
  {
   "cell_type": "code",
   "execution_count": 630,
   "id": "511eaf22-7884-4f00-bae0-1a0c87c7a8d7",
   "metadata": {},
   "outputs": [
    {
     "data": {
      "image/png": "[encoded data removed]",
      "text/plain": [
       "<Figure size 600x700 with 2 Axes>"
      ]
     },
     "metadata": {},
     "output_type": "display_data"
    }
   ],
   "source": [
    "fig, ax = plt.subplots(figsize=[6, 7])\n",
    "\n",
    "cmap = cmap_detailed\n",
    "\n",
    "scatter = ax.scatter(components_nobmi[:,0], components_nobmi[:,1],\n",
    "                     c=data_num['Waist_cm'], alpha=1, s=25, cmap=cmap,\n",
    "                     #norm=colors.LogNorm(\n",
    "                     #    vmin=data_num['Waist_cm'].min(), vmax=data_num['Waist_cm'].max()\n",
    "                     #)\n",
    "                    )\n",
    "\n",
    "ax.grid(False)\n",
    "ax.set_xlabel('Principal component 1', fontproperties=font, fontsize=18)\n",
    "ax.set_ylabel('Principal component 2', fontproperties=font, fontsize=18)\n",
    "ax.tick_params(labelsize=18)\n",
    "\n",
    "colorbar = fig.colorbar(scatter, ticks=[],\n",
    "                        location='bottom',\n",
    "                        anchor=(0.98, 3.1),\n",
    "                        shrink=0.2, aspect=5)\n",
    "\n",
    "colorbar.set_label('Waist, cm', loc='center', size=12)\n",
    "\n",
    "if SAVE_FILES:\n",
    "    plt.savefig('plots/behavioural_pca_cmap_detailed.svg')\n",
    "plt.show()"
   ]
  },
  {
   "cell_type": "markdown",
   "id": "63391dcb-c49b-4026-bbce-cecd4d84f9bb",
   "metadata": {
    "tags": []
   },
   "source": [
    "### Clustering"
   ]
  },
  {
   "cell_type": "markdown",
   "id": "5bb44a6d-2501-485f-8c91-028ca64ff3c2",
   "metadata": {
    "tags": []
   },
   "source": [
    "#### Plotting functions"
   ]
  },
  {
   "cell_type": "code",
   "execution_count": 631,
   "id": "9430ba40-c731-4b52-81b7-27757199441e",
   "metadata": {},
   "outputs": [],
   "source": [
    "# Tweaking the code from the book to adjust the style\n",
    "\n",
    "from matplotlib.colors import LogNorm\n",
    "\n",
    "one_legend = True\n",
    "\n",
    "\n",
    "def plot_centroids(centroids, weights=None, circle_color='w', cross_color='k'):\n",
    "    if weights is not None:\n",
    "        centroids = centroids[weights > weights.max() / 10]\n",
    "\n",
    "    plt.scatter(centroids[:, 0], centroids[:, 1],\n",
    "                marker='o', s=60, linewidths=8,\n",
    "                color=circle_color, zorder=10, alpha=0.5)\n",
    "    x = 0\n",
    "    y = 0\n",
    "    centroids_text = centroids.copy() - 0.5\n",
    "    for marker in [0, 1, 3, 8]:\n",
    "        plt.text(centroids_text[x, 0], centroids_text[y, 1],\n",
    "                 str(marker), fontsize=20,\n",
    "                 color=cross_color,\n",
    "                 zorder=11, alpha=1)\n",
    "        x += 1\n",
    "        y += 1\n",
    "        \n",
    "    if not one_legend:\n",
    "        x = 0\n",
    "        y = 0\n",
    "        cluster_size_coordinates = np.array([[-10, -4.5],\n",
    "                                             [9, -4.5],\n",
    "                                             [-8, 10],\n",
    "                                             [6, 10]])\n",
    "        for cluster_size in [127, 34, 15, 52]:\n",
    "            plt.text(cluster_size_coordinates[x, 0], cluster_size_coordinates[y, 1],\n",
    "                     \"N=\"+str(cluster_size), fontsize=15,\n",
    "                     color=cross_color,\n",
    "                     zorder=11, alpha=1)\n",
    "            x += 1\n",
    "            y += 1\n",
    "    else:\n",
    "        legend_coordinates = [12.5, -5]\n",
    "        plt.text(legend_coordinates[0], legend_coordinates[1],\n",
    "                 \"0: N = 127\\n1: N = 34\\n3: N = 15\\n8: N = 52\", fontsize=11,\n",
    "                 color=cross_color,\n",
    "                 zorder=11, alpha=1)\n",
    "\n",
    "def plot_gaussian_mixture(clusterer, X, resolution=1000, show_ylabels=True):\n",
    "    mins = X.min(axis=0) - 0.1\n",
    "    maxs = X.max(axis=0) + 0.1\n",
    "    xx, yy = np.meshgrid(np.linspace(mins[0], maxs[0], resolution),\n",
    "                         np.linspace(mins[1], maxs[1], resolution))\n",
    "    Z = -clusterer.score_samples(np.c_[xx.ravel(), yy.ravel()])\n",
    "    Z = Z.reshape(xx.shape)\n",
    "\n",
    "    #plt.contourf(xx, yy, Z,\n",
    "    #             norm=LogNorm(vmin=1.0, vmax=30.0),\n",
    "    #             levels=np.logspace(0, 2, 12))\n",
    "    #plt.contour(xx, yy, Z,\n",
    "    #            norm=LogNorm(vmin=1.0, vmax=30.0),\n",
    "    #            levels=np.logspace(0, 2, 12),\n",
    "    #            linewidths=1, colors='k')\n",
    "    \n",
    "    Z = clusterer.predict(np.c_[xx.ravel(), yy.ravel()])\n",
    "    Z = Z.reshape(xx.shape)\n",
    "    \n",
    "    fig, ax = plt.subplots(figsize=[6, 7])\n",
    "    ax.contour(xx, yy, Z,\n",
    "               linewidths=1, colors='black', linestyles='dashed')\n",
    "    \n",
    "    ax.scatter(X[:, 0], X[:, 1],\n",
    "               c=data_num['Waist_cm'],\n",
    "               alpha=1, s=25, cmap=cmap\n",
    "              )\n",
    "    plot_centroids(clusterer.means_, clusterer.weights_)\n",
    "    \n",
    "    ax.set_xlabel('Principal component 1', fontproperties=font, fontsize=18)\n",
    "    if show_ylabels:\n",
    "        ax.set_ylabel('Principal component 2', fontproperties=font, fontsize=18)\n",
    "    else:\n",
    "        ax.tick_params(labelleft=False)\n",
    "    ax.tick_params(labelsize=18)\n",
    "    ax.set_xticks([])\n",
    "    ax.set_yticks([])\n",
    "    colorbar = fig.colorbar(scatter, ticks=[],\n",
    "                            location='bottom',\n",
    "                            anchor=(0.97, 3.25),\n",
    "                            shrink=0.2, aspect=5)\n",
    "    colorbar.set_label('Waist, cm', loc='center', size=12)\n",
    "    if SAVE_FILES:\n",
    "        plt.savefig('plots/behavioural_clusters_cmap_detailed.svg')"
   ]
  },
  {
   "cell_type": "markdown",
   "id": "665e4131-0b24-458b-999c-f9bfddaa692e",
   "metadata": {},
   "source": [
    "#### Plot clustering"
   ]
  },
  {
   "cell_type": "code",
   "execution_count": 632,
   "id": "b3a161a5-62ef-4644-b261-705fc3050827",
   "metadata": {},
   "outputs": [
    {
     "name": "stderr",
     "output_type": "stream",
     "text": [
      "/var/folders/bf/gw7g3vwn4cl_k752qcmmxhdh0000gn/T/ipykernel_18678/707347950.py:84: MatplotlibDeprecationWarning: Starting from Matplotlib 3.6, colorbar() will steal space from the mappable's axes, rather than from the current axes, to place the colorbar.  To silence this warning, explicitly pass the 'ax' argument to colorbar().\n",
      "  colorbar = fig.colorbar(scatter, ticks=[],\n"
     ]
    },
    {
     "data": {
      "image/png": "[encoded data removed]",
      "text/plain": [
       "<Figure size 600x700 with 2 Axes>"
      ]
     },
     "metadata": {},
     "output_type": "display_data"
    }
   ],
   "source": [
    "cmap = cmap_detailed\n",
    "fig = plot_gaussian_mixture(bgm_on_pca_nobmi, components_nobmi)\n",
    "# Clusters shown on plot are (clockwise): 0, 3, 8, 1\n",
    "plt.show()\n"
   ]
  },
  {
   "cell_type": "code",
   "execution_count": 635,
   "id": "a90f1f63-6f69-46d8-b2cc-aac102921198",
   "metadata": {},
   "outputs": [],
   "source": [
    "bgm_cluster_on_pca_nobmi = bgm_on_pca_nobmi.predict(components_nobmi)\n",
    "data_bgm_clustered_on_pca_nobmi = data_num.copy()\n",
    "data_bgm_clustered_on_pca_nobmi['bgm_pca_cluster'] = bgm_cluster_on_pca_nobmi\n",
    "data_bgm_clustered_on_pca_nobmi.to_csv(\"processed_data/clustered_behavioral_LEMON_pca_based_nobmi.csv\")"
   ]
  },
  {
   "cell_type": "code",
   "execution_count": 636,
   "id": "2d30aeb1-08ec-470e-b4cd-3208c7a65255",
   "metadata": {},
   "outputs": [
    {
     "name": "stderr",
     "output_type": "stream",
     "text": [
      "/var/folders/bf/gw7g3vwn4cl_k752qcmmxhdh0000gn/T/ipykernel_18678/3214915997.py:1: FutureWarning: Indexing with multiple keys (implicitly converted to a tuple of keys) will be deprecated, use a list instead.\n",
      "  data_bgm_clustered_on_pca_nobmi.groupby('bgm_pca_cluster', as_index=False)['FEV_KK', 'FEV_STOER', 'FEV_HUNGER', 'BMI'].agg('mean')\n"
     ]
    },
    {
     "data": {
      "text/html": [
       "<div>\n",
       "<style scoped>\n",
       "    .dataframe tbody tr th:only-of-type {\n",
       "        vertical-align: middle;\n",
       "    }\n",
       "\n",
       "    .dataframe tbody tr th {\n",
       "        vertical-align: top;\n",
       "    }\n",
       "\n",
       "    .dataframe thead th {\n",
       "        text-align: right;\n",
       "    }\n",
       "</style>\n",
       "<table border=\"1\" class=\"dataframe\">\n",
       "  <thead>\n",
       "    <tr style=\"text-align: right;\">\n",
       "      <th></th>\n",
       "      <th>bgm_pca_cluster</th>\n",
       "      <th>FEV_KK</th>\n",
       "      <th>FEV_STOER</th>\n",
       "      <th>FEV_HUNGER</th>\n",
       "      <th>BMI</th>\n",
       "    </tr>\n",
       "  </thead>\n",
       "  <tbody>\n",
       "    <tr>\n",
       "      <th>0</th>\n",
       "      <td>0</td>\n",
       "      <td>5.267717</td>\n",
       "      <td>5.338583</td>\n",
       "      <td>5.543307</td>\n",
       "      <td>23.108337</td>\n",
       "    </tr>\n",
       "    <tr>\n",
       "      <th>1</th>\n",
       "      <td>1</td>\n",
       "      <td>8.846154</td>\n",
       "      <td>4.153846</td>\n",
       "      <td>3.307692</td>\n",
       "      <td>26.232232</td>\n",
       "    </tr>\n",
       "    <tr>\n",
       "      <th>2</th>\n",
       "      <td>3</td>\n",
       "      <td>5.142857</td>\n",
       "      <td>5.500000</td>\n",
       "      <td>4.285714</td>\n",
       "      <td>23.455754</td>\n",
       "    </tr>\n",
       "    <tr>\n",
       "      <th>3</th>\n",
       "      <td>7</td>\n",
       "      <td>5.000000</td>\n",
       "      <td>5.000000</td>\n",
       "      <td>4.000000</td>\n",
       "      <td>28.801077</td>\n",
       "    </tr>\n",
       "    <tr>\n",
       "      <th>4</th>\n",
       "      <td>8</td>\n",
       "      <td>7.617647</td>\n",
       "      <td>3.735294</td>\n",
       "      <td>3.088235</td>\n",
       "      <td>25.557152</td>\n",
       "    </tr>\n",
       "  </tbody>\n",
       "</table>\n",
       "</div>"
      ],
      "text/plain": [
       "   bgm_pca_cluster    FEV_KK  FEV_STOER  FEV_HUNGER        BMI\n",
       "0                0  5.267717   5.338583    5.543307  23.108337\n",
       "1                1  8.846154   4.153846    3.307692  26.232232\n",
       "2                3  5.142857   5.500000    4.285714  23.455754\n",
       "3                7  5.000000   5.000000    4.000000  28.801077\n",
       "4                8  7.617647   3.735294    3.088235  25.557152"
      ]
     },
     "execution_count": 636,
     "metadata": {},
     "output_type": "execute_result"
    }
   ],
   "source": [
    "data_bgm_clustered_on_pca_nobmi.groupby('bgm_pca_cluster', as_index=False)['FEV_KK', 'FEV_STOER', 'FEV_HUNGER', 'BMI'].agg('mean')"
   ]
  },
  {
   "cell_type": "markdown",
   "id": "34f2006d-27dd-417d-abc6-37fd571b9bbf",
   "metadata": {},
   "source": [
    "#### ANOVA analysis of BMI between clusters"
   ]
  },
  {
   "cell_type": "code",
   "execution_count": 637,
   "id": "fcf46752-0ee3-4139-93f6-8bd4f692eb4c",
   "metadata": {},
   "outputs": [
    {
     "data": {
      "text/plain": [
       "F_onewayResult(statistic=12.767456676580391, pvalue=9.906761284154145e-08)"
      ]
     },
     "execution_count": 637,
     "metadata": {},
     "output_type": "execute_result"
    }
   ],
   "source": [
    "BMI_clust_0 = np.array(data_bgm_clustered_on_pca_nobmi[data_bgm_clustered_on_pca_nobmi['bgm_pca_cluster'] == 0]['BMI'])\n",
    "BMI_clust_1 = np.array(data_bgm_clustered_on_pca_nobmi[data_bgm_clustered_on_pca_nobmi['bgm_pca_cluster'] == 1]['BMI'])\n",
    "BMI_clust_3 = np.array(data_bgm_clustered_on_pca_nobmi[data_bgm_clustered_on_pca_nobmi['bgm_pca_cluster'] == 3]['BMI'])\n",
    "BMI_clust_8= np.array(data_bgm_clustered_on_pca_nobmi[data_bgm_clustered_on_pca_nobmi['bgm_pca_cluster'] == 8]['BMI'])\n",
    "\n",
    "from scipy.stats import f_oneway\n",
    "f_oneway(BMI_clust_0, BMI_clust_1,\n",
    "         BMI_clust_3, BMI_clust_8)"
   ]
  },
  {
   "cell_type": "code",
   "execution_count": 638,
   "id": "81a40b5d-2100-478c-9ae9-8708d6129904",
   "metadata": {},
   "outputs": [
    {
     "data": {
      "text/html": [
       "<div>\n",
       "<style scoped>\n",
       "    .dataframe tbody tr th:only-of-type {\n",
       "        vertical-align: middle;\n",
       "    }\n",
       "\n",
       "    .dataframe tbody tr th {\n",
       "        vertical-align: top;\n",
       "    }\n",
       "\n",
       "    .dataframe thead th {\n",
       "        text-align: right;\n",
       "    }\n",
       "</style>\n",
       "<table border=\"1\" class=\"dataframe\">\n",
       "  <thead>\n",
       "    <tr style=\"text-align: right;\">\n",
       "      <th></th>\n",
       "      <th>0</th>\n",
       "      <th>1</th>\n",
       "      <th>3</th>\n",
       "      <th>8</th>\n",
       "    </tr>\n",
       "  </thead>\n",
       "  <tbody>\n",
       "    <tr>\n",
       "      <th>0</th>\n",
       "      <td>1.000000e+00</td>\n",
       "      <td>3.369872e-07</td>\n",
       "      <td>0.983274</td>\n",
       "      <td>0.001249</td>\n",
       "    </tr>\n",
       "    <tr>\n",
       "      <th>1</th>\n",
       "      <td>3.369872e-07</td>\n",
       "      <td>1.000000e+00</td>\n",
       "      <td>0.034137</td>\n",
       "      <td>0.801259</td>\n",
       "    </tr>\n",
       "    <tr>\n",
       "      <th>3</th>\n",
       "      <td>9.832739e-01</td>\n",
       "      <td>3.413731e-02</td>\n",
       "      <td>1.000000</td>\n",
       "      <td>0.206278</td>\n",
       "    </tr>\n",
       "    <tr>\n",
       "      <th>8</th>\n",
       "      <td>1.249491e-03</td>\n",
       "      <td>8.012595e-01</td>\n",
       "      <td>0.206278</td>\n",
       "      <td>1.000000</td>\n",
       "    </tr>\n",
       "  </tbody>\n",
       "</table>\n",
       "</div>"
      ],
      "text/plain": [
       "              0             1         3         8\n",
       "0  1.000000e+00  3.369872e-07  0.983274  0.001249\n",
       "1  3.369872e-07  1.000000e+00  0.034137  0.801259\n",
       "3  9.832739e-01  3.413731e-02  1.000000  0.206278\n",
       "8  1.249491e-03  8.012595e-01  0.206278  1.000000"
      ]
     },
     "execution_count": 638,
     "metadata": {},
     "output_type": "execute_result"
    }
   ],
   "source": [
    "from scipy.stats import tukey_hsd\n",
    "bmi_hsd = tukey_hsd(BMI_clust_0, BMI_clust_1,\n",
    "                    BMI_clust_3, BMI_clust_8)\n",
    "pd.DataFrame(bmi_hsd.pvalue, columns=[0, 1, 3, 8], index=[0, 1, 3, 8])"
   ]
  }
 ],
 "metadata": {
  "kernelspec": {
   "display_name": "Python 3 (ipykernel)",
   "language": "python",
   "name": "python3"
  },
  "language_info": {
   "codemirror_mode": {
    "name": "ipython",
    "version": 3
   },
   "file_extension": ".py",
   "mimetype": "text/x-python",
   "name": "python",
   "nbconvert_exporter": "python",
   "pygments_lexer": "ipython3",
   "version": "3.10.6"
  },
  "toc-autonumbering": false,
  "toc-showcode": false,
  "toc-showmarkdowntxt": false,
  "toc-showtags": false
 },
 "nbformat": 4,
 "nbformat_minor": 5
}
